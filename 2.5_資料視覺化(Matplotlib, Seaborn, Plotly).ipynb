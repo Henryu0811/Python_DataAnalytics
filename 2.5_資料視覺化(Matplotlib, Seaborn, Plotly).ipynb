{
 "cells": [
  {
   "cell_type": "code",
   "execution_count": 1,
   "id": "1dc23de5",
   "metadata": {},
   "outputs": [],
   "source": [
    "from sklearn import datasets\n",
    "import pandas as pd\n",
    "import numpy as np"
   ]
  },
  {
   "cell_type": "code",
   "execution_count": 2,
   "id": "4c03025e",
   "metadata": {},
   "outputs": [
    {
     "name": "stdout",
     "output_type": "stream",
     "text": [
      "target_names: ['setosa' 'versicolor' 'virginica']\n"
     ]
    },
    {
     "data": {
      "text/html": [
       "<div>\n",
       "<style scoped>\n",
       "    .dataframe tbody tr th:only-of-type {\n",
       "        vertical-align: middle;\n",
       "    }\n",
       "\n",
       "    .dataframe tbody tr th {\n",
       "        vertical-align: top;\n",
       "    }\n",
       "\n",
       "    .dataframe thead th {\n",
       "        text-align: right;\n",
       "    }\n",
       "</style>\n",
       "<table border=\"1\" class=\"dataframe\">\n",
       "  <thead>\n",
       "    <tr style=\"text-align: right;\">\n",
       "      <th></th>\n",
       "      <th>sepal length (cm)</th>\n",
       "      <th>sepal width (cm)</th>\n",
       "      <th>petal length (cm)</th>\n",
       "      <th>petal width (cm)</th>\n",
       "      <th>target</th>\n",
       "    </tr>\n",
       "  </thead>\n",
       "  <tbody>\n",
       "    <tr>\n",
       "      <th>0</th>\n",
       "      <td>5.1</td>\n",
       "      <td>3.5</td>\n",
       "      <td>1.4</td>\n",
       "      <td>0.2</td>\n",
       "      <td>0</td>\n",
       "    </tr>\n",
       "    <tr>\n",
       "      <th>1</th>\n",
       "      <td>4.9</td>\n",
       "      <td>3.0</td>\n",
       "      <td>1.4</td>\n",
       "      <td>0.2</td>\n",
       "      <td>0</td>\n",
       "    </tr>\n",
       "    <tr>\n",
       "      <th>2</th>\n",
       "      <td>4.7</td>\n",
       "      <td>3.2</td>\n",
       "      <td>1.3</td>\n",
       "      <td>0.2</td>\n",
       "      <td>0</td>\n",
       "    </tr>\n",
       "  </tbody>\n",
       "</table>\n",
       "</div>"
      ],
      "text/plain": [
       "   sepal length (cm)  sepal width (cm)  petal length (cm)  petal width (cm)  \\\n",
       "0                5.1               3.5                1.4               0.2   \n",
       "1                4.9               3.0                1.4               0.2   \n",
       "2                4.7               3.2                1.3               0.2   \n",
       "\n",
       "   target  \n",
       "0       0  \n",
       "1       0  \n",
       "2       0  "
      ]
     },
     "execution_count": 2,
     "metadata": {},
     "output_type": "execute_result"
    }
   ],
   "source": [
    "iris = datasets.load_iris()\n",
    "x = pd.DataFrame(iris['data'], columns=iris['feature_names'])\n",
    "print(\"target_names: \"+str(iris['target_names']))\n",
    "y = pd.DataFrame(iris['target'], columns=['target'])\n",
    "data = pd.concat([x, y], axis=1)\n",
    "data.head(3)"
   ]
  },
  {
   "cell_type": "markdown",
   "id": "993a4947",
   "metadata": {},
   "source": [
    "# Matplotlib"
   ]
  },
  {
   "cell_type": "code",
   "execution_count": 3,
   "id": "9c79913e",
   "metadata": {},
   "outputs": [],
   "source": [
    "import matplotlib.pyplot as plt"
   ]
  },
  {
   "cell_type": "code",
   "execution_count": 4,
   "id": "281c7954",
   "metadata": {},
   "outputs": [
    {
     "data": {
      "text/plain": [
       "[<matplotlib.lines.Line2D at 0x127970bb970>]"
      ]
     },
     "execution_count": 4,
     "metadata": {},
     "output_type": "execute_result"
    },
    {
     "data": {
      "image/png": "[encoded data removed]",
      "text/plain": [
       "<Figure size 432x288 with 1 Axes>"
      ]
     },
     "metadata": {
      "needs_background": "light"
     },
     "output_type": "display_data"
    }
   ],
   "source": [
    "plt.plot([1, 2, 3, 4])"
   ]
  },
  {
   "cell_type": "code",
   "execution_count": 7,
   "id": "167c9275",
   "metadata": {},
   "outputs": [
    {
     "data": {
      "text/plain": [
       "Text(0.5, 0, 'x label')"
      ]
     },
     "execution_count": 7,
     "metadata": {},
     "output_type": "execute_result"
    },
    {
     "data": {
      "image/png": "[encoded data removed]",
      "text/plain": [
       "<Figure size 432x288 with 1 Axes>"
      ]
     },
     "metadata": {
      "needs_background": "light"
     },
     "output_type": "display_data"
    }
   ],
   "source": [
    "plt.plot([1, 2, 3, 4], [1, 4, 9, 16])\n",
    "plt.ylabel('y label')\n",
    "plt.xlabel('x label')"
   ]
  },
  {
   "cell_type": "code",
   "execution_count": 12,
   "id": "b8aa2018",
   "metadata": {},
   "outputs": [
    {
     "data": {
      "text/plain": [
       "[<matplotlib.lines.Line2D at 0x12797b78640>]"
      ]
     },
     "execution_count": 12,
     "metadata": {},
     "output_type": "execute_result"
    },
    {
     "data": {
      "image/png": "[encoded data removed]",
      "text/plain": [
       "<Figure size 432x288 with 1 Axes>"
      ]
     },
     "metadata": {
      "needs_background": "light"
     },
     "output_type": "display_data"
    }
   ],
   "source": [
    "plt.plot([1, 2, 3, 4], [1, 4, 9, 16], 'g--')"
   ]
  },
  {
   "cell_type": "code",
   "execution_count": 13,
   "id": "2d778eb7",
   "metadata": {},
   "outputs": [
    {
     "data": {
      "text/plain": [
       "(0.0, 6.0, 0.0, 20.0)"
      ]
     },
     "execution_count": 13,
     "metadata": {},
     "output_type": "execute_result"
    },
    {
     "data": {
      "image/png": "[encoded data removed]",
      "text/plain": [
       "<Figure size 432x288 with 1 Axes>"
      ]
     },
     "metadata": {
      "needs_background": "light"
     },
     "output_type": "display_data"
    }
   ],
   "source": [
    "plt.plot([1, 2, 3, 4], [1, 4, 9, 16], 'ro')\n",
    "plt.axis([0, 6, 0, 20])"
   ]
  },
  {
   "cell_type": "code",
   "execution_count": 16,
   "id": "da515a30",
   "metadata": {},
   "outputs": [
    {
     "name": "stdout",
     "output_type": "stream",
     "text": [
      "t: [0.  0.2 0.4 0.6 0.8 1.  1.2 1.4 1.6 1.8 2.  2.2 2.4 2.6 2.8 3.  3.2 3.4\n",
      " 3.6 3.8 4.  4.2 4.4 4.6 4.8]\n"
     ]
    },
    {
     "data": {
      "text/plain": [
       "[<matplotlib.lines.Line2D at 0x1279977be20>,\n",
       " <matplotlib.lines.Line2D at 0x1279977bdf0>,\n",
       " <matplotlib.lines.Line2D at 0x1279977bfd0>]"
      ]
     },
     "execution_count": 16,
     "metadata": {},
     "output_type": "execute_result"
    },
    {
     "data": {
      "image/png": "[encoded data removed]",
      "text/plain": [
       "<Figure size 432x288 with 1 Axes>"
      ]
     },
     "metadata": {
      "needs_background": "light"
     },
     "output_type": "display_data"
    }
   ],
   "source": [
    "t = np.arange(0., 5., 0.2) # t 為從 0 開始 +0.2 遞增到 5\n",
    "print(\"t: \" + str(t))\n",
    "# red dash, blue square, green triangle\n",
    "plt.plot(t, t, 'r--', t, t**2, 'bs', t, t**3, 'g^')"
   ]
  },
  {
   "cell_type": "code",
   "execution_count": 21,
   "id": "0f1e4f69",
   "metadata": {},
   "outputs": [
    {
     "data": {
      "text/plain": [
       "<BarContainer object of 50 artists>"
      ]
     },
     "execution_count": 21,
     "metadata": {},
     "output_type": "execute_result"
    },
    {
     "data": {
      "image/png": "[encoded data removed]",
      "text/plain": [
       "<Figure size 432x288 with 1 Axes>"
      ]
     },
     "metadata": {
      "needs_background": "light"
     },
     "output_type": "display_data"
    }
   ],
   "source": [
    "x = [4, 4, 7, 7, 8, 9, 10, 10, 10, 11, 11, 12, 12, 12, 12, 13, 13, 13, 13, 14, 14, 14, 14, 15, 15, 15, 16, 16, 17, 17, 17, 18, 18, 18, 18, 19, 19, 19, 20, 20, 20, 20, 20, 22, 23, 24, 24, 24, 24, 25]\n",
    "y = [2, 10, 4, 22, 16, 10, 18, 26, 34, 17, 28, 14, 20, 24, 28, 26, 34, 34, 46, 26, 36, 60, 80, 20, 26, 54, 32, 40, 32, 40, 50, 42, 56, 76, 84, 36, 46, 68, 32, 48, 52, 56, 64, 66, 54, 70, 92, 93, 120, 85]\n",
    "plt.bar(x, y) # 直方圖"
   ]
  },
  {
   "cell_type": "code",
   "execution_count": 23,
   "id": "b86c7332",
   "metadata": {},
   "outputs": [
    {
     "data": {
      "text/plain": [
       "<matplotlib.collections.PathCollection at 0x127999f3df0>"
      ]
     },
     "execution_count": 23,
     "metadata": {},
     "output_type": "execute_result"
    },
    {
     "data": {
      "image/png": "[encoded data removed]",
      "text/plain": [
       "<Figure size 432x288 with 1 Axes>"
      ]
     },
     "metadata": {
      "needs_background": "light"
     },
     "output_type": "display_data"
    }
   ],
   "source": [
    "x = [4, 4, 7, 7, 8, 9, 10, 10, 10, 11, 11, 12, 12, 12, 12, 13, 13, 13, 13, 14, 14, 14, 14, 15, 15, 15, 16, 16, 17, 17, 17, 18, 18, 18, 18, 19, 19, 19, 20, 20, 20, 20, 20, 22, 23, 24, 24, 24, 24, 25]\n",
    "y = [2, 10, 4, 22, 16, 10, 18, 26, 34, 17, 28, 14, 20, 24, 28, 26, 34, 34, 46, 26, 36, 60, 80, 20, 26, 54, 32, 40, 32, 40, 50, 42, 56, 76, 84, 36, 46, 68, 32, 48, 52, 56, 64, 66, 54, 70, 92, 93, 120, 85]\n",
    "plt.scatter(x, y) # 散佈圖"
   ]
  },
  {
   "cell_type": "markdown",
   "id": "c5f5c30f",
   "metadata": {},
   "source": [
    "# Pandas plot"
   ]
  },
  {
   "cell_type": "code",
   "execution_count": 25,
   "id": "b4144eda",
   "metadata": {},
   "outputs": [
    {
     "data": {
      "text/html": [
       "<div>\n",
       "<style scoped>\n",
       "    .dataframe tbody tr th:only-of-type {\n",
       "        vertical-align: middle;\n",
       "    }\n",
       "\n",
       "    .dataframe tbody tr th {\n",
       "        vertical-align: top;\n",
       "    }\n",
       "\n",
       "    .dataframe thead th {\n",
       "        text-align: right;\n",
       "    }\n",
       "</style>\n",
       "<table border=\"1\" class=\"dataframe\">\n",
       "  <thead>\n",
       "    <tr style=\"text-align: right;\">\n",
       "      <th></th>\n",
       "      <th>sepal length (cm)</th>\n",
       "      <th>sepal width (cm)</th>\n",
       "      <th>petal length (cm)</th>\n",
       "      <th>petal width (cm)</th>\n",
       "      <th>target</th>\n",
       "    </tr>\n",
       "  </thead>\n",
       "  <tbody>\n",
       "    <tr>\n",
       "      <th>0</th>\n",
       "      <td>5.1</td>\n",
       "      <td>3.5</td>\n",
       "      <td>1.4</td>\n",
       "      <td>0.2</td>\n",
       "      <td>0</td>\n",
       "    </tr>\n",
       "    <tr>\n",
       "      <th>1</th>\n",
       "      <td>4.9</td>\n",
       "      <td>3.0</td>\n",
       "      <td>1.4</td>\n",
       "      <td>0.2</td>\n",
       "      <td>0</td>\n",
       "    </tr>\n",
       "    <tr>\n",
       "      <th>2</th>\n",
       "      <td>4.7</td>\n",
       "      <td>3.2</td>\n",
       "      <td>1.3</td>\n",
       "      <td>0.2</td>\n",
       "      <td>0</td>\n",
       "    </tr>\n",
       "    <tr>\n",
       "      <th>3</th>\n",
       "      <td>4.6</td>\n",
       "      <td>3.1</td>\n",
       "      <td>1.5</td>\n",
       "      <td>0.2</td>\n",
       "      <td>0</td>\n",
       "    </tr>\n",
       "    <tr>\n",
       "      <th>4</th>\n",
       "      <td>5.0</td>\n",
       "      <td>3.6</td>\n",
       "      <td>1.4</td>\n",
       "      <td>0.2</td>\n",
       "      <td>0</td>\n",
       "    </tr>\n",
       "  </tbody>\n",
       "</table>\n",
       "</div>"
      ],
      "text/plain": [
       "   sepal length (cm)  sepal width (cm)  petal length (cm)  petal width (cm)  \\\n",
       "0                5.1               3.5                1.4               0.2   \n",
       "1                4.9               3.0                1.4               0.2   \n",
       "2                4.7               3.2                1.3               0.2   \n",
       "3                4.6               3.1                1.5               0.2   \n",
       "4                5.0               3.6                1.4               0.2   \n",
       "\n",
       "   target  \n",
       "0       0  \n",
       "1       0  \n",
       "2       0  \n",
       "3       0  \n",
       "4       0  "
      ]
     },
     "execution_count": 25,
     "metadata": {},
     "output_type": "execute_result"
    }
   ],
   "source": [
    "data.head(5)"
   ]
  },
  {
   "cell_type": "code",
   "execution_count": 27,
   "id": "b22ef12e",
   "metadata": {},
   "outputs": [
    {
     "data": {
      "text/plain": [
       "<AxesSubplot:xlabel='sepal length (cm)', ylabel='sepal width (cm)'>"
      ]
     },
     "execution_count": 27,
     "metadata": {},
     "output_type": "execute_result"
    },
    {
     "data": {
      "image/png": "[encoded data removed]",
      "text/plain": [
       "<Figure size 432x288 with 2 Axes>"
      ]
     },
     "metadata": {
      "needs_background": "light"
     },
     "output_type": "display_data"
    }
   ],
   "source": [
    "# data 是 pandas 的資料結構\n",
    "data.plot.scatter(x='sepal length (cm)', y='sepal width (cm)', c='target')"
   ]
  },
  {
   "cell_type": "code",
   "execution_count": 28,
   "id": "015bc1cc",
   "metadata": {},
   "outputs": [],
   "source": [
    "color = {\n",
    "    0: 'r',\n",
    "    1: 'g',\n",
    "    2: 'b'\n",
    "}"
   ]
  },
  {
   "cell_type": "code",
   "execution_count": 29,
   "id": "abae5eaa",
   "metadata": {},
   "outputs": [],
   "source": [
    "data['color'] = data['target'].map(color)"
   ]
  },
  {
   "cell_type": "code",
   "execution_count": 30,
   "id": "0675ed82",
   "metadata": {},
   "outputs": [
    {
     "data": {
      "text/html": [
       "<div>\n",
       "<style scoped>\n",
       "    .dataframe tbody tr th:only-of-type {\n",
       "        vertical-align: middle;\n",
       "    }\n",
       "\n",
       "    .dataframe tbody tr th {\n",
       "        vertical-align: top;\n",
       "    }\n",
       "\n",
       "    .dataframe thead th {\n",
       "        text-align: right;\n",
       "    }\n",
       "</style>\n",
       "<table border=\"1\" class=\"dataframe\">\n",
       "  <thead>\n",
       "    <tr style=\"text-align: right;\">\n",
       "      <th></th>\n",
       "      <th>sepal length (cm)</th>\n",
       "      <th>sepal width (cm)</th>\n",
       "      <th>petal length (cm)</th>\n",
       "      <th>petal width (cm)</th>\n",
       "      <th>target</th>\n",
       "      <th>color</th>\n",
       "    </tr>\n",
       "  </thead>\n",
       "  <tbody>\n",
       "    <tr>\n",
       "      <th>0</th>\n",
       "      <td>5.1</td>\n",
       "      <td>3.5</td>\n",
       "      <td>1.4</td>\n",
       "      <td>0.2</td>\n",
       "      <td>0</td>\n",
       "      <td>r</td>\n",
       "    </tr>\n",
       "    <tr>\n",
       "      <th>1</th>\n",
       "      <td>4.9</td>\n",
       "      <td>3.0</td>\n",
       "      <td>1.4</td>\n",
       "      <td>0.2</td>\n",
       "      <td>0</td>\n",
       "      <td>r</td>\n",
       "    </tr>\n",
       "    <tr>\n",
       "      <th>2</th>\n",
       "      <td>4.7</td>\n",
       "      <td>3.2</td>\n",
       "      <td>1.3</td>\n",
       "      <td>0.2</td>\n",
       "      <td>0</td>\n",
       "      <td>r</td>\n",
       "    </tr>\n",
       "    <tr>\n",
       "      <th>3</th>\n",
       "      <td>4.6</td>\n",
       "      <td>3.1</td>\n",
       "      <td>1.5</td>\n",
       "      <td>0.2</td>\n",
       "      <td>0</td>\n",
       "      <td>r</td>\n",
       "    </tr>\n",
       "    <tr>\n",
       "      <th>4</th>\n",
       "      <td>5.0</td>\n",
       "      <td>3.6</td>\n",
       "      <td>1.4</td>\n",
       "      <td>0.2</td>\n",
       "      <td>0</td>\n",
       "      <td>r</td>\n",
       "    </tr>\n",
       "  </tbody>\n",
       "</table>\n",
       "</div>"
      ],
      "text/plain": [
       "   sepal length (cm)  sepal width (cm)  petal length (cm)  petal width (cm)  \\\n",
       "0                5.1               3.5                1.4               0.2   \n",
       "1                4.9               3.0                1.4               0.2   \n",
       "2                4.7               3.2                1.3               0.2   \n",
       "3                4.6               3.1                1.5               0.2   \n",
       "4                5.0               3.6                1.4               0.2   \n",
       "\n",
       "   target color  \n",
       "0       0     r  \n",
       "1       0     r  \n",
       "2       0     r  \n",
       "3       0     r  \n",
       "4       0     r  "
      ]
     },
     "execution_count": 30,
     "metadata": {},
     "output_type": "execute_result"
    }
   ],
   "source": [
    "data.head(5)"
   ]
  },
  {
   "cell_type": "code",
   "execution_count": 31,
   "id": "6a246d31",
   "metadata": {},
   "outputs": [
    {
     "data": {
      "text/plain": [
       "<AxesSubplot:xlabel='sepal length (cm)', ylabel='sepal width (cm)'>"
      ]
     },
     "execution_count": 31,
     "metadata": {},
     "output_type": "execute_result"
    },
    {
     "data": {
      "image/png": "[encoded data removed]",
      "text/plain": [
       "<Figure size 432x288 with 1 Axes>"
      ]
     },
     "metadata": {
      "needs_background": "light"
     },
     "output_type": "display_data"
    }
   ],
   "source": [
    "data.plot.scatter(x='sepal length (cm)', y='sepal width (cm)', c='color')"
   ]
  },
  {
   "cell_type": "markdown",
   "id": "6f4b9518",
   "metadata": {},
   "source": [
    "# Add label"
   ]
  },
  {
   "cell_type": "code",
   "execution_count": 33,
   "id": "884d0417",
   "metadata": {},
   "outputs": [
    {
     "data": {
      "text/plain": [
       "<AxesSubplot:xlabel='sepal length (cm)', ylabel='petal width (cm)'>"
      ]
     },
     "execution_count": 33,
     "metadata": {},
     "output_type": "execute_result"
    },
    {
     "data": {
      "image/png": "[encoded data removed]",
      "text/plain": [
       "<Figure size 432x288 with 1 Axes>"
      ]
     },
     "metadata": {
      "needs_background": "light"
     },
     "output_type": "display_data"
    },
    {
     "data": {
      "image/png": "[encoded data removed]",
      "text/plain": [
       "<Figure size 432x288 with 1 Axes>"
      ]
     },
     "metadata": {
      "needs_background": "light"
     },
     "output_type": "display_data"
    },
    {
     "data": {
      "image/png": "[encoded data removed]",
      "text/plain": [
       "<Figure size 432x288 with 1 Axes>"
      ]
     },
     "metadata": {
      "needs_background": "light"
     },
     "output_type": "display_data"
    }
   ],
   "source": [
    "data[data['target']==0].plot.scatter(x='sepal length (cm)', y='petal width (cm)',color='r', label='setosa')\n",
    "data[data['target']==1].plot.scatter(x='sepal length (cm)', y='petal width (cm)',color='g', label='versicolor')\n",
    "data[data['target']==2].plot.scatter(x='sepal length (cm)', y='petal width (cm)',color='b', label='virginica')"
   ]
  },
  {
   "cell_type": "code",
   "execution_count": 36,
   "id": "d084176e",
   "metadata": {},
   "outputs": [
    {
     "data": {
      "text/plain": [
       "<AxesSubplot:xlabel='sepal length (cm)', ylabel='petal width (cm)'>"
      ]
     },
     "execution_count": 36,
     "metadata": {},
     "output_type": "execute_result"
    },
    {
     "data": {
      "image/png": "[encoded data removed]",
      "text/plain": [
       "<Figure size 432x288 with 1 Axes>"
      ]
     },
     "metadata": {
      "needs_background": "light"
     },
     "output_type": "display_data"
    }
   ],
   "source": [
    "# 第一個 ax 用來存第一種花的圖\n",
    "ax = data[data['target']==0].plot.scatter(x='sepal length (cm)', y='petal width (cm)',color='r', label='setosa')\n",
    "# ax=ax 是第一種花跟第二種花的圖的結合，結合後再存入 ax\n",
    "ax = data[data['target']==1].plot.scatter(x='sepal length (cm)', y='petal width (cm)',color='g', label='versicolor', ax=ax)\n",
    "# 第三步的 ax=ax 是把第三種花跟前兩種結合，最後輸出\n",
    "data[data['target']==2].plot.scatter(x='sepal length (cm)', y='petal width (cm)',color='b', label='virignica', ax=ax)"
   ]
  },
  {
   "cell_type": "code",
   "execution_count": 43,
   "id": "7d586a42",
   "metadata": {},
   "outputs": [
    {
     "data": {
      "image/png": "[encoded data removed]",
      "text/plain": [
       "<Figure size 432x288 with 1 Axes>"
      ]
     },
     "metadata": {
      "needs_background": "light"
     },
     "output_type": "display_data"
    }
   ],
   "source": [
    "N = 50\n",
    "x = np.random.rand(N)\n",
    "y = np.random.rand(N)\n",
    "colors = np.random.rand(N)\n",
    "area = np.pi * (15 * np.random.rand(N))**2 # 圓面積: 半徑 * 半徑 * 3.14\n",
    "\n",
    "plt.scatter(x, y, s=area, c=colors, alpha=0.5) # alpha 透明度\n",
    "plt.show()"
   ]
  },
  {
   "cell_type": "code",
   "execution_count": 44,
   "id": "59fd18f3",
   "metadata": {
    "scrolled": true
   },
   "outputs": [
    {
     "data": {
      "text/plain": [
       "['Solarize_Light2',\n",
       " '_classic_test_patch',\n",
       " '_mpl-gallery',\n",
       " '_mpl-gallery-nogrid',\n",
       " 'bmh',\n",
       " 'classic',\n",
       " 'dark_background',\n",
       " 'fast',\n",
       " 'fivethirtyeight',\n",
       " 'ggplot',\n",
       " 'grayscale',\n",
       " 'seaborn',\n",
       " 'seaborn-bright',\n",
       " 'seaborn-colorblind',\n",
       " 'seaborn-dark',\n",
       " 'seaborn-dark-palette',\n",
       " 'seaborn-darkgrid',\n",
       " 'seaborn-deep',\n",
       " 'seaborn-muted',\n",
       " 'seaborn-notebook',\n",
       " 'seaborn-paper',\n",
       " 'seaborn-pastel',\n",
       " 'seaborn-poster',\n",
       " 'seaborn-talk',\n",
       " 'seaborn-ticks',\n",
       " 'seaborn-white',\n",
       " 'seaborn-whitegrid',\n",
       " 'tableau-colorblind10']"
      ]
     },
     "execution_count": 44,
     "metadata": {},
     "output_type": "execute_result"
    }
   ],
   "source": [
    "plt.style.available"
   ]
  },
  {
   "cell_type": "code",
   "execution_count": 45,
   "id": "a5b9fddb",
   "metadata": {},
   "outputs": [],
   "source": [
    "plt.style.use('ggplot')"
   ]
  },
  {
   "cell_type": "code",
   "execution_count": 46,
   "id": "5d020e38",
   "metadata": {},
   "outputs": [
    {
     "data": {
      "image/png": "[encoded data removed]",
      "text/plain": [
       "<Figure size 432x288 with 1 Axes>"
      ]
     },
     "metadata": {},
     "output_type": "display_data"
    }
   ],
   "source": [
    "N = 50\n",
    "x = np.random.rand(N)\n",
    "y = np.random.rand(N)\n",
    "colors = np.random.rand(N)\n",
    "area = np.pi * (15 * np.random.rand(N))**2 # 圓面積: 半徑 * 半徑 * 3.14\n",
    "\n",
    "plt.scatter(x, y, s=area, c=colors, alpha=0.5) # alpha 透明度\n",
    "plt.show()"
   ]
  },
  {
   "cell_type": "code",
   "execution_count": 47,
   "id": "ba7a0b8c",
   "metadata": {},
   "outputs": [],
   "source": [
    "plt.style.use('classic')"
   ]
  },
  {
   "cell_type": "code",
   "execution_count": 49,
   "id": "9c81deea",
   "metadata": {},
   "outputs": [
    {
     "data": {
      "image/png": "[encoded data removed]",
      "text/plain": [
       "<Figure size 640x480 with 1 Axes>"
      ]
     },
     "metadata": {},
     "output_type": "display_data"
    }
   ],
   "source": [
    "N = 50\n",
    "x = np.random.rand(N)\n",
    "y = np.random.rand(N)\n",
    "colors = np.random.rand(N)\n",
    "area = np.pi * (15 * np.random.rand(N))**2 # 圓面積: 半徑 * 半徑 * 3.14\n",
    "\n",
    "plt.scatter(x, y, s=area, c=colors, alpha=0.5) # alpha 透明度\n",
    "plt.show()"
   ]
  },
  {
   "cell_type": "markdown",
   "id": "78ff9eec",
   "metadata": {},
   "source": [
    "# Seaborn"
   ]
  },
  {
   "cell_type": "code",
   "execution_count": 50,
   "id": "93b7e041",
   "metadata": {},
   "outputs": [],
   "source": [
    "import seaborn as sns"
   ]
  },
  {
   "cell_type": "code",
   "execution_count": 54,
   "id": "350f116c",
   "metadata": {},
   "outputs": [
    {
     "name": "stderr",
     "output_type": "stream",
     "text": [
      "C:\\Users\\cody8\\Anaconda3\\lib\\site-packages\\seaborn\\_decorators.py:36: FutureWarning: Pass the following variables as keyword args: x, y. From version 0.12, the only valid positional argument will be `data`, and passing other arguments without an explicit keyword will result in an error or misinterpretation.\n",
      "  warnings.warn(\n"
     ]
    },
    {
     "data": {
      "text/plain": [
       "<seaborn.axisgrid.FacetGrid at 0x1279b30a1f0>"
      ]
     },
     "execution_count": 54,
     "metadata": {},
     "output_type": "execute_result"
    },
    {
     "data": {
      "image/png": "[encoded data removed]",
      "text/plain": [
       "<Figure size 467.725x400 with 1 Axes>"
      ]
     },
     "metadata": {},
     "output_type": "display_data"
    }
   ],
   "source": [
    "sns.lmplot('sepal length (cm)','petal width (cm)',data=data, fit_reg=False, hue='target')"
   ]
  },
  {
   "cell_type": "code",
   "execution_count": 55,
   "id": "f9ce75ca",
   "metadata": {},
   "outputs": [],
   "source": [
    "target_name = {\n",
    "    0: 'setosa',\n",
    "    1: 'versicolor',\n",
    "    2: 'virginica'\n",
    "}"
   ]
  },
  {
   "cell_type": "code",
   "execution_count": 56,
   "id": "03eadee8",
   "metadata": {},
   "outputs": [],
   "source": [
    "data['target_name'] = data['target'].map(target_name)"
   ]
  },
  {
   "cell_type": "code",
   "execution_count": 59,
   "id": "02a0fcbe",
   "metadata": {},
   "outputs": [
    {
     "name": "stderr",
     "output_type": "stream",
     "text": [
      "C:\\Users\\cody8\\Anaconda3\\lib\\site-packages\\seaborn\\_decorators.py:36: FutureWarning: Pass the following variables as keyword args: x, y. From version 0.12, the only valid positional argument will be `data`, and passing other arguments without an explicit keyword will result in an error or misinterpretation.\n",
      "  warnings.warn(\n"
     ]
    },
    {
     "data": {
      "text/plain": [
       "<seaborn.axisgrid.FacetGrid at 0x1279b6d3970>"
      ]
     },
     "execution_count": 59,
     "metadata": {},
     "output_type": "execute_result"
    },
    {
     "data": {
      "image/png": "[encoded data removed]",
      "text/plain": [
       "<Figure size 535.725x400 with 1 Axes>"
      ]
     },
     "metadata": {},
     "output_type": "display_data"
    }
   ],
   "source": [
    "# lmplot() 函式，只要用來畫多個線性的回歸線\n",
    "# fit_reg=False，去掉回歸線的意思\n",
    "sns.lmplot('sepal length (cm)', 'petal width (cm)', data=data, fit_reg=False, hue='target_name')"
   ]
  },
  {
   "cell_type": "markdown",
   "id": "eb94086d",
   "metadata": {},
   "source": [
    "# Plotly"
   ]
  },
  {
   "cell_type": "code",
   "execution_count": 1,
   "id": "14ede5b4",
   "metadata": {},
   "outputs": [
    {
     "data": {
      "text/html": [
       "        <script type=\"text/javascript\">\n",
       "        window.PlotlyConfig = {MathJaxConfig: 'local'};\n",
       "        if (window.MathJax) {MathJax.Hub.Config({SVG: {font: \"STIX-Web\"}});}\n",
       "        if (typeof require !== 'undefined') {\n",
       "        require.undef(\"plotly\");\n",
       "        requirejs.config({\n",
       "            paths: {\n",
       "                'plotly': ['https://cdn.plot.ly/plotly-2.9.0.min']\n",
       "            }\n",
       "        });\n",
       "        require(['plotly'], function(Plotly) {\n",
       "            window._Plotly = Plotly;\n",
       "        });\n",
       "        }\n",
       "        </script>\n",
       "        "
      ]
     },
     "metadata": {},
     "output_type": "display_data"
    },
    {
     "data": {
      "application/vnd.plotly.v1+json": {
       "config": {
        "linkText": "Export to plot.ly",
        "plotlyServerURL": "https://plot.ly",
        "showLink": false
       },
       "data": [
        {
         "type": "scatter",
         "x": [
          1,
          2,
          3,
          4
         ],
         "y": [
          4,
          3,
          2,
          1
         ]
        }
       ],
       "layout": {
        "template": {
         "data": {
          "bar": [
           {
            "error_x": {
             "color": "#2a3f5f"
            },
            "error_y": {
             "color": "#2a3f5f"
            },
            "marker": {
             "line": {
              "color": "#E5ECF6",
              "width": 0.5
             },
             "pattern": {
              "fillmode": "overlay",
              "size": 10,
              "solidity": 0.2
             }
            },
            "type": "bar"
           }
          ],
          "barpolar": [
           {
            "marker": {
             "line": {
              "color": "#E5ECF6",
              "width": 0.5
             },
             "pattern": {
              "fillmode": "overlay",
              "size": 10,
              "solidity": 0.2
             }
            },
            "type": "barpolar"
           }
          ],
          "carpet": [
           {
            "aaxis": {
             "endlinecolor": "#2a3f5f",
             "gridcolor": "white",
             "linecolor": "white",
             "minorgridcolor": "white",
             "startlinecolor": "#2a3f5f"
            },
            "baxis": {
             "endlinecolor": "#2a3f5f",
             "gridcolor": "white",
             "linecolor": "white",
             "minorgridcolor": "white",
             "startlinecolor": "#2a3f5f"
            },
            "type": "carpet"
           }
          ],
          "choropleth": [
           {
            "colorbar": {
             "outlinewidth": 0,
             "ticks": ""
            },
            "type": "choropleth"
           }
          ],
          "contour": [
           {
            "colorbar": {
             "outlinewidth": 0,
             "ticks": ""
            },
            "colorscale": [
             [
              0,
              "#0d0887"
             ],
             [
              0.1111111111111111,
              "#46039f"
             ],
             [
              0.2222222222222222,
              "#7201a8"
             ],
             [
              0.3333333333333333,
              "#9c179e"
             ],
             [
              0.4444444444444444,
              "#bd3786"
             ],
             [
              0.5555555555555556,
              "#d8576b"
             ],
             [
              0.6666666666666666,
              "#ed7953"
             ],
             [
              0.7777777777777778,
              "#fb9f3a"
             ],
             [
              0.8888888888888888,
              "#fdca26"
             ],
             [
              1,
              "#f0f921"
             ]
            ],
            "type": "contour"
           }
          ],
          "contourcarpet": [
           {
            "colorbar": {
             "outlinewidth": 0,
             "ticks": ""
            },
            "type": "contourcarpet"
           }
          ],
          "heatmap": [
           {
            "colorbar": {
             "outlinewidth": 0,
             "ticks": ""
            },
            "colorscale": [
             [
              0,
              "#0d0887"
             ],
             [
              0.1111111111111111,
              "#46039f"
             ],
             [
              0.2222222222222222,
              "#7201a8"
             ],
             [
              0.3333333333333333,
              "#9c179e"
             ],
             [
              0.4444444444444444,
              "#bd3786"
             ],
             [
              0.5555555555555556,
              "#d8576b"
             ],
             [
              0.6666666666666666,
              "#ed7953"
             ],
             [
              0.7777777777777778,
              "#fb9f3a"
             ],
             [
              0.8888888888888888,
              "#fdca26"
             ],
             [
              1,
              "#f0f921"
             ]
            ],
            "type": "heatmap"
           }
          ],
          "heatmapgl": [
           {
            "colorbar": {
             "outlinewidth": 0,
             "ticks": ""
            },
            "colorscale": [
             [
              0,
              "#0d0887"
             ],
             [
              0.1111111111111111,
              "#46039f"
             ],
             [
              0.2222222222222222,
              "#7201a8"
             ],
             [
              0.3333333333333333,
              "#9c179e"
             ],
             [
              0.4444444444444444,
              "#bd3786"
             ],
             [
              0.5555555555555556,
              "#d8576b"
             ],
             [
              0.6666666666666666,
              "#ed7953"
             ],
             [
              0.7777777777777778,
              "#fb9f3a"
             ],
             [
              0.8888888888888888,
              "#fdca26"
             ],
             [
              1,
              "#f0f921"
             ]
            ],
            "type": "heatmapgl"
           }
          ],
          "histogram": [
           {
            "marker": {
             "pattern": {
              "fillmode": "overlay",
              "size": 10,
              "solidity": 0.2
             }
            },
            "type": "histogram"
           }
          ],
          "histogram2d": [
           {
            "colorbar": {
             "outlinewidth": 0,
             "ticks": ""
            },
            "colorscale": [
             [
              0,
              "#0d0887"
             ],
             [
              0.1111111111111111,
              "#46039f"
             ],
             [
              0.2222222222222222,
              "#7201a8"
             ],
             [
              0.3333333333333333,
              "#9c179e"
             ],
             [
              0.4444444444444444,
              "#bd3786"
             ],
             [
              0.5555555555555556,
              "#d8576b"
             ],
             [
              0.6666666666666666,
              "#ed7953"
             ],
             [
              0.7777777777777778,
              "#fb9f3a"
             ],
             [
              0.8888888888888888,
              "#fdca26"
             ],
             [
              1,
              "#f0f921"
             ]
            ],
            "type": "histogram2d"
           }
          ],
          "histogram2dcontour": [
           {
            "colorbar": {
             "outlinewidth": 0,
             "ticks": ""
            },
            "colorscale": [
             [
              0,
              "#0d0887"
             ],
             [
              0.1111111111111111,
              "#46039f"
             ],
             [
              0.2222222222222222,
              "#7201a8"
             ],
             [
              0.3333333333333333,
              "#9c179e"
             ],
             [
              0.4444444444444444,
              "#bd3786"
             ],
             [
              0.5555555555555556,
              "#d8576b"
             ],
             [
              0.6666666666666666,
              "#ed7953"
             ],
             [
              0.7777777777777778,
              "#fb9f3a"
             ],
             [
              0.8888888888888888,
              "#fdca26"
             ],
             [
              1,
              "#f0f921"
             ]
            ],
            "type": "histogram2dcontour"
           }
          ],
          "mesh3d": [
           {
            "colorbar": {
             "outlinewidth": 0,
             "ticks": ""
            },
            "type": "mesh3d"
           }
          ],
          "parcoords": [
           {
            "line": {
             "colorbar": {
              "outlinewidth": 0,
              "ticks": ""
             }
            },
            "type": "parcoords"
           }
          ],
          "pie": [
           {
            "automargin": true,
            "type": "pie"
           }
          ],
          "scatter": [
           {
            "marker": {
             "colorbar": {
              "outlinewidth": 0,
              "ticks": ""
             }
            },
            "type": "scatter"
           }
          ],
          "scatter3d": [
           {
            "line": {
             "colorbar": {
              "outlinewidth": 0,
              "ticks": ""
             }
            },
            "marker": {
             "colorbar": {
              "outlinewidth": 0,
              "ticks": ""
             }
            },
            "type": "scatter3d"
           }
          ],
          "scattercarpet": [
           {
            "marker": {
             "colorbar": {
              "outlinewidth": 0,
              "ticks": ""
             }
            },
            "type": "scattercarpet"
           }
          ],
          "scattergeo": [
           {
            "marker": {
             "colorbar": {
              "outlinewidth": 0,
              "ticks": ""
             }
            },
            "type": "scattergeo"
           }
          ],
          "scattergl": [
           {
            "marker": {
             "colorbar": {
              "outlinewidth": 0,
              "ticks": ""
             }
            },
            "type": "scattergl"
           }
          ],
          "scattermapbox": [
           {
            "marker": {
             "colorbar": {
              "outlinewidth": 0,
              "ticks": ""
             }
            },
            "type": "scattermapbox"
           }
          ],
          "scatterpolar": [
           {
            "marker": {
             "colorbar": {
              "outlinewidth": 0,
              "ticks": ""
             }
            },
            "type": "scatterpolar"
           }
          ],
          "scatterpolargl": [
           {
            "marker": {
             "colorbar": {
              "outlinewidth": 0,
              "ticks": ""
             }
            },
            "type": "scatterpolargl"
           }
          ],
          "scatterternary": [
           {
            "marker": {
             "colorbar": {
              "outlinewidth": 0,
              "ticks": ""
             }
            },
            "type": "scatterternary"
           }
          ],
          "surface": [
           {
            "colorbar": {
             "outlinewidth": 0,
             "ticks": ""
            },
            "colorscale": [
             [
              0,
              "#0d0887"
             ],
             [
              0.1111111111111111,
              "#46039f"
             ],
             [
              0.2222222222222222,
              "#7201a8"
             ],
             [
              0.3333333333333333,
              "#9c179e"
             ],
             [
              0.4444444444444444,
              "#bd3786"
             ],
             [
              0.5555555555555556,
              "#d8576b"
             ],
             [
              0.6666666666666666,
              "#ed7953"
             ],
             [
              0.7777777777777778,
              "#fb9f3a"
             ],
             [
              0.8888888888888888,
              "#fdca26"
             ],
             [
              1,
              "#f0f921"
             ]
            ],
            "type": "surface"
           }
          ],
          "table": [
           {
            "cells": {
             "fill": {
              "color": "#EBF0F8"
             },
             "line": {
              "color": "white"
             }
            },
            "header": {
             "fill": {
              "color": "#C8D4E3"
             },
             "line": {
              "color": "white"
             }
            },
            "type": "table"
           }
          ]
         },
         "layout": {
          "annotationdefaults": {
           "arrowcolor": "#2a3f5f",
           "arrowhead": 0,
           "arrowwidth": 1
          },
          "autotypenumbers": "strict",
          "coloraxis": {
           "colorbar": {
            "outlinewidth": 0,
            "ticks": ""
           }
          },
          "colorscale": {
           "diverging": [
            [
             0,
             "#8e0152"
            ],
            [
             0.1,
             "#c51b7d"
            ],
            [
             0.2,
             "#de77ae"
            ],
            [
             0.3,
             "#f1b6da"
            ],
            [
             0.4,
             "#fde0ef"
            ],
            [
             0.5,
             "#f7f7f7"
            ],
            [
             0.6,
             "#e6f5d0"
            ],
            [
             0.7,
             "#b8e186"
            ],
            [
             0.8,
             "#7fbc41"
            ],
            [
             0.9,
             "#4d9221"
            ],
            [
             1,
             "#276419"
            ]
           ],
           "sequential": [
            [
             0,
             "#0d0887"
            ],
            [
             0.1111111111111111,
             "#46039f"
            ],
            [
             0.2222222222222222,
             "#7201a8"
            ],
            [
             0.3333333333333333,
             "#9c179e"
            ],
            [
             0.4444444444444444,
             "#bd3786"
            ],
            [
             0.5555555555555556,
             "#d8576b"
            ],
            [
             0.6666666666666666,
             "#ed7953"
            ],
            [
             0.7777777777777778,
             "#fb9f3a"
            ],
            [
             0.8888888888888888,
             "#fdca26"
            ],
            [
             1,
             "#f0f921"
            ]
           ],
           "sequentialminus": [
            [
             0,
             "#0d0887"
            ],
            [
             0.1111111111111111,
             "#46039f"
            ],
            [
             0.2222222222222222,
             "#7201a8"
            ],
            [
             0.3333333333333333,
             "#9c179e"
            ],
            [
             0.4444444444444444,
             "#bd3786"
            ],
            [
             0.5555555555555556,
             "#d8576b"
            ],
            [
             0.6666666666666666,
             "#ed7953"
            ],
            [
             0.7777777777777778,
             "#fb9f3a"
            ],
            [
             0.8888888888888888,
             "#fdca26"
            ],
            [
             1,
             "#f0f921"
            ]
           ]
          },
          "colorway": [
           "#636efa",
           "#EF553B",
           "#00cc96",
           "#ab63fa",
           "#FFA15A",
           "#19d3f3",
           "#FF6692",
           "#B6E880",
           "#FF97FF",
           "#FECB52"
          ],
          "font": {
           "color": "#2a3f5f"
          },
          "geo": {
           "bgcolor": "white",
           "lakecolor": "white",
           "landcolor": "#E5ECF6",
           "showlakes": true,
           "showland": true,
           "subunitcolor": "white"
          },
          "hoverlabel": {
           "align": "left"
          },
          "hovermode": "closest",
          "mapbox": {
           "style": "light"
          },
          "paper_bgcolor": "white",
          "plot_bgcolor": "#E5ECF6",
          "polar": {
           "angularaxis": {
            "gridcolor": "white",
            "linecolor": "white",
            "ticks": ""
           },
           "bgcolor": "#E5ECF6",
           "radialaxis": {
            "gridcolor": "white",
            "linecolor": "white",
            "ticks": ""
           }
          },
          "scene": {
           "xaxis": {
            "backgroundcolor": "#E5ECF6",
            "gridcolor": "white",
            "gridwidth": 2,
            "linecolor": "white",
            "showbackground": true,
            "ticks": "",
            "zerolinecolor": "white"
           },
           "yaxis": {
            "backgroundcolor": "#E5ECF6",
            "gridcolor": "white",
            "gridwidth": 2,
            "linecolor": "white",
            "showbackground": true,
            "ticks": "",
            "zerolinecolor": "white"
           },
           "zaxis": {
            "backgroundcolor": "#E5ECF6",
            "gridcolor": "white",
            "gridwidth": 2,
            "linecolor": "white",
            "showbackground": true,
            "ticks": "",
            "zerolinecolor": "white"
           }
          },
          "shapedefaults": {
           "line": {
            "color": "#2a3f5f"
           }
          },
          "ternary": {
           "aaxis": {
            "gridcolor": "white",
            "linecolor": "white",
            "ticks": ""
           },
           "baxis": {
            "gridcolor": "white",
            "linecolor": "white",
            "ticks": ""
           },
           "bgcolor": "#E5ECF6",
           "caxis": {
            "gridcolor": "white",
            "linecolor": "white",
            "ticks": ""
           }
          },
          "title": {
           "x": 0.05
          },
          "xaxis": {
           "automargin": true,
           "gridcolor": "white",
           "linecolor": "white",
           "ticks": "",
           "title": {
            "standoff": 15
           },
           "zerolinecolor": "white",
           "zerolinewidth": 2
          },
          "yaxis": {
           "automargin": true,
           "gridcolor": "white",
           "linecolor": "white",
           "ticks": "",
           "title": {
            "standoff": 15
           },
           "zerolinecolor": "white",
           "zerolinewidth": 2
          }
         }
        },
        "title": {
         "text": "hello world"
        }
       }
      },
      "text/html": [
       "<div>                            <div id=\"990f5c35-3fd4-43be-8bf3-7a34141c25da\" class=\"plotly-graph-div\" style=\"height:525px; width:100%;\"></div>            <script type=\"text/javascript\">                require([\"plotly\"], function(Plotly) {                    window.PLOTLYENV=window.PLOTLYENV || {};                                    if (document.getElementById(\"990f5c35-3fd4-43be-8bf3-7a34141c25da\")) {                    Plotly.newPlot(                        \"990f5c35-3fd4-43be-8bf3-7a34141c25da\",                        [{\"x\":[1,2,3,4],\"y\":[4,3,2,1],\"type\":\"scatter\"}],                        {\"template\":{\"data\":{\"barpolar\":[{\"marker\":{\"line\":{\"color\":\"#E5ECF6\",\"width\":0.5},\"pattern\":{\"fillmode\":\"overlay\",\"size\":10,\"solidity\":0.2}},\"type\":\"barpolar\"}],\"bar\":[{\"error_x\":{\"color\":\"#2a3f5f\"},\"error_y\":{\"color\":\"#2a3f5f\"},\"marker\":{\"line\":{\"color\":\"#E5ECF6\",\"width\":0.5},\"pattern\":{\"fillmode\":\"overlay\",\"size\":10,\"solidity\":0.2}},\"type\":\"bar\"}],\"carpet\":[{\"aaxis\":{\"endlinecolor\":\"#2a3f5f\",\"gridcolor\":\"white\",\"linecolor\":\"white\",\"minorgridcolor\":\"white\",\"startlinecolor\":\"#2a3f5f\"},\"baxis\":{\"endlinecolor\":\"#2a3f5f\",\"gridcolor\":\"white\",\"linecolor\":\"white\",\"minorgridcolor\":\"white\",\"startlinecolor\":\"#2a3f5f\"},\"type\":\"carpet\"}],\"choropleth\":[{\"colorbar\":{\"outlinewidth\":0,\"ticks\":\"\"},\"type\":\"choropleth\"}],\"contourcarpet\":[{\"colorbar\":{\"outlinewidth\":0,\"ticks\":\"\"},\"type\":\"contourcarpet\"}],\"contour\":[{\"colorbar\":{\"outlinewidth\":0,\"ticks\":\"\"},\"colorscale\":[[0.0,\"#0d0887\"],[0.1111111111111111,\"#46039f\"],[0.2222222222222222,\"#7201a8\"],[0.3333333333333333,\"#9c179e\"],[0.4444444444444444,\"#bd3786\"],[0.5555555555555556,\"#d8576b\"],[0.6666666666666666,\"#ed7953\"],[0.7777777777777778,\"#fb9f3a\"],[0.8888888888888888,\"#fdca26\"],[1.0,\"#f0f921\"]],\"type\":\"contour\"}],\"heatmapgl\":[{\"colorbar\":{\"outlinewidth\":0,\"ticks\":\"\"},\"colorscale\":[[0.0,\"#0d0887\"],[0.1111111111111111,\"#46039f\"],[0.2222222222222222,\"#7201a8\"],[0.3333333333333333,\"#9c179e\"],[0.4444444444444444,\"#bd3786\"],[0.5555555555555556,\"#d8576b\"],[0.6666666666666666,\"#ed7953\"],[0.7777777777777778,\"#fb9f3a\"],[0.8888888888888888,\"#fdca26\"],[1.0,\"#f0f921\"]],\"type\":\"heatmapgl\"}],\"heatmap\":[{\"colorbar\":{\"outlinewidth\":0,\"ticks\":\"\"},\"colorscale\":[[0.0,\"#0d0887\"],[0.1111111111111111,\"#46039f\"],[0.2222222222222222,\"#7201a8\"],[0.3333333333333333,\"#9c179e\"],[0.4444444444444444,\"#bd3786\"],[0.5555555555555556,\"#d8576b\"],[0.6666666666666666,\"#ed7953\"],[0.7777777777777778,\"#fb9f3a\"],[0.8888888888888888,\"#fdca26\"],[1.0,\"#f0f921\"]],\"type\":\"heatmap\"}],\"histogram2dcontour\":[{\"colorbar\":{\"outlinewidth\":0,\"ticks\":\"\"},\"colorscale\":[[0.0,\"#0d0887\"],[0.1111111111111111,\"#46039f\"],[0.2222222222222222,\"#7201a8\"],[0.3333333333333333,\"#9c179e\"],[0.4444444444444444,\"#bd3786\"],[0.5555555555555556,\"#d8576b\"],[0.6666666666666666,\"#ed7953\"],[0.7777777777777778,\"#fb9f3a\"],[0.8888888888888888,\"#fdca26\"],[1.0,\"#f0f921\"]],\"type\":\"histogram2dcontour\"}],\"histogram2d\":[{\"colorbar\":{\"outlinewidth\":0,\"ticks\":\"\"},\"colorscale\":[[0.0,\"#0d0887\"],[0.1111111111111111,\"#46039f\"],[0.2222222222222222,\"#7201a8\"],[0.3333333333333333,\"#9c179e\"],[0.4444444444444444,\"#bd3786\"],[0.5555555555555556,\"#d8576b\"],[0.6666666666666666,\"#ed7953\"],[0.7777777777777778,\"#fb9f3a\"],[0.8888888888888888,\"#fdca26\"],[1.0,\"#f0f921\"]],\"type\":\"histogram2d\"}],\"histogram\":[{\"marker\":{\"pattern\":{\"fillmode\":\"overlay\",\"size\":10,\"solidity\":0.2}},\"type\":\"histogram\"}],\"mesh3d\":[{\"colorbar\":{\"outlinewidth\":0,\"ticks\":\"\"},\"type\":\"mesh3d\"}],\"parcoords\":[{\"line\":{\"colorbar\":{\"outlinewidth\":0,\"ticks\":\"\"}},\"type\":\"parcoords\"}],\"pie\":[{\"automargin\":true,\"type\":\"pie\"}],\"scatter3d\":[{\"line\":{\"colorbar\":{\"outlinewidth\":0,\"ticks\":\"\"}},\"marker\":{\"colorbar\":{\"outlinewidth\":0,\"ticks\":\"\"}},\"type\":\"scatter3d\"}],\"scattercarpet\":[{\"marker\":{\"colorbar\":{\"outlinewidth\":0,\"ticks\":\"\"}},\"type\":\"scattercarpet\"}],\"scattergeo\":[{\"marker\":{\"colorbar\":{\"outlinewidth\":0,\"ticks\":\"\"}},\"type\":\"scattergeo\"}],\"scattergl\":[{\"marker\":{\"colorbar\":{\"outlinewidth\":0,\"ticks\":\"\"}},\"type\":\"scattergl\"}],\"scattermapbox\":[{\"marker\":{\"colorbar\":{\"outlinewidth\":0,\"ticks\":\"\"}},\"type\":\"scattermapbox\"}],\"scatterpolargl\":[{\"marker\":{\"colorbar\":{\"outlinewidth\":0,\"ticks\":\"\"}},\"type\":\"scatterpolargl\"}],\"scatterpolar\":[{\"marker\":{\"colorbar\":{\"outlinewidth\":0,\"ticks\":\"\"}},\"type\":\"scatterpolar\"}],\"scatter\":[{\"marker\":{\"colorbar\":{\"outlinewidth\":0,\"ticks\":\"\"}},\"type\":\"scatter\"}],\"scatterternary\":[{\"marker\":{\"colorbar\":{\"outlinewidth\":0,\"ticks\":\"\"}},\"type\":\"scatterternary\"}],\"surface\":[{\"colorbar\":{\"outlinewidth\":0,\"ticks\":\"\"},\"colorscale\":[[0.0,\"#0d0887\"],[0.1111111111111111,\"#46039f\"],[0.2222222222222222,\"#7201a8\"],[0.3333333333333333,\"#9c179e\"],[0.4444444444444444,\"#bd3786\"],[0.5555555555555556,\"#d8576b\"],[0.6666666666666666,\"#ed7953\"],[0.7777777777777778,\"#fb9f3a\"],[0.8888888888888888,\"#fdca26\"],[1.0,\"#f0f921\"]],\"type\":\"surface\"}],\"table\":[{\"cells\":{\"fill\":{\"color\":\"#EBF0F8\"},\"line\":{\"color\":\"white\"}},\"header\":{\"fill\":{\"color\":\"#C8D4E3\"},\"line\":{\"color\":\"white\"}},\"type\":\"table\"}]},\"layout\":{\"annotationdefaults\":{\"arrowcolor\":\"#2a3f5f\",\"arrowhead\":0,\"arrowwidth\":1},\"autotypenumbers\":\"strict\",\"coloraxis\":{\"colorbar\":{\"outlinewidth\":0,\"ticks\":\"\"}},\"colorscale\":{\"diverging\":[[0,\"#8e0152\"],[0.1,\"#c51b7d\"],[0.2,\"#de77ae\"],[0.3,\"#f1b6da\"],[0.4,\"#fde0ef\"],[0.5,\"#f7f7f7\"],[0.6,\"#e6f5d0\"],[0.7,\"#b8e186\"],[0.8,\"#7fbc41\"],[0.9,\"#4d9221\"],[1,\"#276419\"]],\"sequential\":[[0.0,\"#0d0887\"],[0.1111111111111111,\"#46039f\"],[0.2222222222222222,\"#7201a8\"],[0.3333333333333333,\"#9c179e\"],[0.4444444444444444,\"#bd3786\"],[0.5555555555555556,\"#d8576b\"],[0.6666666666666666,\"#ed7953\"],[0.7777777777777778,\"#fb9f3a\"],[0.8888888888888888,\"#fdca26\"],[1.0,\"#f0f921\"]],\"sequentialminus\":[[0.0,\"#0d0887\"],[0.1111111111111111,\"#46039f\"],[0.2222222222222222,\"#7201a8\"],[0.3333333333333333,\"#9c179e\"],[0.4444444444444444,\"#bd3786\"],[0.5555555555555556,\"#d8576b\"],[0.6666666666666666,\"#ed7953\"],[0.7777777777777778,\"#fb9f3a\"],[0.8888888888888888,\"#fdca26\"],[1.0,\"#f0f921\"]]},\"colorway\":[\"#636efa\",\"#EF553B\",\"#00cc96\",\"#ab63fa\",\"#FFA15A\",\"#19d3f3\",\"#FF6692\",\"#B6E880\",\"#FF97FF\",\"#FECB52\"],\"font\":{\"color\":\"#2a3f5f\"},\"geo\":{\"bgcolor\":\"white\",\"lakecolor\":\"white\",\"landcolor\":\"#E5ECF6\",\"showlakes\":true,\"showland\":true,\"subunitcolor\":\"white\"},\"hoverlabel\":{\"align\":\"left\"},\"hovermode\":\"closest\",\"mapbox\":{\"style\":\"light\"},\"paper_bgcolor\":\"white\",\"plot_bgcolor\":\"#E5ECF6\",\"polar\":{\"angularaxis\":{\"gridcolor\":\"white\",\"linecolor\":\"white\",\"ticks\":\"\"},\"bgcolor\":\"#E5ECF6\",\"radialaxis\":{\"gridcolor\":\"white\",\"linecolor\":\"white\",\"ticks\":\"\"}},\"scene\":{\"xaxis\":{\"backgroundcolor\":\"#E5ECF6\",\"gridcolor\":\"white\",\"gridwidth\":2,\"linecolor\":\"white\",\"showbackground\":true,\"ticks\":\"\",\"zerolinecolor\":\"white\"},\"yaxis\":{\"backgroundcolor\":\"#E5ECF6\",\"gridcolor\":\"white\",\"gridwidth\":2,\"linecolor\":\"white\",\"showbackground\":true,\"ticks\":\"\",\"zerolinecolor\":\"white\"},\"zaxis\":{\"backgroundcolor\":\"#E5ECF6\",\"gridcolor\":\"white\",\"gridwidth\":2,\"linecolor\":\"white\",\"showbackground\":true,\"ticks\":\"\",\"zerolinecolor\":\"white\"}},\"shapedefaults\":{\"line\":{\"color\":\"#2a3f5f\"}},\"ternary\":{\"aaxis\":{\"gridcolor\":\"white\",\"linecolor\":\"white\",\"ticks\":\"\"},\"baxis\":{\"gridcolor\":\"white\",\"linecolor\":\"white\",\"ticks\":\"\"},\"bgcolor\":\"#E5ECF6\",\"caxis\":{\"gridcolor\":\"white\",\"linecolor\":\"white\",\"ticks\":\"\"}},\"title\":{\"x\":0.05},\"xaxis\":{\"automargin\":true,\"gridcolor\":\"white\",\"linecolor\":\"white\",\"ticks\":\"\",\"title\":{\"standoff\":15},\"zerolinecolor\":\"white\",\"zerolinewidth\":2},\"yaxis\":{\"automargin\":true,\"gridcolor\":\"white\",\"linecolor\":\"white\",\"ticks\":\"\",\"title\":{\"standoff\":15},\"zerolinecolor\":\"white\",\"zerolinewidth\":2}}},\"title\":{\"text\":\"hello world\"}},                        {\"responsive\": true}                    ).then(function(){\n",
       "                            \n",
       "var gd = document.getElementById('990f5c35-3fd4-43be-8bf3-7a34141c25da');\n",
       "var x = new MutationObserver(function (mutations, observer) {{\n",
       "        var display = window.getComputedStyle(gd).display;\n",
       "        if (!display || display === 'none') {{\n",
       "            console.log([gd, 'removed!']);\n",
       "            Plotly.purge(gd);\n",
       "            observer.disconnect();\n",
       "        }}\n",
       "}});\n",
       "\n",
       "// Listen for the removal of the full notebook cells\n",
       "var notebookContainer = gd.closest('#notebook-container');\n",
       "if (notebookContainer) {{\n",
       "    x.observe(notebookContainer, {childList: true});\n",
       "}}\n",
       "\n",
       "// Listen for the clearing of the current output cell\n",
       "var outputEl = gd.closest('.output');\n",
       "if (outputEl) {{\n",
       "    x.observe(outputEl, {childList: true});\n",
       "}}\n",
       "\n",
       "                        })                };                });            </script>        </div>"
      ]
     },
     "metadata": {},
     "output_type": "display_data"
    }
   ],
   "source": [
    "import plotly # 有互動式的功能\n",
    "from plotly.graph_objs import Scatter, Layout\n",
    "plotly.offline.init_notebook_mode(connected=True)\n",
    "plotly.offline.iplot({\n",
    "    \"data\": [Scatter(x=[1, 2, 3, 4], y=[4, 3, 2, 1])],\n",
    "    \"layout\": Layout(title=\"hello world\")\n",
    "})"
   ]
  },
  {
   "cell_type": "code",
   "execution_count": 2,
   "id": "c080efba",
   "metadata": {},
   "outputs": [
    {
     "data": {
      "application/vnd.plotly.v1+json": {
       "config": {
        "linkText": "Export to plot.ly",
        "plotlyServerURL": "https://plot.ly",
        "showLink": false
       },
       "data": [
        {
         "mode": "markers",
         "type": "scatter",
         "x": [
          0.04171839574271226,
          -0.2611368617112593,
          -0.6407362426009372,
          -1.075769400482684,
          0.24396044471222508,
          -1.0969245595994326,
          -1.925989529063869,
          -0.21680301760816753,
          -1.362817214689613,
          -2.371046712264731,
          0.09682765823028375,
          -0.4083507907144704,
          0.7762388169412685,
          1.2443579045322481,
          0.2696946498450773,
          -0.10786730673961764,
          0.15920396342170162,
          -2.160292929857734,
          1.6056622343343967,
          0.7182663372862774,
          -0.19481133811951537,
          0.27639952555306013,
          0.252828316544044,
          0.9917619980663426,
          0.4470800661128445,
          0.017577521622822938,
          -0.5299084930807341,
          -2.154504640486401,
          0.8694475651558273,
          2.297426249878466,
          -1.6006648300995967,
          0.17718891284532878,
          0.9049119380589683,
          -1.742127380621419,
          0.4640977517748202,
          1.1549550417839372,
          0.25201181992872373,
          -0.5164258659471167,
          -1.0337187975025455,
          -2.2171620179457547,
          -3.327759393228987,
          -0.000710013752703686,
          -1.0226534951939468,
          1.8679609166059665,
          -0.06719617105209942,
          0.2264775250374214,
          -0.836688464347169,
          0.3529475949787544,
          -1.4316504099547314,
          -0.18546185811352803,
          1.0872469678223287,
          -0.6370559640019096,
          -0.5404955668018476,
          -1.6142705854481547,
          -0.3384090897906876,
          -0.020499087037769603,
          -0.26936443040256836,
          0.17603560231554133,
          -0.15641232316661013,
          1.984067657037422,
          0.835699571468203,
          -0.3065804459710011,
          0.9703114703274724,
          0.7230142988013001,
          0.9376056273377196,
          0.6904368951131337,
          0.33704670929611147,
          1.6418999067874067,
          0.46167399441326484,
          -0.1976784614386178,
          -0.7125191530679834,
          2.001761307443476,
          0.5456085888485257,
          -1.9225663428343955,
          0.5851190827742395,
          -0.894590842569661,
          -0.5001455563391681,
          -0.429238049588382,
          0.2618546557655746,
          -0.8762972416422388,
          0.5873603908063239,
          -0.13966854595342437,
          0.006429151664178307,
          -1.3352821001116406,
          1.1355309996983303,
          0.47581672570496303,
          -0.7399817755408962,
          0.58599473133127,
          0.3468693457267958,
          0.272521816999852,
          -2.3258556306049565,
          1.1547638445772026,
          -1.5741202250241306,
          0.7367100634681275,
          -1.9995951968993595,
          -1.441737604933081,
          -0.05062870968637752,
          -1.4776266238215703,
          1.260631897347472,
          -0.953615452046615,
          0.16050129356812487,
          0.7055095838573092,
          0.48730134395282226,
          -2.3492944441322576,
          0.6255775825328062,
          0.48113036458234926,
          0.16251006485366276,
          0.9349330113743353,
          -1.4300892090582022,
          -0.22160606528630555,
          -0.22209284824798073,
          -0.18017799174841448,
          -2.2440622302109112,
          0.4051451017843592,
          -0.6600185043084208,
          0.19619760114410859,
          0.9491520371671807,
          0.10285195667181889,
          -0.11753558069306139,
          0.998754223809748,
          1.1816908258275642,
          -0.9362351662029123,
          1.1123981068878115,
          0.4279451520377513,
          0.17297976649433944,
          0.10651909480681909,
          -0.7484790813886156,
          -0.8488367050000081,
          -0.8887099080612723,
          1.6843980583982474,
          0.3711583552172098,
          -1.8424624884715237,
          0.30806740159157864,
          1.813531412475534,
          0.27704516491934034,
          -0.3426232883625245,
          -0.8674049451593482,
          2.653796913745571,
          -0.598956093060771,
          0.0454092253578737,
          -0.6528908012317484,
          0.7949702769263107,
          -1.925908711972167,
          0.6481431586914935,
          1.306793624104805,
          0.8796580442812434,
          -1.3007133285420047,
          1.5093886837720896,
          0.5145646621900807,
          0.24811115546058277,
          -0.23555080867946035,
          0.7449519620424843,
          0.3705874037938882,
          -0.5243476784130203,
          0.8396572596574684,
          -0.9173655860446878,
          -1.9106937032250704,
          1.8406791273604444,
          -0.5860157644730494,
          1.178745128006587,
          0.8242564057310658,
          -0.2174761558920588,
          -0.18934759157744943,
          -0.018966432717119522,
          -1.0211180376393034,
          1.558190375056567,
          -0.19160836147002128,
          -0.9533142646257043,
          0.03313862595678203,
          1.113316517954338,
          -1.8204529791236035,
          0.19195946338890718,
          0.8074198975787301,
          0.4029359832220114,
          1.068557610558696,
          0.05612523011789818,
          -0.49118338725651545,
          -1.5311361226024973,
          -0.10533217619626113,
          0.41100301455326177,
          0.7440914869248596,
          0.06944929255666085,
          -0.6537277194092636,
          0.5529270264542034,
          -1.730037652382003,
          -0.7949989130404133,
          0.7850824025538823,
          -0.4965783366812928,
          1.2253611306234025,
          1.4846713469957995,
          -0.15812721481970726,
          0.7180888453978106,
          -1.159514385951345,
          -0.23044062890712297,
          -0.06109062868509759,
          1.0209471822149916,
          -1.3840409453478915,
          0.35458696522104366,
          1.7428330470688984,
          0.4195804315362469,
          -0.933671561417386,
          -0.34767702312928395,
          -1.683418679828292,
          0.23797627455638717,
          -0.3454035110018786,
          -1.1908550298874063,
          1.3194396008366718,
          -0.3415265773212675,
          1.9957364040312682,
          0.43572800826345226,
          -0.9497353248810049,
          0.034452962716182534,
          0.6812877498564253,
          0.369454130877394,
          1.2766938599293005,
          -1.6625120885667388,
          1.9840902724410148,
          1.0532502678422642,
          1.3064311682463998,
          -0.9327443058193026,
          0.21377578690577248,
          0.5074717948151054,
          0.28378645131392616,
          -0.8238449815358019,
          -0.2252116724246095,
          0.4244216469220457,
          0.5610516091298667,
          -0.3844104309307175,
          0.9520126874526434,
          0.23138886226673985,
          0.5152139437076119,
          -1.2213404698796746,
          -0.5761006006815244,
          -0.6727659266538839,
          -0.458241418884341,
          -0.45925183794210844,
          -0.4683432744720758,
          -0.23814587286745664,
          0.10079596508755474,
          -0.458728869791633,
          1.21415063372995,
          0.3515726041178612,
          -2.1613913064498727,
          -1.1367810605754147,
          1.7087919832465053,
          -0.7030728254948972,
          0.21069304584661608,
          0.3372966594286741,
          -0.8012026160857104,
          1.564686077561917,
          -1.5153319380394283,
          0.8129020765031816,
          0.35330472262544776,
          -0.719317622615938,
          0.19411662646202596,
          -1.3364614922213633,
          -0.8231413316110614,
          -0.1845026845227961,
          -0.1755250518387181,
          -0.08260160029544598,
          0.2618519888488546,
          -1.3395715266262112,
          -0.3355029428596814,
          -0.26350730027210334,
          1.1153105803323977,
          -0.2537980212701058,
          -0.6407240477994647,
          0.3053469655269539,
          -0.8984754924211681,
          0.2734260855550361,
          -0.40977361459603096,
          -1.6717520448012009,
          0.5376115388874342,
          0.2829199575562445,
          1.0858191826601782,
          0.16458189782732097,
          -0.7588627563170004,
          -0.9578990933168657,
          -1.3187201898703023,
          0.7613974887516503,
          -0.6574097030890678,
          -1.2490595687534973,
          0.032365746251686,
          -1.7851600800806624,
          -0.2918259070715845,
          1.6809141371488094,
          0.021142531449267664,
          1.5740913550965838,
          -1.3114025502250568,
          -0.900288964252202,
          1.927317216170929,
          -1.3536481593266712,
          -0.6204251899001911,
          0.8362416247589726,
          -1.4042721993247778,
          -0.16088269864884128,
          2.2479722602610255,
          -0.013931778715787688,
          -1.703643984636912,
          1.3102035919169484,
          0.965630010049323,
          -0.7988090950560119,
          -0.7929747107333344,
          0.20919904889766094,
          -0.8952371891338449,
          0.07036824966124358,
          0.36952041016177256,
          0.06342041651165271,
          -1.262670229988166,
          -0.3704762114854069,
          1.1316052315014746,
          1.3281578677322692,
          -1.5127085652699903,
          -0.27201293664295845,
          -0.6523580694853043,
          -2.1132941956037765,
          -0.2419390136859988,
          0.8570894126557277,
          -1.3180721584171033,
          1.1362784236142465,
          -0.801972196335634,
          -0.06574696505421301,
          -0.2032914981559011,
          -1.7685362137169918,
          0.08446738157663722,
          -0.7884659964080521,
          -0.4516766169625296,
          0.7088998509481815,
          0.4527666889177439,
          0.9978221619750546,
          -1.428610418019851,
          0.8570794441190911,
          -1.0141295308165241,
          0.5178220257263407,
          -0.011622251832368946,
          -0.5654164379622721,
          -1.0883911115056082,
          -1.8219286814217608,
          -0.43183834967515694,
          -1.2378360014318368,
          -1.9760659042553783,
          0.4146066466667197,
          1.2653810476068441,
          -1.2656214389291889,
          -0.1579076413203953,
          0.7160534902385955,
          1.1697311354105868,
          -0.3717557245955989,
          0.08168164344234077,
          0.6670673735247173,
          1.6076850747573874,
          -0.8190647326401185,
          0.02994899917566372,
          0.011057382562167636,
          0.688536146312552,
          0.7047303779373375,
          0.03421218654400939,
          -1.3787266345501588,
          1.5911826758985617,
          -0.972128603166176,
          -0.1528272228140948,
          -0.06066206201650204,
          -1.0965604818830499,
          -1.3742148116698105,
          0.5963783789413798,
          -0.7040908795616824,
          -0.4704683477065601,
          1.3943442032814914,
          0.3498956383267257,
          0.5243911701868141,
          -0.41501649322216627,
          2.2639139090778433,
          -0.5875454238863603,
          0.40199730577722886,
          -0.6958133076896128,
          0.7808408409296619,
          -1.615384241699829,
          -0.8247206767135357,
          -0.42396187162168714,
          1.5108222743193591,
          0.36344103870841116,
          0.9884463409614214,
          -0.11938357045607192,
          -0.2905965023751519,
          -1.160310147820318,
          -0.21124567270808423,
          -0.5139157006322868,
          1.4188950353441128,
          -1.8137699249575971,
          0.7298350560854517,
          0.9072434154920238,
          0.27559387436229543,
          -0.7145439604092594,
          0.5946309288183683,
          0.15729696569317472,
          0.20296127547094467,
          -0.4193126115721588,
          -1.345463584351989,
          -1.4693202310063918,
          2.224953365664178,
          -0.336070490807434,
          -1.3231161577795971,
          0.6867326893786727,
          -1.5824106397797333,
          0.3667636833633321,
          1.5148684879510843,
          -0.29089924199609263,
          0.7519542676085649,
          1.5411634516080661,
          2.4912872968761985,
          -0.41332277864935185,
          -0.7269879783784782,
          0.21966559556749524,
          0.29835490542140136,
          0.25414977399994143,
          0.23320294787405618,
          0.46119113640574433,
          0.6387290526224433,
          1.9859148485351255,
          -0.874151628608979,
          0.5396995425082288,
          -0.007699591841300627,
          0.47978061926718896,
          0.49501473138437113,
          2.0028088378451914,
          -1.20047635619632,
          1.0253156127953196,
          -0.5520416132087946,
          -0.5362404852559058,
          -0.12113677901711858,
          1.392905213337903,
          -0.474722654112987,
          -1.5670851700688582,
          -0.9041265630631997,
          0.6662118830430059,
          -0.110552427469188,
          0.32641374815650587,
          -0.8299167833004394,
          0.8262340519170462,
          -0.7436368496626695,
          -0.8242765452697227,
          -1.901958820189464,
          0.5849884202584354,
          -1.2141131780065817,
          1.7013297947868558,
          -1.2536835496694283,
          -0.2729070803840062,
          -0.7947925571174517,
          0.13970519861545103,
          0.6454457860355488,
          -0.16392012416849777,
          -0.32366059320340124,
          -1.4011668722618078,
          0.22932213822702818,
          0.2601337960288152,
          0.18776786917204255,
          -0.323692830593861,
          1.254791951094802,
          -1.1009700230336061,
          -1.1427728551740355,
          0.603800310763177,
          -0.9681706515243137,
          1.0818381205212613,
          -0.3530624240657876,
          -0.8991828653700602,
          -1.8523416234417596,
          -1.1880495384161494,
          0.4381224597458715,
          1.1509342686815378,
          0.13011885406507434,
          0.1580460528032669,
          1.424795616679719,
          -0.928937659608081,
          -0.13622432164701953,
          1.0474833188612702,
          1.179529436272847,
          0.23528690300562044,
          -0.1597490779596632,
          -0.445412835945049,
          0.6169592320204205,
          1.070746149290374,
          1.0267854358410458,
          0.9121552749876861,
          -0.8998590236458024,
          0.3988013367393188,
          0.5466732971705709,
          1.342347119001602,
          -0.2522555045440089,
          -0.17628063091760934,
          0.8644783972349303,
          0.9392121125269182,
          -0.1667139707200284,
          -0.17236899881413195,
          0.7856060641028697,
          -0.22225543958509936,
          -0.34928429477335404,
          -0.39649815347860407,
          0.48847926425142835,
          0.038808254332355206,
          1.11702642645119,
          -0.5577699788692914,
          -1.524840266210436,
          0.3052284407065881,
          1.039826610593805,
          0.7733904069861806,
          1.1226102323926967,
          0.5116400097391006,
          0.04173876684029611,
          0.32976557033511655,
          -0.8767370810523623,
          0.7812659822353581,
          0.16583696231438985,
          -0.03777772174892622,
          1.430740265609177,
          0.04398771041481568,
          0.36258050014175636,
          1.704090563755701,
          0.6358666120924934,
          0.3657323913066818,
          0.10692636174856461,
          0.08660569362011457,
          1.8032966760278555,
          0.3173656562111434,
          0.2064412894498419,
          1.0263923389040421,
          -0.8868079703751066,
          -1.617981199873426,
          0.29247670729583686,
          -0.19983417623886313,
          0.22448554500293771,
          -0.4682077372453968,
          1.3600970980655553,
          -1.3434994759471628,
          0.5271842495687745,
          0.31358202512702243,
          1.8548835543853752,
          -1.895898586232011,
          0.07637357962259066,
          -0.22825848148171948,
          1.5117667158277837,
          -0.04716709932037814,
          0.8196077493636817,
          -0.557345414588034,
          0.7759673532197393,
          -0.670056668547903,
          0.5087430864049984,
          0.18088037540473373,
          -0.8394512023123475,
          0.4407249239645949,
          1.8541239222813255,
          -1.5589406922939728,
          0.6992242727360457,
          -1.046345860064025,
          1.394757904413045,
          -0.5775808796110938,
          -1.3827576522418392,
          -0.5628985144491659,
          0.27587958485842295,
          0.2871947400584011,
          0.9728580931410205,
          -0.06649377585752629,
          0.9927215024076331,
          1.3155370111693467,
          0.3458667204613768,
          0.5601156233980229,
          0.9973317113623089,
          0.3959314431620652,
          0.2723039355738779,
          0.6712122701933363,
          1.0314618312121813,
          -2.012365001776443,
          1.2624680030676645,
          0.5026370180548896,
          1.0943259388747553,
          0.8501137715083776,
          2.1549818662105658,
          -0.20107762230508272,
          -1.113593242683752,
          0.1817475579953052,
          0.6450208122045135,
          -0.14438551046423165,
          -2.14708206748777,
          0.7134427508118342,
          -1.1180547032605168,
          -0.5016997756041766,
          -1.026552163239355,
          -0.6050059862608048,
          1.2757110938698073,
          -1.7150600599154104,
          -0.6028815805609651,
          0.2468411902748411,
          0.9661939347150421,
          1.0520043968730775,
          0.24295939066066458,
          1.7177153332143444,
          -1.3781450076931827,
          1.2995092930829446,
          -0.7752381181560771,
          -0.09002989258551797,
          -0.5490337030290284,
          0.9558073877870292,
          0.3434369023887152,
          -0.09525203723188795,
          -0.38975746999013045,
          -2.5137413288462613,
          -1.587223712666721,
          -0.6306133075480672,
          -2.0791571143933774,
          -0.08946149850526401,
          0.9028757069192597,
          -0.3379120460937466,
          0.6845044347166745,
          -1.4120053982139227,
          -1.525972942593881,
          0.6817555107439707,
          2.3806940127528047,
          -0.46810387089086,
          0.10961991606587478,
          -0.9104454054387296,
          -0.7226426485049819,
          0.2126625887918231,
          -0.21003555139387273,
          0.9319952811711879,
          0.36039960030307455,
          1.0615155162315737,
          0.5102534474524493,
          -1.0629260288254638,
          -1.1001111311024405,
          -1.272131497233097,
          -0.7084027826642664,
          -0.666100633405787,
          0.36573125783193894,
          1.1982047780347662,
          1.2932272815337633,
          1.1198900001079932,
          -0.6228250257509108,
          -0.7782934143322665,
          -0.47834565246739486,
          -0.3506518966802523,
          -2.629220237269222,
          -1.5017951552469098,
          -1.1741341321695702,
          -2.3024518449833713,
          0.5774096792241464,
          -1.7708669054312312,
          0.46280738028483853,
          -1.3609740776201849,
          0.5716362290616407,
          0.16181332304124305,
          -0.8175344261186821,
          0.49538408630432856,
          0.8883275451244603,
          -0.6912733463728691,
          0.7990560819630441,
          0.2554089847448367,
          -0.3133753958445066,
          0.258272600475881,
          -0.2552093236880078,
          -0.5606223263973826,
          0.3771279422627384,
          -0.08322908189418456,
          -0.08165990820514521,
          -0.8867267071663036,
          -0.046247023896890324,
          -1.23253759518078,
          1.150168125824962,
          0.4156031082321404,
          0.5326489232669505,
          0.18100071913584345,
          -0.0763128499277926,
          0.44253611865343107,
          -0.2113625278847744,
          -0.1561902133120911,
          -0.13329299100812525,
          -0.9228213080127455,
          -0.6797773432515632,
          0.39951047487659996,
          -0.8902961168258114,
          1.8852769183980915,
          -0.8323796388885323,
          -1.3146857133044736,
          -0.5414095344636791,
          -0.8950343918478562,
          -0.6283528040330921,
          0.4053965934553265,
          0.9426917539890167,
          -0.386098643794411,
          -1.236781078094021,
          1.560513487147787,
          0.5644990436047814,
          -0.08162431588419518,
          -1.5330864404369386,
          -1.2292563127473022,
          0.6436075233013917,
          -0.542202548936457,
          -1.5101304421582258,
          0.5489802221653943,
          0.1389751769951218,
          -0.3911794612543978,
          -0.05795457373568181,
          -0.4905009159762876,
          -1.9519219824757061,
          0.00020007654410519445,
          -0.12628272352205475,
          0.4689347175441886,
          1.3961980838739303,
          1.3190903176419653,
          1.394576443296319,
          -0.5113483406748408,
          -1.7588397019167896,
          0.27164280041602634,
          0.7616434282048002,
          -0.22584248546121244,
          -0.34231343347297605,
          -0.6154171420023626,
          0.7425013738606399,
          -1.0444932496347716,
          -0.9839312383614636,
          -0.40118733618936475,
          0.6135729421310834,
          0.21549739298261864,
          -0.4211602808653575,
          0.7926378242830934,
          1.002616096812179,
          0.3481712562040131,
          0.9524774750261803,
          1.0599785276602882,
          -0.33580097255680436,
          0.4573150600663487,
          -0.8886780793856118,
          -0.4251772587985244,
          0.05776685881507812,
          -0.7407056331262244,
          -1.3940832325090757,
          -0.881261625481468,
          -1.1128335293615303,
          1.3273061140437015,
          1.3934961311331455,
          1.8607410137170517,
          0.2614373403812039,
          0.9295437776474503,
          -0.5964618686342459,
          2.7840500714772736,
          -0.30659082270950666,
          1.0097038268626621,
          0.40305502599072945,
          -0.03400596521199504,
          -0.2337931014459289,
          0.11191287476800396,
          1.620773947671542,
          0.008283023548197967,
          -1.0118063257547538,
          -0.5976671912587044,
          0.30985245344710755,
          0.5154489347881915,
          -0.795473964172464,
          -1.1039638375841982,
          -0.5280678443039039,
          -1.5929699408723,
          -0.49163642329357116,
          0.7429268293430873,
          0.17022482241719472,
          -0.3950199497645868,
          -1.182149909718904,
          2.3553500312542353,
          1.0350423090519556,
          -0.2881569432536678,
          1.0762817553314572,
          -2.6572134397155978,
          0.17962943371957382,
          -2.5685226635867116,
          -1.2034924613794953,
          0.17037498111393276,
          1.9242944018006654,
          -0.24128423980555042,
          -0.5083083991826365,
          1.6920380080596467,
          -0.8422368142977817,
          -0.9906147508158715,
          -0.7953948691665905,
          -0.3626073728443063,
          0.34983842232669954,
          0.8052053109093329,
          0.26635479555168834,
          0.5137799540195761,
          0.6754752221736853,
          0.1184296905221734,
          0.948294050034656,
          1.908596244745533,
          1.4125277882168148,
          0.48320700136797384,
          1.9212058011110926,
          -0.3945411138043272,
          -1.0610068173851601,
          0.035387328868890636,
          -1.6475142306859933,
          0.7512691117990649,
          0.3468347447178251,
          0.7117738080098448,
          0.21317187093436307,
          1.474937115335004,
          -0.08758019713814576,
          0.2580998885117351,
          0.031145819015127377,
          1.4042255291781607,
          -1.4837371352740576,
          0.30239335831288205,
          -0.1255542230043515,
          1.0647903126271172,
          0.8576708766549722,
          -0.18746504594013166,
          -0.10229379274641584,
          1.2766042617205915,
          -0.8969560637767284,
          0.5129872385901769,
          -1.6584020774152428,
          -0.19294443482611584,
          -0.3750390619992653,
          0.09085644894948162,
          -0.5013517465550603,
          2.10667142728004,
          0.08782507332668303,
          0.8803385374107091,
          -0.23210347168442297,
          -0.20621559812940318,
          -1.4033253686780067,
          -0.061623784628470915,
          -0.7757439699565835,
          1.0125485584448422,
          -0.9659115667990992,
          -0.23786972229346112,
          -2.1526848117140647,
          -0.5921940328786301,
          0.932631170773239,
          -0.42600580748363376,
          -0.5689299721407799,
          -0.028455588514439092,
          0.6410437958238285,
          -1.7517280911664672,
          -0.1755108897829278,
          -1.7710116648076535,
          0.11849083312555111,
          -1.4525664728442673,
          -0.23013739098201746,
          -0.7401819892745483,
          0.26194624008274003,
          -0.595355219573179,
          0.3045135887007546,
          0.8587372893279326,
          -0.8151806732303294,
          -0.9216206964703018,
          2.2975591607526944,
          -0.9626064302216596,
          -1.0340676629334384,
          1.1974830291016823,
          0.9933641403000447,
          0.8663493649715307,
          -0.6425359170759732,
          -0.5210259294909615,
          -0.4187908972694577,
          1.4157206597915357,
          0.4302316206628439,
          -0.9470553733946387,
          -0.05085973357443722,
          -0.532719362482763,
          -0.14161707781501529,
          -2.10281857098271,
          0.5119400477017193,
          -0.20036493203658068,
          -0.6547555500513201,
          0.003699352184820704,
          -0.9059564290208708,
          1.8368977020936774,
          -1.9324501631146167,
          -0.7129587454157577,
          0.5584906313339237,
          0.2159936755199877,
          0.9457292895699198,
          0.2516230260753416,
          0.7161513936526477,
          0.600550331399022,
          0.5253006725802926,
          0.7171058493686212,
          0.25475107215060183,
          -0.9802729330947826,
          2.281436301325778,
          -1.8298293656330036,
          0.21891185778871208,
          0.8699258118506678,
          0.771044402721974,
          0.9265332269511363,
          1.1194311865608193,
          -0.11326980258342474,
          -0.38430535206039934,
          0.4921455377000601,
          0.8562017695213326,
          -0.10653662311632313,
          -1.9005068042953768,
          -1.756507331520749,
          1.101056967768098,
          0.021996107507751283,
          0.619679304333959,
          0.13971161600107207,
          -1.8894762304247088,
          0.7627248273944153,
          -1.0723937298501829,
          -0.6811053948640055,
          1.0441872303117037,
          -1.447527349524198,
          -0.92505087322747,
          0.47554404756431734,
          1.487264315376294,
          0.07958126250686996,
          1.7879441811739472,
          -0.8062286554714986,
          -0.20399422578725995,
          0.5312847306895544,
          1.0513750971474054,
          -0.5110959818036,
          0.2885549115903699,
          0.8898014897934499,
          -0.33462932149619506,
          1.0040336586727345,
          -0.08317566987637356,
          0.650594867960757,
          -2.5347115340021715,
          -1.3471460053102922,
          0.5817348865239076,
          -0.3324033351437742,
          -1.493623669872996,
          -0.6259058171231004,
          -1.5808311499207521,
          0.4726890855308182,
          -2.092861428107435,
          -0.34975323651996554,
          0.1648878842235895,
          1.4266148562102376,
          0.16252434914337255,
          2.475361822550667,
          1.4310946105634372,
          -0.16465198956533625,
          -0.4022210689934519,
          -0.2993512937384064,
          -1.4285274195837345,
          0.44049088168634026,
          -0.7170027861726668,
          -1.6116089569734773,
          1.0018357760964627,
          -0.04064816246347266,
          0.12337619670546718,
          0.0180510096866161,
          -1.1587653139670966,
          -2.353206651432917,
          1.646092693873881,
          -0.6827578151012321,
          1.106674051746794,
          -0.6009381769926375,
          0.7883859140027643,
          0.63705950062149,
          0.8508007432575698,
          1.2624190315066028,
          -0.17269245098463845,
          -0.5514034658208187,
          0.1988325854704673,
          1.375736796241609,
          -0.034279054518727745,
          0.23650268431813004,
          1.6670001902523186,
          -0.19955621785374958,
          0.17331369949167447,
          -0.1305732729703623,
          -0.1491301475469886,
          -2.2439649678416393,
          2.977364387458728,
          -0.24344383430403355,
          -1.1753272106931978,
          1.662506650260976,
          0.07525789699476068,
          0.06494529480423603,
          -0.4226805930615297,
          0.6189604229787062,
          1.735016115238109,
          -1.5185159872463663,
          0.3917904571225558,
          1.3043976980100143,
          -0.7412918355300129,
          1.2493512426286895,
          0.17906253752570214,
          0.8828230286631737,
          -0.5637766489910875,
          0.3665942288595015,
          3.2037947426637317,
          -0.24877844141369376,
          1.1112946559695625,
          0.7162949734642725,
          -1.0030597316171317,
          0.7749588982144069,
          0.8607533645271894,
          -0.17144551477790518,
          -0.31147021465529307
         ],
         "y": [
          0.19911290785985192,
          0.49615958212143607,
          -1.1597764243364608,
          -0.47516921782365124,
          0.3530201136199226,
          -0.9351321167807817,
          0.13582397773856558,
          1.257224651277629,
          0.15965045118426535,
          -1.2376051236641636,
          0.20814601634045574,
          0.6807440141200195,
          -0.11410841111453554,
          2.0110711967809354,
          1.236225877373062,
          -0.16844683107569694,
          0.7058063298439815,
          0.554140697580256,
          0.5486472934378249,
          -1.2221224749819337,
          -0.03198321006474642,
          -1.2516112529844399,
          -0.7877851239405328,
          -0.15050930067195595,
          1.5466293280729948,
          -1.4010080282497466,
          -0.08292208856822457,
          -1.1564739732605402,
          0.8178440311017924,
          0.579962320493293,
          -0.2612162424843421,
          -0.0840812764424332,
          1.105457610296814,
          0.9379947437402358,
          0.784550647315254,
          1.110367396086765,
          0.8255855148708106,
          -0.5019505680120449,
          -1.6756701832888925,
          0.3779299791829695,
          -0.09934163756940888,
          0.4365990126249134,
          1.4890878526860352,
          -0.4149377815267999,
          1.2129482019168107,
          0.10488790814719613,
          -0.6813583984717458,
          -0.9443404432342807,
          0.7559983012185769,
          0.3819239187586454,
          -0.16408635156312887,
          -0.020493874275861617,
          -0.25374554056818865,
          -0.9547354944853889,
          0.7429932130850928,
          -1.0293428801288083,
          0.13847201553433133,
          1.1265012782002284,
          1.2704993148389474,
          0.36153163567848967,
          -0.7326118798964559,
          -1.4905675667125595,
          0.2788390637792137,
          -0.607923950611399,
          0.1991123550382109,
          -1.411385624486133,
          -0.5918169716731598,
          2.2384509304882316,
          -0.1582911106582905,
          -1.3975439961709162,
          -0.9106784701821686,
          -0.004763727415422579,
          -0.0035147152166403184,
          0.01147433068765062,
          -0.3616230809760823,
          1.651913123910152,
          0.3487994494792088,
          -0.5745246865600537,
          0.9484603378840339,
          -1.3121420087808322,
          0.9095367054716377,
          0.05318424099464069,
          0.7514106898657895,
          0.9604155326627647,
          -0.9082881694175792,
          -0.4472979333620822,
          2.013939517522038,
          0.385910758014545,
          -0.3127139412213359,
          2.694507209057117,
          -0.6886414308798521,
          -1.2144990434612217,
          -2.190889595320716,
          0.30024047770071677,
          -0.017768739557124002,
          -0.702547143290197,
          1.3596710098398368,
          -1.657755329717878,
          -0.3734641164157857,
          1.7430068689185794,
          0.6848640403680352,
          -0.25752560970219124,
          -0.5739609404714314,
          -0.0010304142340636549,
          0.7686637729697335,
          -0.12891461161156928,
          0.1423937942471098,
          -0.06002233158076967,
          -0.10266309851312663,
          0.6232575605659779,
          0.751802640203334,
          -0.20957424205715797,
          -1.6841673959056656,
          -0.16431302065200357,
          0.3812554313599317,
          -0.30037966169400176,
          -0.690213557973562,
          -0.6125129845065557,
          -1.0620700476307072,
          1.4861936441317558,
          -0.2748213233310751,
          0.6278894310093479,
          0.6833208832772285,
          0.8532495517701821,
          -1.2573732404900575,
          0.8009050269828987,
          -0.17183092995281105,
          1.163976846075246,
          0.1121759266577917,
          0.7166127932258364,
          0.2821656118412203,
          0.4342626813612115,
          1.3909842204560139,
          0.4748396155511478,
          1.4552369625591333,
          2.152604867702733,
          0.7529176972525408,
          -0.7775278289459918,
          2.1708588178128685,
          1.0436653061127432,
          -1.8947816513555595,
          -0.3551988940058445,
          -0.5131072514821646,
          0.24698852665597187,
          0.7697258711001326,
          -0.5857573996087737,
          0.2158300792349573,
          -0.08690443610737861,
          2.5831405947130825,
          0.7986397821380826,
          0.9872973483144075,
          0.36475074787592354,
          -0.43561730424662926,
          -2.20671826179703,
          2.49977900553639,
          0.6921379719100271,
          2.4638057962785145,
          -0.3539974773276018,
          1.6741410882296017,
          -0.4634683598274373,
          -1.2535853823256697,
          -0.4373943455525452,
          -0.3861485674451491,
          1.7945620435047605,
          0.506583861014042,
          -0.3002219329311095,
          -0.3083041116558433,
          1.716524353183668,
          0.39003528856008507,
          0.7234450291422861,
          1.7110858512669194,
          -0.7255270017122362,
          -0.009702052961853433,
          0.31641773102595083,
          -0.05662092727311328,
          -1.2482865469603022,
          0.2077464247342368,
          -1.3326338675104745,
          -1.3327442870160062,
          -0.8950877558925957,
          0.2623265821537523,
          1.9872524125075592,
          -1.566272266689886,
          -0.7108932905232138,
          -1.026255922114199,
          2.4323417885183547,
          -0.652197293539232,
          -0.5414609528922399,
          0.5052397239296817,
          0.20257610756793845,
          -0.5001401676172457,
          0.38270813733493475,
          -0.029829783930635734,
          0.4241488378583747,
          1.704234908026304,
          -0.5558594699362052,
          1.6741877308356192,
          0.1466095725727731,
          1.0126860210719117,
          -0.9763554248412281,
          -0.5322036441445944,
          1.1405673380158479,
          2.8350033981204685,
          -0.19556012595127725,
          -0.7679626425878949,
          0.7414666884005537,
          -1.8806889599614742,
          1.620233209479425,
          0.4463514077649163,
          -1.328508022871416,
          0.5913847984086447,
          0.16322687731225238,
          -0.9239283415439749,
          -1.4138457321948785,
          -0.029275750785927826,
          -0.5862711908813041,
          1.332212095229051,
          -0.01494274620194024,
          0.18641185822671624,
          -1.857380533093237,
          0.27690027764280056,
          -2.168896487964386,
          -0.0605427098785021,
          -0.8726722129411393,
          -0.5975712800930757,
          -0.43476915425077345,
          0.49824147693481746,
          0.9617489603812878,
          -1.4688586679838533,
          0.3860199164171999,
          -0.02111240038866615,
          -1.3012052248244532,
          -1.1384807507818346,
          0.6181924926143665,
          -0.4848645115695831,
          -0.8216315521051661,
          0.6350931067894174,
          -0.6874552027535634,
          -1.2343029704323936,
          -2.466160642506375,
          0.7723937069842727,
          -1.8132216506026744,
          0.5364440922749707,
          0.8271466619301935,
          0.37238593428463657,
          -0.1793080489426373,
          -1.6815062792081357,
          2.2612845624850744,
          1.2052691173450285,
          -0.26779981174039547,
          0.32310775989683016,
          -0.13235760272356445,
          -1.3651456092660677,
          0.7901277416668703,
          -0.6690386848657731,
          -0.9242015669501924,
          -1.482674453682809,
          0.6516639357424099,
          -0.5642340360077428,
          0.511056970342447,
          0.5015319304862316,
          0.13075102675120157,
          -0.5190717710840512,
          -1.2497001421950433,
          -0.1508160584002219,
          0.43726491361592734,
          1.673459997054866,
          -0.052240317421827595,
          2.137652583028848,
          2.9987808662937927,
          1.6712550239730923,
          -0.7021436955484729,
          0.07054397782129522,
          -0.4631426370514652,
          -0.30582622411683846,
          -1.0836729977189714,
          -0.620244747639212,
          0.2594071461596944,
          1.7015314097085668,
          -0.6880255055838443,
          0.3271937141283432,
          -0.6989547915954104,
          1.2523118043868744,
          -0.8518784200154085,
          1.7963344913728125,
          -0.42035153425505173,
          -0.528457259326522,
          -1.431197035259025,
          1.1885261381519683,
          0.7453770120134642,
          0.7089713387040133,
          1.1754291332706572,
          -0.40439836664747114,
          -2.000908471340589,
          -0.5883696179013485,
          1.5093233864076292,
          -0.3716702723380414,
          -0.7023181969595975,
          0.16189121578421728,
          -0.36203646636594894,
          -0.32174587503444,
          -0.860453609582485,
          1.841355001800767,
          -1.1639795257000698,
          -0.3534208001541855,
          -0.7543269665248803,
          -0.5578596209413783,
          -0.29336801780372634,
          -0.9406204023027285,
          -0.0877655963349154,
          1.0985939966362945,
          1.3736255203107042,
          -0.480588621121558,
          -0.8058704706555353,
          -3.463642697567721,
          -0.5847870292625188,
          -1.0036769733297741,
          0.029249035131203527,
          -0.6398012575062793,
          -0.21379845262825398,
          -0.6239589957629131,
          0.48534937389664645,
          -0.13158657613693153,
          -2.214091736837456,
          1.0785816707205158,
          0.46752619497664116,
          -0.7931828976106526,
          0.6983331119063007,
          0.27511529960674697,
          -0.7452424947782758,
          0.8790449322163104,
          0.0071318030543032936,
          0.2898770821240209,
          0.09585063453792268,
          -1.4295843714451069,
          -0.8570248284490222,
          1.2524665235990402,
          0.1297468402159749,
          1.696002390191733,
          0.5951185532710206,
          -0.8123849095747275,
          0.6945955680563329,
          -0.27281702200647395,
          1.0587287079210892,
          1.3078389447893333,
          -1.0422811008511164,
          0.010419887576187585,
          -0.3044197218238123,
          0.8444199146366564,
          -0.20413543451644225,
          -1.7249637218160483,
          -0.10936760147076816,
          -0.7421733032599452,
          0.15000783235174023,
          -0.44088987727651796,
          -0.8049826881078076,
          0.8299118013398255,
          0.9022397173380262,
          0.6728503070690955,
          -0.4099073867026872,
          2.395509533678381,
          -0.4695137262489277,
          1.260049392006476,
          0.7289093691368121,
          -1.0598628727566153,
          0.34726419360667515,
          0.6423175331884763,
          1.411861318093146,
          0.4240008605137238,
          0.5373155676802086,
          0.6268785214860116,
          -1.035072168522144,
          -0.35786524029467864,
          0.3725635938456412,
          0.6477313870263436,
          0.2510472470820765,
          0.928520022315678,
          0.005674333646141406,
          0.2674704474173145,
          0.693692530568695,
          0.6897817612613484,
          0.4401115811223054,
          0.06885644371542464,
          0.18903287939767335,
          -0.5637966301169173,
          0.16764495215535333,
          0.7722525217844379,
          -0.4309125814837924,
          0.2075692432678307,
          -0.525578962895831,
          -0.2965794315750656,
          0.4745197210695786,
          0.7316934919932728,
          -0.5054991756666031,
          0.15306735599922106,
          -0.9994716848449402,
          0.7415230156581863,
          0.8136829808842165,
          -0.12035132051826616,
          -0.8388682097669318,
          -1.7418229501972553,
          -0.6203107208004629,
          1.5090585098643985,
          -1.5692613491383338,
          -0.8026697295719035,
          0.04689569029082348,
          1.242943922650524,
          1.508811725774685,
          -1.3160345442963244,
          0.029175770683954407,
          0.2772621389979936,
          1.1252215025198695,
          0.6712623062079356,
          -0.2999947683631302,
          -0.12188860492833128,
          -0.3930006302710443,
          -2.5444082553423155,
          -0.3542975189802379,
          -1.134533691251249,
          -0.04082813831861781,
          1.4987587755716394,
          0.46229793311889983,
          0.9976038356942563,
          0.9119264674196099,
          -1.0093244399916323,
          -0.9093375210629249,
          1.0472258483937134,
          0.2580804351769767,
          0.11082406887592348,
          -0.06646745448024251,
          -0.1213759566934343,
          0.8323009629397449,
          1.2455882119927824,
          0.4375949293685354,
          0.5054470239491548,
          0.087939639439248,
          0.7720320774202081,
          -1.0081555549638164,
          -0.007603951348543441,
          0.26160958537413576,
          2.7714608834896954,
          0.6049537666848517,
          -0.7430004763831147,
          -0.966810833770435,
          0.7534617036125144,
          0.4051153384332286,
          1.2555182653943335,
          -0.7372577835922112,
          -0.823527683930344,
          0.20848227124660137,
          0.002763807415823572,
          -0.289003896286486,
          0.4214596413049299,
          -0.2046391721152923,
          -0.30765980160013956,
          0.5710640089986784,
          -0.4556656348963002,
          -1.7286799256051986,
          -0.33749946669608005,
          -0.7083616487469949,
          -0.4027711104575778,
          -0.3521530018297434,
          -0.4169978499709773,
          -0.25751870464906446,
          -1.2327790548532866,
          0.7541487284482866,
          -0.5074746852104796,
          -0.03320537324914954,
          0.2646273827673529,
          0.7651890988047063,
          0.018199255923121875,
          1.015271850381154,
          0.9367753106415786,
          -0.6446694795073383,
          0.8258441042867655,
          -0.21503815880536287,
          0.47339041144869354,
          -2.0333888170457546,
          -1.5020855582053514,
          -0.03987786227250299,
          0.8542921206075972,
          0.9177778612830569,
          0.25662330716171783,
          2.1212063981719553,
          -1.813592341121802,
          -3.527609587527817,
          -0.4549275872518804,
          0.4479440202661656,
          0.8214733807937123,
          0.9823744034138049,
          -0.6912669325320185,
          -0.6266598600400143,
          1.1002250086309475,
          0.39063492507892694,
          -0.7308503441585414,
          0.5600461417350835,
          1.272857261719621,
          -0.10267819378580095,
          -0.21974860229337576,
          -0.45434481400980964,
          0.7837171205722568,
          1.6137659950609229,
          0.3838178935385624,
          -0.8813759342983627,
          -1.641806149637847,
          -1.7766566295367248,
          0.12819243842067063,
          -0.7798593763630054,
          0.12719131591580607,
          0.887177111650477,
          1.489611233150474,
          0.12365252258097695,
          0.28786933852974733,
          -0.9549082784524016,
          -0.9475137309663898,
          -1.3282188947212283,
          -0.20453153307208363,
          -0.6840963089444717,
          -0.508362082290934,
          -0.6672058628741031,
          -0.23405080156105704,
          2.1301505465728723,
          -2.44383600888367,
          0.7758992136042512,
          -1.9290630468321024,
          0.45400787924415653,
          -0.8813140021617909,
          0.5993500133679163,
          -0.8019665176791781,
          0.010449797379794854,
          -0.6067451361243258,
          1.1592809337799217,
          0.16699744217992596,
          -0.4274448330111821,
          -0.1451662340384869,
          -0.2242317379576078,
          -0.8573472173693196,
          0.7841744755917953,
          0.2081156820085081,
          -1.4509406650651104,
          1.7938475929232622,
          0.8333056680861392,
          -1.2765269080285189,
          0.3014258505938482,
          -1.390620426915459,
          1.1344249117972538,
          -0.9084427550257418,
          -0.8481201720480075,
          -0.5768305071651795,
          1.2089902341197778,
          0.2569891720743094,
          -1.0476746934732994,
          0.6820810747226006,
          -0.37113309435909536,
          1.194844984050637,
          -0.40691028142432706,
          0.9999112229128324,
          0.8261457291893516,
          -0.8348367666248725,
          0.2001740496577616,
          3.1227436263991795,
          -0.7193991241982152,
          1.7066975996496743,
          0.623524972166035,
          -0.5345216368232926,
          1.3846069944521247,
          0.11594024110686328,
          1.2475589496010533,
          -0.10992306005685845,
          1.6939473771154816,
          0.4510840451046745,
          -0.12538726117441973,
          1.9895844924977162,
          -1.2712348648036387,
          0.6906765206104781,
          -0.035191210815128694,
          -1.6557482042488865,
          -0.8007522636974114,
          0.43942806005619117,
          0.1728443270710692,
          -0.4283498800026101,
          -1.7376034444579411,
          0.33480823856149317,
          -0.6249289028395777,
          -0.7330924966684415,
          0.1313516899990798,
          -0.07570725160938896,
          0.2675320035159716,
          0.3759513920334255,
          0.780754472677308,
          0.7567776228405555,
          0.656743550819372,
          0.14872848516113849,
          0.22904087888774644,
          -1.5428849193628642,
          -1.3002491615577634,
          0.1735047518544204,
          0.04162771001928826,
          -0.6329895120364363,
          -1.1362981712937712,
          0.5547310817488609,
          -1.5710085837761638,
          1.3016139338888388,
          0.3934864772736547,
          0.555486718585065,
          -1.0257900660406825,
          0.3575225332231204,
          -0.7017288544622209,
          -0.3512575873734696,
          -1.3154665308163296,
          -1.9487586549588485,
          -0.0646165941544558,
          -0.8630723977134619,
          -0.7906905294976342,
          -0.6214922052800746,
          0.881886439169906,
          0.3449663109753737,
          -0.401805568090325,
          0.7955514783388398,
          1.4864834453343894,
          -0.33967289816981994,
          1.7382133208914357,
          0.08647382515754935,
          0.1989672135250707,
          0.22903013372730158,
          -0.8160075545687115,
          0.2542503400884125,
          -1.1875864523623303,
          1.9761902941029046,
          -0.23878979570475548,
          0.475422408675262,
          -0.830113326682894,
          0.8933584667142056,
          1.6589676008514163,
          -0.9800454206044055,
          -0.0798692864919597,
          -0.1382278376430039,
          -0.256116512599024,
          0.3366979124397495,
          0.575517589785979,
          0.2289396688892854,
          -0.11090793479003108,
          -0.25475384859663186,
          -0.828239552088552,
          -0.13777670220797866,
          -2.0725088016915585,
          -1.003717883369123,
          1.6871309914149921,
          0.43550454676758554,
          0.6084954775171665,
          0.22433566411710204,
          -0.24535059473208565,
          2.0683411379268266,
          0.07670799741756118,
          -0.6761201467204208,
          -0.3067899728232107,
          0.165796785598003,
          -1.9384353323828933,
          -0.6564528909957823,
          0.15861414711283267,
          0.657983666537903,
          -0.7887457669822384,
          1.225337762750711,
          1.2942678663499254,
          -0.49299476324072317,
          0.6255477888731382,
          -1.9603320761687217,
          -0.7635269534609539,
          -0.3714074886574426,
          -0.11761277970846666,
          0.7490298310998492,
          2.2719620777382405,
          1.1217162937215965,
          0.6225714694840688,
          0.4535685127740049,
          -0.3394166944375336,
          -0.22286044870321833,
          -0.14793839871908263,
          0.6083311283589052,
          -0.2376475430335189,
          -0.7908312402291959,
          0.025069979913999497,
          -1.4426691165983678,
          1.0563097658640597,
          1.3404769972007853,
          -0.9930472936601367,
          -0.4876456918295984,
          -1.1128864134780034,
          -1.0155375337479402,
          -0.6595815266210604,
          -1.3336691444098163,
          -0.7030283581990466,
          1.058603169978152,
          0.7599745830927205,
          0.2644353111353008,
          0.4907732020805894,
          0.79859578993626,
          -1.3047224987172188,
          -1.2268753339948675,
          -1.5194978145560734,
          0.09394353044608375,
          -1.4913098710629569,
          1.1154706071668885,
          -0.2745729505290513,
          -0.5505065431104491,
          -0.5138601631866279,
          -0.7798573258269493,
          -0.7631687756869634,
          -1.455518572156262,
          -0.34814028540043424,
          -0.39446326655870145,
          -2.1127454551031244,
          1.5448522572734176,
          -0.3750888316575907,
          -0.4461864193604563,
          -0.6656585815430115,
          0.5912892634146614,
          -2.3656277244260133,
          -2.189971777916222,
          1.6716139986670837,
          -1.1855984733708702,
          0.32940095606721187,
          0.05394839078900455,
          -0.38448924138977053,
          -1.3177135528941537,
          0.35775189926102846,
          1.2652872187448572,
          -0.12928608674632855,
          -0.8009975496846573,
          -1.1551513363077974,
          -0.26279434293849563,
          -1.1963526727408236,
          -0.38589190389989525,
          1.3252946134726873,
          0.04789422507304802,
          -1.1686418898360282,
          1.6720029937504899,
          -0.2676644325932331,
          0.028519597130395667,
          0.5296153679041842,
          1.3976885074838428,
          -0.7028010271917265,
          -0.6982710186064258,
          -0.785948755998145,
          -1.1385310449852222,
          -1.0893477149704511,
          -0.09530150688681298,
          -0.1730641722959524,
          -1.0953339464449021,
          2.6070871693319626,
          -1.2013113278850518,
          -0.5857928739128029,
          -1.1888062086848759,
          -0.002890671030821726,
          1.4636695498989003,
          -0.3147780696914775,
          -1.092333171885099,
          0.22046668289627977,
          1.0588862303372564,
          -0.17239064087807413,
          1.9364994348275086,
          2.443037877271075,
          1.4299837205361752,
          -0.4306375979500263,
          0.9292128489671576,
          0.3154640010745218,
          -0.12118263946485358,
          0.9383144917014927,
          -1.1805450731628802,
          0.3822500793132363,
          -0.4252592109159394,
          0.7323096282496413,
          0.04910667619371028,
          1.3106243377989333,
          0.6416683069517636,
          -1.8913103717479909,
          -1.5155533776916716,
          -1.104958803604696,
          -1.6453407479557227,
          0.23992309911012852,
          0.19471283196614056,
          -0.2499738581693962,
          -0.3374648873632814,
          0.3779197788914107,
          -0.08561161666607046,
          0.415313594361276,
          1.5658146565598487,
          1.802133985807336,
          0.7175056753581183,
          -0.8350845059871509,
          -0.7318324296103254,
          -1.8459035542448086,
          -0.1415175906880893,
          1.2149067510716485,
          -0.1596595842493738,
          0.021349393688075886,
          -0.9311920223216973,
          -0.9389513263031173,
          -0.37436779407815146,
          0.5025817684829847,
          0.41950651472289036,
          -0.07102406594428597,
          0.9942921056236489,
          0.3828762919982206,
          -0.47187749326115147,
          1.0637925374125825,
          -0.16132122288650438,
          -0.49068369974549036,
          -1.054427929910913,
          -0.8859096775851516,
          2.6382089986859545,
          -0.5847150040150383,
          -0.5991409335326261,
          -0.9922689429927527,
          -0.020080161770821066,
          -1.5559681268887176,
          2.206996113518365,
          -0.2902847388218902,
          0.326940722983766,
          0.8638466758029447,
          -0.0733411405454698,
          0.3549792572705483,
          0.041092209251155316,
          -0.006585495198567311,
          -0.8123461980525489,
          -0.1342592331067272,
          -0.08027419307641494,
          0.08206638626612087,
          0.7093090411451787,
          0.999388669770893,
          -0.12777946156467795,
          1.5749340833446739,
          -0.46164805114263635,
          0.7113242523967944,
          -0.7458775930164604,
          0.7451140946773919,
          1.0384618957371312,
          -0.4434337038627963,
          1.4458081462385595,
          -0.67924818994528,
          1.281484921143934,
          -0.8784757467797852,
          -1.3202928085254082,
          0.5506344173101945,
          -0.8949343237375725,
          -1.077852373898123,
          0.327680886810532,
          0.7492849307543851,
          -0.39336558641000424,
          0.022384046888135098,
          -0.5775353625677322,
          -1.3912638469431025,
          -0.7445645268591302,
          0.715125135161056,
          0.2122962087194431,
          0.35982179798007907,
          1.8916331826178003,
          0.5948561536062272,
          -0.6458181187180081,
          0.9060563212722086,
          1.1405474906290167,
          -0.24362518292055324,
          -0.2841553435022213,
          -0.6516039710448633,
          0.009005764341753257,
          0.5375632437704274,
          -1.6097801991494192,
          -0.9667752861046827,
          -0.47576365427811806,
          0.669173514509104,
          0.6352203515316607,
          -1.0606961574101976,
          -1.6172095638255723,
          0.9729277526754997,
          1.3896512914979897,
          0.08794171453984755,
          -0.6482079932129732,
          1.030884246003791,
          1.4357641461481725,
          -2.484063180086313,
          0.5639919583120293,
          -1.5368439469376671,
          -0.7600511657286368,
          -0.32104027744956104,
          -0.47257232451229175,
          0.08589280762380798,
          0.4041918849122964,
          1.697904091320306,
          0.6706631622236744,
          -1.0521392309926973,
          0.640581300191238,
          0.11825020859743765,
          -1.3732532144503102,
          0.5955867022300677,
          0.04059434385507313,
          -0.34892783614113665,
          -0.4611735526839671,
          1.3372613249424692,
          0.3288640642307107,
          -0.08150532132405341,
          0.4541850756915662,
          -0.017404867315180875,
          -1.0881602021900258,
          0.7872394164542938,
          0.4709178232143991,
          0.10864083849284505,
          0.3034687925260253,
          -0.03956189452327018,
          -1.0893566639096586,
          0.22273868026462937,
          1.7184735778034173,
          -0.47152542524198476,
          -0.42080982068900047,
          0.33595096260915114,
          -0.7947469670937622,
          0.5090850161060237,
          -0.9943626296937874,
          1.1980014740060962,
          -1.3911937433566472,
          -0.4124997930978965,
          0.26831966302672405,
          -0.44438062219763064,
          -0.22386909481982845,
          -0.07459724712950885,
          -0.3412922166005509,
          -0.11269386157276254,
          -0.5745356597277377,
          0.35480387243603473,
          0.08966110890173427,
          1.6346216998315666,
          0.3736843502295465,
          0.14409155500203283,
          -0.9970404201490407,
          -0.15059520122021156,
          1.5713917285042163,
          0.2921238258678828,
          0.0020755800225954807,
          0.41975675132484147,
          -1.518135234744327,
          0.7923158505389115,
          0.9254789999877686,
          -1.327455258906149,
          0.5999081113893747,
          0.4949315927587761,
          -0.3371679598851998,
          -1.7419938129601287,
          -1.904138385562004,
          -0.5200260039533193,
          -1.4538303060715398,
          -0.927435237873367,
          1.7884011067506125,
          0.40343125789640366,
          0.947319124789353,
          0.443064435846976,
          -1.0427025717210112,
          -0.7454352811175461,
          -0.3061172319000653,
          0.870663109405649,
          -0.013282250177720023,
          0.30616937378098297,
          1.012111912179975,
          -1.0867184169126194,
          0.7894315046205268,
          -0.7543367361372061,
          -0.29950321241519146,
          1.135652127328681,
          0.45112935723302106,
          0.08993036631670664,
          -0.1040696324454269,
          0.5881907665869418,
          -0.8451831978677472,
          -1.0818929997634346,
          -1.5638119028181334,
          -0.43311926434252707,
          0.647242086730018,
          0.9077434908584278,
          0.036295198184100895,
          -1.2194281271239753,
          -1.7627042870841856,
          0.9142589238989379,
          0.6653882489729982,
          -0.04158401340538485,
          -0.7251547707010829,
          -0.935446187858288,
          -1.7799931893795624,
          0.4739290884753939,
          -1.0432403709827531,
          1.1854331671717229,
          -0.8292146668436259,
          0.6602730022730877,
          -1.3175204291546252,
          -0.3130581264652037,
          -0.25552421335515113,
          -0.5841866867563279,
          -1.0488760408780207,
          1.4807722460677863,
          -0.754255432476593,
          0.534772894675075,
          -0.8471061323277866,
          -0.022670061204315264
         ]
        }
       ],
       "layout": {
        "template": {
         "data": {
          "bar": [
           {
            "error_x": {
             "color": "#2a3f5f"
            },
            "error_y": {
             "color": "#2a3f5f"
            },
            "marker": {
             "line": {
              "color": "#E5ECF6",
              "width": 0.5
             },
             "pattern": {
              "fillmode": "overlay",
              "size": 10,
              "solidity": 0.2
             }
            },
            "type": "bar"
           }
          ],
          "barpolar": [
           {
            "marker": {
             "line": {
              "color": "#E5ECF6",
              "width": 0.5
             },
             "pattern": {
              "fillmode": "overlay",
              "size": 10,
              "solidity": 0.2
             }
            },
            "type": "barpolar"
           }
          ],
          "carpet": [
           {
            "aaxis": {
             "endlinecolor": "#2a3f5f",
             "gridcolor": "white",
             "linecolor": "white",
             "minorgridcolor": "white",
             "startlinecolor": "#2a3f5f"
            },
            "baxis": {
             "endlinecolor": "#2a3f5f",
             "gridcolor": "white",
             "linecolor": "white",
             "minorgridcolor": "white",
             "startlinecolor": "#2a3f5f"
            },
            "type": "carpet"
           }
          ],
          "choropleth": [
           {
            "colorbar": {
             "outlinewidth": 0,
             "ticks": ""
            },
            "type": "choropleth"
           }
          ],
          "contour": [
           {
            "colorbar": {
             "outlinewidth": 0,
             "ticks": ""
            },
            "colorscale": [
             [
              0,
              "#0d0887"
             ],
             [
              0.1111111111111111,
              "#46039f"
             ],
             [
              0.2222222222222222,
              "#7201a8"
             ],
             [
              0.3333333333333333,
              "#9c179e"
             ],
             [
              0.4444444444444444,
              "#bd3786"
             ],
             [
              0.5555555555555556,
              "#d8576b"
             ],
             [
              0.6666666666666666,
              "#ed7953"
             ],
             [
              0.7777777777777778,
              "#fb9f3a"
             ],
             [
              0.8888888888888888,
              "#fdca26"
             ],
             [
              1,
              "#f0f921"
             ]
            ],
            "type": "contour"
           }
          ],
          "contourcarpet": [
           {
            "colorbar": {
             "outlinewidth": 0,
             "ticks": ""
            },
            "type": "contourcarpet"
           }
          ],
          "heatmap": [
           {
            "colorbar": {
             "outlinewidth": 0,
             "ticks": ""
            },
            "colorscale": [
             [
              0,
              "#0d0887"
             ],
             [
              0.1111111111111111,
              "#46039f"
             ],
             [
              0.2222222222222222,
              "#7201a8"
             ],
             [
              0.3333333333333333,
              "#9c179e"
             ],
             [
              0.4444444444444444,
              "#bd3786"
             ],
             [
              0.5555555555555556,
              "#d8576b"
             ],
             [
              0.6666666666666666,
              "#ed7953"
             ],
             [
              0.7777777777777778,
              "#fb9f3a"
             ],
             [
              0.8888888888888888,
              "#fdca26"
             ],
             [
              1,
              "#f0f921"
             ]
            ],
            "type": "heatmap"
           }
          ],
          "heatmapgl": [
           {
            "colorbar": {
             "outlinewidth": 0,
             "ticks": ""
            },
            "colorscale": [
             [
              0,
              "#0d0887"
             ],
             [
              0.1111111111111111,
              "#46039f"
             ],
             [
              0.2222222222222222,
              "#7201a8"
             ],
             [
              0.3333333333333333,
              "#9c179e"
             ],
             [
              0.4444444444444444,
              "#bd3786"
             ],
             [
              0.5555555555555556,
              "#d8576b"
             ],
             [
              0.6666666666666666,
              "#ed7953"
             ],
             [
              0.7777777777777778,
              "#fb9f3a"
             ],
             [
              0.8888888888888888,
              "#fdca26"
             ],
             [
              1,
              "#f0f921"
             ]
            ],
            "type": "heatmapgl"
           }
          ],
          "histogram": [
           {
            "marker": {
             "pattern": {
              "fillmode": "overlay",
              "size": 10,
              "solidity": 0.2
             }
            },
            "type": "histogram"
           }
          ],
          "histogram2d": [
           {
            "colorbar": {
             "outlinewidth": 0,
             "ticks": ""
            },
            "colorscale": [
             [
              0,
              "#0d0887"
             ],
             [
              0.1111111111111111,
              "#46039f"
             ],
             [
              0.2222222222222222,
              "#7201a8"
             ],
             [
              0.3333333333333333,
              "#9c179e"
             ],
             [
              0.4444444444444444,
              "#bd3786"
             ],
             [
              0.5555555555555556,
              "#d8576b"
             ],
             [
              0.6666666666666666,
              "#ed7953"
             ],
             [
              0.7777777777777778,
              "#fb9f3a"
             ],
             [
              0.8888888888888888,
              "#fdca26"
             ],
             [
              1,
              "#f0f921"
             ]
            ],
            "type": "histogram2d"
           }
          ],
          "histogram2dcontour": [
           {
            "colorbar": {
             "outlinewidth": 0,
             "ticks": ""
            },
            "colorscale": [
             [
              0,
              "#0d0887"
             ],
             [
              0.1111111111111111,
              "#46039f"
             ],
             [
              0.2222222222222222,
              "#7201a8"
             ],
             [
              0.3333333333333333,
              "#9c179e"
             ],
             [
              0.4444444444444444,
              "#bd3786"
             ],
             [
              0.5555555555555556,
              "#d8576b"
             ],
             [
              0.6666666666666666,
              "#ed7953"
             ],
             [
              0.7777777777777778,
              "#fb9f3a"
             ],
             [
              0.8888888888888888,
              "#fdca26"
             ],
             [
              1,
              "#f0f921"
             ]
            ],
            "type": "histogram2dcontour"
           }
          ],
          "mesh3d": [
           {
            "colorbar": {
             "outlinewidth": 0,
             "ticks": ""
            },
            "type": "mesh3d"
           }
          ],
          "parcoords": [
           {
            "line": {
             "colorbar": {
              "outlinewidth": 0,
              "ticks": ""
             }
            },
            "type": "parcoords"
           }
          ],
          "pie": [
           {
            "automargin": true,
            "type": "pie"
           }
          ],
          "scatter": [
           {
            "marker": {
             "colorbar": {
              "outlinewidth": 0,
              "ticks": ""
             }
            },
            "type": "scatter"
           }
          ],
          "scatter3d": [
           {
            "line": {
             "colorbar": {
              "outlinewidth": 0,
              "ticks": ""
             }
            },
            "marker": {
             "colorbar": {
              "outlinewidth": 0,
              "ticks": ""
             }
            },
            "type": "scatter3d"
           }
          ],
          "scattercarpet": [
           {
            "marker": {
             "colorbar": {
              "outlinewidth": 0,
              "ticks": ""
             }
            },
            "type": "scattercarpet"
           }
          ],
          "scattergeo": [
           {
            "marker": {
             "colorbar": {
              "outlinewidth": 0,
              "ticks": ""
             }
            },
            "type": "scattergeo"
           }
          ],
          "scattergl": [
           {
            "marker": {
             "colorbar": {
              "outlinewidth": 0,
              "ticks": ""
             }
            },
            "type": "scattergl"
           }
          ],
          "scattermapbox": [
           {
            "marker": {
             "colorbar": {
              "outlinewidth": 0,
              "ticks": ""
             }
            },
            "type": "scattermapbox"
           }
          ],
          "scatterpolar": [
           {
            "marker": {
             "colorbar": {
              "outlinewidth": 0,
              "ticks": ""
             }
            },
            "type": "scatterpolar"
           }
          ],
          "scatterpolargl": [
           {
            "marker": {
             "colorbar": {
              "outlinewidth": 0,
              "ticks": ""
             }
            },
            "type": "scatterpolargl"
           }
          ],
          "scatterternary": [
           {
            "marker": {
             "colorbar": {
              "outlinewidth": 0,
              "ticks": ""
             }
            },
            "type": "scatterternary"
           }
          ],
          "surface": [
           {
            "colorbar": {
             "outlinewidth": 0,
             "ticks": ""
            },
            "colorscale": [
             [
              0,
              "#0d0887"
             ],
             [
              0.1111111111111111,
              "#46039f"
             ],
             [
              0.2222222222222222,
              "#7201a8"
             ],
             [
              0.3333333333333333,
              "#9c179e"
             ],
             [
              0.4444444444444444,
              "#bd3786"
             ],
             [
              0.5555555555555556,
              "#d8576b"
             ],
             [
              0.6666666666666666,
              "#ed7953"
             ],
             [
              0.7777777777777778,
              "#fb9f3a"
             ],
             [
              0.8888888888888888,
              "#fdca26"
             ],
             [
              1,
              "#f0f921"
             ]
            ],
            "type": "surface"
           }
          ],
          "table": [
           {
            "cells": {
             "fill": {
              "color": "#EBF0F8"
             },
             "line": {
              "color": "white"
             }
            },
            "header": {
             "fill": {
              "color": "#C8D4E3"
             },
             "line": {
              "color": "white"
             }
            },
            "type": "table"
           }
          ]
         },
         "layout": {
          "annotationdefaults": {
           "arrowcolor": "#2a3f5f",
           "arrowhead": 0,
           "arrowwidth": 1
          },
          "autotypenumbers": "strict",
          "coloraxis": {
           "colorbar": {
            "outlinewidth": 0,
            "ticks": ""
           }
          },
          "colorscale": {
           "diverging": [
            [
             0,
             "#8e0152"
            ],
            [
             0.1,
             "#c51b7d"
            ],
            [
             0.2,
             "#de77ae"
            ],
            [
             0.3,
             "#f1b6da"
            ],
            [
             0.4,
             "#fde0ef"
            ],
            [
             0.5,
             "#f7f7f7"
            ],
            [
             0.6,
             "#e6f5d0"
            ],
            [
             0.7,
             "#b8e186"
            ],
            [
             0.8,
             "#7fbc41"
            ],
            [
             0.9,
             "#4d9221"
            ],
            [
             1,
             "#276419"
            ]
           ],
           "sequential": [
            [
             0,
             "#0d0887"
            ],
            [
             0.1111111111111111,
             "#46039f"
            ],
            [
             0.2222222222222222,
             "#7201a8"
            ],
            [
             0.3333333333333333,
             "#9c179e"
            ],
            [
             0.4444444444444444,
             "#bd3786"
            ],
            [
             0.5555555555555556,
             "#d8576b"
            ],
            [
             0.6666666666666666,
             "#ed7953"
            ],
            [
             0.7777777777777778,
             "#fb9f3a"
            ],
            [
             0.8888888888888888,
             "#fdca26"
            ],
            [
             1,
             "#f0f921"
            ]
           ],
           "sequentialminus": [
            [
             0,
             "#0d0887"
            ],
            [
             0.1111111111111111,
             "#46039f"
            ],
            [
             0.2222222222222222,
             "#7201a8"
            ],
            [
             0.3333333333333333,
             "#9c179e"
            ],
            [
             0.4444444444444444,
             "#bd3786"
            ],
            [
             0.5555555555555556,
             "#d8576b"
            ],
            [
             0.6666666666666666,
             "#ed7953"
            ],
            [
             0.7777777777777778,
             "#fb9f3a"
            ],
            [
             0.8888888888888888,
             "#fdca26"
            ],
            [
             1,
             "#f0f921"
            ]
           ]
          },
          "colorway": [
           "#636efa",
           "#EF553B",
           "#00cc96",
           "#ab63fa",
           "#FFA15A",
           "#19d3f3",
           "#FF6692",
           "#B6E880",
           "#FF97FF",
           "#FECB52"
          ],
          "font": {
           "color": "#2a3f5f"
          },
          "geo": {
           "bgcolor": "white",
           "lakecolor": "white",
           "landcolor": "#E5ECF6",
           "showlakes": true,
           "showland": true,
           "subunitcolor": "white"
          },
          "hoverlabel": {
           "align": "left"
          },
          "hovermode": "closest",
          "mapbox": {
           "style": "light"
          },
          "paper_bgcolor": "white",
          "plot_bgcolor": "#E5ECF6",
          "polar": {
           "angularaxis": {
            "gridcolor": "white",
            "linecolor": "white",
            "ticks": ""
           },
           "bgcolor": "#E5ECF6",
           "radialaxis": {
            "gridcolor": "white",
            "linecolor": "white",
            "ticks": ""
           }
          },
          "scene": {
           "xaxis": {
            "backgroundcolor": "#E5ECF6",
            "gridcolor": "white",
            "gridwidth": 2,
            "linecolor": "white",
            "showbackground": true,
            "ticks": "",
            "zerolinecolor": "white"
           },
           "yaxis": {
            "backgroundcolor": "#E5ECF6",
            "gridcolor": "white",
            "gridwidth": 2,
            "linecolor": "white",
            "showbackground": true,
            "ticks": "",
            "zerolinecolor": "white"
           },
           "zaxis": {
            "backgroundcolor": "#E5ECF6",
            "gridcolor": "white",
            "gridwidth": 2,
            "linecolor": "white",
            "showbackground": true,
            "ticks": "",
            "zerolinecolor": "white"
           }
          },
          "shapedefaults": {
           "line": {
            "color": "#2a3f5f"
           }
          },
          "ternary": {
           "aaxis": {
            "gridcolor": "white",
            "linecolor": "white",
            "ticks": ""
           },
           "baxis": {
            "gridcolor": "white",
            "linecolor": "white",
            "ticks": ""
           },
           "bgcolor": "#E5ECF6",
           "caxis": {
            "gridcolor": "white",
            "linecolor": "white",
            "ticks": ""
           }
          },
          "title": {
           "x": 0.05
          },
          "xaxis": {
           "automargin": true,
           "gridcolor": "white",
           "linecolor": "white",
           "ticks": "",
           "title": {
            "standoff": 15
           },
           "zerolinecolor": "white",
           "zerolinewidth": 2
          },
          "yaxis": {
           "automargin": true,
           "gridcolor": "white",
           "linecolor": "white",
           "ticks": "",
           "title": {
            "standoff": 15
           },
           "zerolinecolor": "white",
           "zerolinewidth": 2
          }
         }
        }
       }
      },
      "text/html": [
       "<div>                            <div id=\"5f6796b7-58c2-4cce-ac97-b4af4f94e383\" class=\"plotly-graph-div\" style=\"height:525px; width:100%;\"></div>            <script type=\"text/javascript\">                require([\"plotly\"], function(Plotly) {                    window.PLOTLYENV=window.PLOTLYENV || {};                                    if (document.getElementById(\"5f6796b7-58c2-4cce-ac97-b4af4f94e383\")) {                    Plotly.newPlot(                        \"5f6796b7-58c2-4cce-ac97-b4af4f94e383\",                        [{\"mode\":\"markers\",\"x\":[0.04171839574271226,-0.2611368617112593,-0.6407362426009372,-1.075769400482684,0.24396044471222508,-1.0969245595994326,-1.925989529063869,-0.21680301760816753,-1.362817214689613,-2.371046712264731,0.09682765823028375,-0.4083507907144704,0.7762388169412685,1.2443579045322481,0.2696946498450773,-0.10786730673961764,0.15920396342170162,-2.160292929857734,1.6056622343343967,0.7182663372862774,-0.19481133811951537,0.27639952555306013,0.252828316544044,0.9917619980663426,0.4470800661128445,0.017577521622822938,-0.5299084930807341,-2.154504640486401,0.8694475651558273,2.297426249878466,-1.6006648300995967,0.17718891284532878,0.9049119380589683,-1.742127380621419,0.4640977517748202,1.1549550417839372,0.25201181992872373,-0.5164258659471167,-1.0337187975025455,-2.2171620179457547,-3.327759393228987,-0.000710013752703686,-1.0226534951939468,1.8679609166059665,-0.06719617105209942,0.2264775250374214,-0.836688464347169,0.3529475949787544,-1.4316504099547314,-0.18546185811352803,1.0872469678223287,-0.6370559640019096,-0.5404955668018476,-1.6142705854481547,-0.3384090897906876,-0.020499087037769603,-0.26936443040256836,0.17603560231554133,-0.15641232316661013,1.984067657037422,0.835699571468203,-0.3065804459710011,0.9703114703274724,0.7230142988013001,0.9376056273377196,0.6904368951131337,0.33704670929611147,1.6418999067874067,0.46167399441326484,-0.1976784614386178,-0.7125191530679834,2.001761307443476,0.5456085888485257,-1.9225663428343955,0.5851190827742395,-0.894590842569661,-0.5001455563391681,-0.429238049588382,0.2618546557655746,-0.8762972416422388,0.5873603908063239,-0.13966854595342437,0.006429151664178307,-1.3352821001116406,1.1355309996983303,0.47581672570496303,-0.7399817755408962,0.58599473133127,0.3468693457267958,0.272521816999852,-2.3258556306049565,1.1547638445772026,-1.5741202250241306,0.7367100634681275,-1.9995951968993595,-1.441737604933081,-0.05062870968637752,-1.4776266238215703,1.260631897347472,-0.953615452046615,0.16050129356812487,0.7055095838573092,0.48730134395282226,-2.3492944441322576,0.6255775825328062,0.48113036458234926,0.16251006485366276,0.9349330113743353,-1.4300892090582022,-0.22160606528630555,-0.22209284824798073,-0.18017799174841448,-2.2440622302109112,0.4051451017843592,-0.6600185043084208,0.19619760114410859,0.9491520371671807,0.10285195667181889,-0.11753558069306139,0.998754223809748,1.1816908258275642,-0.9362351662029123,1.1123981068878115,0.4279451520377513,0.17297976649433944,0.10651909480681909,-0.7484790813886156,-0.8488367050000081,-0.8887099080612723,1.6843980583982474,0.3711583552172098,-1.8424624884715237,0.30806740159157864,1.813531412475534,0.27704516491934034,-0.3426232883625245,-0.8674049451593482,2.653796913745571,-0.598956093060771,0.0454092253578737,-0.6528908012317484,0.7949702769263107,-1.925908711972167,0.6481431586914935,1.306793624104805,0.8796580442812434,-1.3007133285420047,1.5093886837720896,0.5145646621900807,0.24811115546058277,-0.23555080867946035,0.7449519620424843,0.3705874037938882,-0.5243476784130203,0.8396572596574684,-0.9173655860446878,-1.9106937032250704,1.8406791273604444,-0.5860157644730494,1.178745128006587,0.8242564057310658,-0.2174761558920588,-0.18934759157744943,-0.018966432717119522,-1.0211180376393034,1.558190375056567,-0.19160836147002128,-0.9533142646257043,0.03313862595678203,1.113316517954338,-1.8204529791236035,0.19195946338890718,0.8074198975787301,0.4029359832220114,1.068557610558696,0.05612523011789818,-0.49118338725651545,-1.5311361226024973,-0.10533217619626113,0.41100301455326177,0.7440914869248596,0.06944929255666085,-0.6537277194092636,0.5529270264542034,-1.730037652382003,-0.7949989130404133,0.7850824025538823,-0.4965783366812928,1.2253611306234025,1.4846713469957995,-0.15812721481970726,0.7180888453978106,-1.159514385951345,-0.23044062890712297,-0.06109062868509759,1.0209471822149916,-1.3840409453478915,0.35458696522104366,1.7428330470688984,0.4195804315362469,-0.933671561417386,-0.34767702312928395,-1.683418679828292,0.23797627455638717,-0.3454035110018786,-1.1908550298874063,1.3194396008366718,-0.3415265773212675,1.9957364040312682,0.43572800826345226,-0.9497353248810049,0.034452962716182534,0.6812877498564253,0.369454130877394,1.2766938599293005,-1.6625120885667388,1.9840902724410148,1.0532502678422642,1.3064311682463998,-0.9327443058193026,0.21377578690577248,0.5074717948151054,0.28378645131392616,-0.8238449815358019,-0.2252116724246095,0.4244216469220457,0.5610516091298667,-0.3844104309307175,0.9520126874526434,0.23138886226673985,0.5152139437076119,-1.2213404698796746,-0.5761006006815244,-0.6727659266538839,-0.458241418884341,-0.45925183794210844,-0.4683432744720758,-0.23814587286745664,0.10079596508755474,-0.458728869791633,1.21415063372995,0.3515726041178612,-2.1613913064498727,-1.1367810605754147,1.7087919832465053,-0.7030728254948972,0.21069304584661608,0.3372966594286741,-0.8012026160857104,1.564686077561917,-1.5153319380394283,0.8129020765031816,0.35330472262544776,-0.719317622615938,0.19411662646202596,-1.3364614922213633,-0.8231413316110614,-0.1845026845227961,-0.1755250518387181,-0.08260160029544598,0.2618519888488546,-1.3395715266262112,-0.3355029428596814,-0.26350730027210334,1.1153105803323977,-0.2537980212701058,-0.6407240477994647,0.3053469655269539,-0.8984754924211681,0.2734260855550361,-0.40977361459603096,-1.6717520448012009,0.5376115388874342,0.2829199575562445,1.0858191826601782,0.16458189782732097,-0.7588627563170004,-0.9578990933168657,-1.3187201898703023,0.7613974887516503,-0.6574097030890678,-1.2490595687534973,0.032365746251686,-1.7851600800806624,-0.2918259070715845,1.6809141371488094,0.021142531449267664,1.5740913550965838,-1.3114025502250568,-0.900288964252202,1.927317216170929,-1.3536481593266712,-0.6204251899001911,0.8362416247589726,-1.4042721993247778,-0.16088269864884128,2.2479722602610255,-0.013931778715787688,-1.703643984636912,1.3102035919169484,0.965630010049323,-0.7988090950560119,-0.7929747107333344,0.20919904889766094,-0.8952371891338449,0.07036824966124358,0.36952041016177256,0.06342041651165271,-1.262670229988166,-0.3704762114854069,1.1316052315014746,1.3281578677322692,-1.5127085652699903,-0.27201293664295845,-0.6523580694853043,-2.1132941956037765,-0.2419390136859988,0.8570894126557277,-1.3180721584171033,1.1362784236142465,-0.801972196335634,-0.06574696505421301,-0.2032914981559011,-1.7685362137169918,0.08446738157663722,-0.7884659964080521,-0.4516766169625296,0.7088998509481815,0.4527666889177439,0.9978221619750546,-1.428610418019851,0.8570794441190911,-1.0141295308165241,0.5178220257263407,-0.011622251832368946,-0.5654164379622721,-1.0883911115056082,-1.8219286814217608,-0.43183834967515694,-1.2378360014318368,-1.9760659042553783,0.4146066466667197,1.2653810476068441,-1.2656214389291889,-0.1579076413203953,0.7160534902385955,1.1697311354105868,-0.3717557245955989,0.08168164344234077,0.6670673735247173,1.6076850747573874,-0.8190647326401185,0.02994899917566372,0.011057382562167636,0.688536146312552,0.7047303779373375,0.03421218654400939,-1.3787266345501588,1.5911826758985617,-0.972128603166176,-0.1528272228140948,-0.06066206201650204,-1.0965604818830499,-1.3742148116698105,0.5963783789413798,-0.7040908795616824,-0.4704683477065601,1.3943442032814914,0.3498956383267257,0.5243911701868141,-0.41501649322216627,2.2639139090778433,-0.5875454238863603,0.40199730577722886,-0.6958133076896128,0.7808408409296619,-1.615384241699829,-0.8247206767135357,-0.42396187162168714,1.5108222743193591,0.36344103870841116,0.9884463409614214,-0.11938357045607192,-0.2905965023751519,-1.160310147820318,-0.21124567270808423,-0.5139157006322868,1.4188950353441128,-1.8137699249575971,0.7298350560854517,0.9072434154920238,0.27559387436229543,-0.7145439604092594,0.5946309288183683,0.15729696569317472,0.20296127547094467,-0.4193126115721588,-1.345463584351989,-1.4693202310063918,2.224953365664178,-0.336070490807434,-1.3231161577795971,0.6867326893786727,-1.5824106397797333,0.3667636833633321,1.5148684879510843,-0.29089924199609263,0.7519542676085649,1.5411634516080661,2.4912872968761985,-0.41332277864935185,-0.7269879783784782,0.21966559556749524,0.29835490542140136,0.25414977399994143,0.23320294787405618,0.46119113640574433,0.6387290526224433,1.9859148485351255,-0.874151628608979,0.5396995425082288,-0.007699591841300627,0.47978061926718896,0.49501473138437113,2.0028088378451914,-1.20047635619632,1.0253156127953196,-0.5520416132087946,-0.5362404852559058,-0.12113677901711858,1.392905213337903,-0.474722654112987,-1.5670851700688582,-0.9041265630631997,0.6662118830430059,-0.110552427469188,0.32641374815650587,-0.8299167833004394,0.8262340519170462,-0.7436368496626695,-0.8242765452697227,-1.901958820189464,0.5849884202584354,-1.2141131780065817,1.7013297947868558,-1.2536835496694283,-0.2729070803840062,-0.7947925571174517,0.13970519861545103,0.6454457860355488,-0.16392012416849777,-0.32366059320340124,-1.4011668722618078,0.22932213822702818,0.2601337960288152,0.18776786917204255,-0.323692830593861,1.254791951094802,-1.1009700230336061,-1.1427728551740355,0.603800310763177,-0.9681706515243137,1.0818381205212613,-0.3530624240657876,-0.8991828653700602,-1.8523416234417596,-1.1880495384161494,0.4381224597458715,1.1509342686815378,0.13011885406507434,0.1580460528032669,1.424795616679719,-0.928937659608081,-0.13622432164701953,1.0474833188612702,1.179529436272847,0.23528690300562044,-0.1597490779596632,-0.445412835945049,0.6169592320204205,1.070746149290374,1.0267854358410458,0.9121552749876861,-0.8998590236458024,0.3988013367393188,0.5466732971705709,1.342347119001602,-0.2522555045440089,-0.17628063091760934,0.8644783972349303,0.9392121125269182,-0.1667139707200284,-0.17236899881413195,0.7856060641028697,-0.22225543958509936,-0.34928429477335404,-0.39649815347860407,0.48847926425142835,0.038808254332355206,1.11702642645119,-0.5577699788692914,-1.524840266210436,0.3052284407065881,1.039826610593805,0.7733904069861806,1.1226102323926967,0.5116400097391006,0.04173876684029611,0.32976557033511655,-0.8767370810523623,0.7812659822353581,0.16583696231438985,-0.03777772174892622,1.430740265609177,0.04398771041481568,0.36258050014175636,1.704090563755701,0.6358666120924934,0.3657323913066818,0.10692636174856461,0.08660569362011457,1.8032966760278555,0.3173656562111434,0.2064412894498419,1.0263923389040421,-0.8868079703751066,-1.617981199873426,0.29247670729583686,-0.19983417623886313,0.22448554500293771,-0.4682077372453968,1.3600970980655553,-1.3434994759471628,0.5271842495687745,0.31358202512702243,1.8548835543853752,-1.895898586232011,0.07637357962259066,-0.22825848148171948,1.5117667158277837,-0.04716709932037814,0.8196077493636817,-0.557345414588034,0.7759673532197393,-0.670056668547903,0.5087430864049984,0.18088037540473373,-0.8394512023123475,0.4407249239645949,1.8541239222813255,-1.5589406922939728,0.6992242727360457,-1.046345860064025,1.394757904413045,-0.5775808796110938,-1.3827576522418392,-0.5628985144491659,0.27587958485842295,0.2871947400584011,0.9728580931410205,-0.06649377585752629,0.9927215024076331,1.3155370111693467,0.3458667204613768,0.5601156233980229,0.9973317113623089,0.3959314431620652,0.2723039355738779,0.6712122701933363,1.0314618312121813,-2.012365001776443,1.2624680030676645,0.5026370180548896,1.0943259388747553,0.8501137715083776,2.1549818662105658,-0.20107762230508272,-1.113593242683752,0.1817475579953052,0.6450208122045135,-0.14438551046423165,-2.14708206748777,0.7134427508118342,-1.1180547032605168,-0.5016997756041766,-1.026552163239355,-0.6050059862608048,1.2757110938698073,-1.7150600599154104,-0.6028815805609651,0.2468411902748411,0.9661939347150421,1.0520043968730775,0.24295939066066458,1.7177153332143444,-1.3781450076931827,1.2995092930829446,-0.7752381181560771,-0.09002989258551797,-0.5490337030290284,0.9558073877870292,0.3434369023887152,-0.09525203723188795,-0.38975746999013045,-2.5137413288462613,-1.587223712666721,-0.6306133075480672,-2.0791571143933774,-0.08946149850526401,0.9028757069192597,-0.3379120460937466,0.6845044347166745,-1.4120053982139227,-1.525972942593881,0.6817555107439707,2.3806940127528047,-0.46810387089086,0.10961991606587478,-0.9104454054387296,-0.7226426485049819,0.2126625887918231,-0.21003555139387273,0.9319952811711879,0.36039960030307455,1.0615155162315737,0.5102534474524493,-1.0629260288254638,-1.1001111311024405,-1.272131497233097,-0.7084027826642664,-0.666100633405787,0.36573125783193894,1.1982047780347662,1.2932272815337633,1.1198900001079932,-0.6228250257509108,-0.7782934143322665,-0.47834565246739486,-0.3506518966802523,-2.629220237269222,-1.5017951552469098,-1.1741341321695702,-2.3024518449833713,0.5774096792241464,-1.7708669054312312,0.46280738028483853,-1.3609740776201849,0.5716362290616407,0.16181332304124305,-0.8175344261186821,0.49538408630432856,0.8883275451244603,-0.6912733463728691,0.7990560819630441,0.2554089847448367,-0.3133753958445066,0.258272600475881,-0.2552093236880078,-0.5606223263973826,0.3771279422627384,-0.08322908189418456,-0.08165990820514521,-0.8867267071663036,-0.046247023896890324,-1.23253759518078,1.150168125824962,0.4156031082321404,0.5326489232669505,0.18100071913584345,-0.0763128499277926,0.44253611865343107,-0.2113625278847744,-0.1561902133120911,-0.13329299100812525,-0.9228213080127455,-0.6797773432515632,0.39951047487659996,-0.8902961168258114,1.8852769183980915,-0.8323796388885323,-1.3146857133044736,-0.5414095344636791,-0.8950343918478562,-0.6283528040330921,0.4053965934553265,0.9426917539890167,-0.386098643794411,-1.236781078094021,1.560513487147787,0.5644990436047814,-0.08162431588419518,-1.5330864404369386,-1.2292563127473022,0.6436075233013917,-0.542202548936457,-1.5101304421582258,0.5489802221653943,0.1389751769951218,-0.3911794612543978,-0.05795457373568181,-0.4905009159762876,-1.9519219824757061,0.00020007654410519445,-0.12628272352205475,0.4689347175441886,1.3961980838739303,1.3190903176419653,1.394576443296319,-0.5113483406748408,-1.7588397019167896,0.27164280041602634,0.7616434282048002,-0.22584248546121244,-0.34231343347297605,-0.6154171420023626,0.7425013738606399,-1.0444932496347716,-0.9839312383614636,-0.40118733618936475,0.6135729421310834,0.21549739298261864,-0.4211602808653575,0.7926378242830934,1.002616096812179,0.3481712562040131,0.9524774750261803,1.0599785276602882,-0.33580097255680436,0.4573150600663487,-0.8886780793856118,-0.4251772587985244,0.05776685881507812,-0.7407056331262244,-1.3940832325090757,-0.881261625481468,-1.1128335293615303,1.3273061140437015,1.3934961311331455,1.8607410137170517,0.2614373403812039,0.9295437776474503,-0.5964618686342459,2.7840500714772736,-0.30659082270950666,1.0097038268626621,0.40305502599072945,-0.03400596521199504,-0.2337931014459289,0.11191287476800396,1.620773947671542,0.008283023548197967,-1.0118063257547538,-0.5976671912587044,0.30985245344710755,0.5154489347881915,-0.795473964172464,-1.1039638375841982,-0.5280678443039039,-1.5929699408723,-0.49163642329357116,0.7429268293430873,0.17022482241719472,-0.3950199497645868,-1.182149909718904,2.3553500312542353,1.0350423090519556,-0.2881569432536678,1.0762817553314572,-2.6572134397155978,0.17962943371957382,-2.5685226635867116,-1.2034924613794953,0.17037498111393276,1.9242944018006654,-0.24128423980555042,-0.5083083991826365,1.6920380080596467,-0.8422368142977817,-0.9906147508158715,-0.7953948691665905,-0.3626073728443063,0.34983842232669954,0.8052053109093329,0.26635479555168834,0.5137799540195761,0.6754752221736853,0.1184296905221734,0.948294050034656,1.908596244745533,1.4125277882168148,0.48320700136797384,1.9212058011110926,-0.3945411138043272,-1.0610068173851601,0.035387328868890636,-1.6475142306859933,0.7512691117990649,0.3468347447178251,0.7117738080098448,0.21317187093436307,1.474937115335004,-0.08758019713814576,0.2580998885117351,0.031145819015127377,1.4042255291781607,-1.4837371352740576,0.30239335831288205,-0.1255542230043515,1.0647903126271172,0.8576708766549722,-0.18746504594013166,-0.10229379274641584,1.2766042617205915,-0.8969560637767284,0.5129872385901769,-1.6584020774152428,-0.19294443482611584,-0.3750390619992653,0.09085644894948162,-0.5013517465550603,2.10667142728004,0.08782507332668303,0.8803385374107091,-0.23210347168442297,-0.20621559812940318,-1.4033253686780067,-0.061623784628470915,-0.7757439699565835,1.0125485584448422,-0.9659115667990992,-0.23786972229346112,-2.1526848117140647,-0.5921940328786301,0.932631170773239,-0.42600580748363376,-0.5689299721407799,-0.028455588514439092,0.6410437958238285,-1.7517280911664672,-0.1755108897829278,-1.7710116648076535,0.11849083312555111,-1.4525664728442673,-0.23013739098201746,-0.7401819892745483,0.26194624008274003,-0.595355219573179,0.3045135887007546,0.8587372893279326,-0.8151806732303294,-0.9216206964703018,2.2975591607526944,-0.9626064302216596,-1.0340676629334384,1.1974830291016823,0.9933641403000447,0.8663493649715307,-0.6425359170759732,-0.5210259294909615,-0.4187908972694577,1.4157206597915357,0.4302316206628439,-0.9470553733946387,-0.05085973357443722,-0.532719362482763,-0.14161707781501529,-2.10281857098271,0.5119400477017193,-0.20036493203658068,-0.6547555500513201,0.003699352184820704,-0.9059564290208708,1.8368977020936774,-1.9324501631146167,-0.7129587454157577,0.5584906313339237,0.2159936755199877,0.9457292895699198,0.2516230260753416,0.7161513936526477,0.600550331399022,0.5253006725802926,0.7171058493686212,0.25475107215060183,-0.9802729330947826,2.281436301325778,-1.8298293656330036,0.21891185778871208,0.8699258118506678,0.771044402721974,0.9265332269511363,1.1194311865608193,-0.11326980258342474,-0.38430535206039934,0.4921455377000601,0.8562017695213326,-0.10653662311632313,-1.9005068042953768,-1.756507331520749,1.101056967768098,0.021996107507751283,0.619679304333959,0.13971161600107207,-1.8894762304247088,0.7627248273944153,-1.0723937298501829,-0.6811053948640055,1.0441872303117037,-1.447527349524198,-0.92505087322747,0.47554404756431734,1.487264315376294,0.07958126250686996,1.7879441811739472,-0.8062286554714986,-0.20399422578725995,0.5312847306895544,1.0513750971474054,-0.5110959818036,0.2885549115903699,0.8898014897934499,-0.33462932149619506,1.0040336586727345,-0.08317566987637356,0.650594867960757,-2.5347115340021715,-1.3471460053102922,0.5817348865239076,-0.3324033351437742,-1.493623669872996,-0.6259058171231004,-1.5808311499207521,0.4726890855308182,-2.092861428107435,-0.34975323651996554,0.1648878842235895,1.4266148562102376,0.16252434914337255,2.475361822550667,1.4310946105634372,-0.16465198956533625,-0.4022210689934519,-0.2993512937384064,-1.4285274195837345,0.44049088168634026,-0.7170027861726668,-1.6116089569734773,1.0018357760964627,-0.04064816246347266,0.12337619670546718,0.0180510096866161,-1.1587653139670966,-2.353206651432917,1.646092693873881,-0.6827578151012321,1.106674051746794,-0.6009381769926375,0.7883859140027643,0.63705950062149,0.8508007432575698,1.2624190315066028,-0.17269245098463845,-0.5514034658208187,0.1988325854704673,1.375736796241609,-0.034279054518727745,0.23650268431813004,1.6670001902523186,-0.19955621785374958,0.17331369949167447,-0.1305732729703623,-0.1491301475469886,-2.2439649678416393,2.977364387458728,-0.24344383430403355,-1.1753272106931978,1.662506650260976,0.07525789699476068,0.06494529480423603,-0.4226805930615297,0.6189604229787062,1.735016115238109,-1.5185159872463663,0.3917904571225558,1.3043976980100143,-0.7412918355300129,1.2493512426286895,0.17906253752570214,0.8828230286631737,-0.5637766489910875,0.3665942288595015,3.2037947426637317,-0.24877844141369376,1.1112946559695625,0.7162949734642725,-1.0030597316171317,0.7749588982144069,0.8607533645271894,-0.17144551477790518,-0.31147021465529307],\"y\":[0.19911290785985192,0.49615958212143607,-1.1597764243364608,-0.47516921782365124,0.3530201136199226,-0.9351321167807817,0.13582397773856558,1.257224651277629,0.15965045118426535,-1.2376051236641636,0.20814601634045574,0.6807440141200195,-0.11410841111453554,2.0110711967809354,1.236225877373062,-0.16844683107569694,0.7058063298439815,0.554140697580256,0.5486472934378249,-1.2221224749819337,-0.03198321006474642,-1.2516112529844399,-0.7877851239405328,-0.15050930067195595,1.5466293280729948,-1.4010080282497466,-0.08292208856822457,-1.1564739732605402,0.8178440311017924,0.579962320493293,-0.2612162424843421,-0.0840812764424332,1.105457610296814,0.9379947437402358,0.784550647315254,1.110367396086765,0.8255855148708106,-0.5019505680120449,-1.6756701832888925,0.3779299791829695,-0.09934163756940888,0.4365990126249134,1.4890878526860352,-0.4149377815267999,1.2129482019168107,0.10488790814719613,-0.6813583984717458,-0.9443404432342807,0.7559983012185769,0.3819239187586454,-0.16408635156312887,-0.020493874275861617,-0.25374554056818865,-0.9547354944853889,0.7429932130850928,-1.0293428801288083,0.13847201553433133,1.1265012782002284,1.2704993148389474,0.36153163567848967,-0.7326118798964559,-1.4905675667125595,0.2788390637792137,-0.607923950611399,0.1991123550382109,-1.411385624486133,-0.5918169716731598,2.2384509304882316,-0.1582911106582905,-1.3975439961709162,-0.9106784701821686,-0.004763727415422579,-0.0035147152166403184,0.01147433068765062,-0.3616230809760823,1.651913123910152,0.3487994494792088,-0.5745246865600537,0.9484603378840339,-1.3121420087808322,0.9095367054716377,0.05318424099464069,0.7514106898657895,0.9604155326627647,-0.9082881694175792,-0.4472979333620822,2.013939517522038,0.385910758014545,-0.3127139412213359,2.694507209057117,-0.6886414308798521,-1.2144990434612217,-2.190889595320716,0.30024047770071677,-0.017768739557124002,-0.702547143290197,1.3596710098398368,-1.657755329717878,-0.3734641164157857,1.7430068689185794,0.6848640403680352,-0.25752560970219124,-0.5739609404714314,-0.0010304142340636549,0.7686637729697335,-0.12891461161156928,0.1423937942471098,-0.06002233158076967,-0.10266309851312663,0.6232575605659779,0.751802640203334,-0.20957424205715797,-1.6841673959056656,-0.16431302065200357,0.3812554313599317,-0.30037966169400176,-0.690213557973562,-0.6125129845065557,-1.0620700476307072,1.4861936441317558,-0.2748213233310751,0.6278894310093479,0.6833208832772285,0.8532495517701821,-1.2573732404900575,0.8009050269828987,-0.17183092995281105,1.163976846075246,0.1121759266577917,0.7166127932258364,0.2821656118412203,0.4342626813612115,1.3909842204560139,0.4748396155511478,1.4552369625591333,2.152604867702733,0.7529176972525408,-0.7775278289459918,2.1708588178128685,1.0436653061127432,-1.8947816513555595,-0.3551988940058445,-0.5131072514821646,0.24698852665597187,0.7697258711001326,-0.5857573996087737,0.2158300792349573,-0.08690443610737861,2.5831405947130825,0.7986397821380826,0.9872973483144075,0.36475074787592354,-0.43561730424662926,-2.20671826179703,2.49977900553639,0.6921379719100271,2.4638057962785145,-0.3539974773276018,1.6741410882296017,-0.4634683598274373,-1.2535853823256697,-0.4373943455525452,-0.3861485674451491,1.7945620435047605,0.506583861014042,-0.3002219329311095,-0.3083041116558433,1.716524353183668,0.39003528856008507,0.7234450291422861,1.7110858512669194,-0.7255270017122362,-0.009702052961853433,0.31641773102595083,-0.05662092727311328,-1.2482865469603022,0.2077464247342368,-1.3326338675104745,-1.3327442870160062,-0.8950877558925957,0.2623265821537523,1.9872524125075592,-1.566272266689886,-0.7108932905232138,-1.026255922114199,2.4323417885183547,-0.652197293539232,-0.5414609528922399,0.5052397239296817,0.20257610756793845,-0.5001401676172457,0.38270813733493475,-0.029829783930635734,0.4241488378583747,1.704234908026304,-0.5558594699362052,1.6741877308356192,0.1466095725727731,1.0126860210719117,-0.9763554248412281,-0.5322036441445944,1.1405673380158479,2.8350033981204685,-0.19556012595127725,-0.7679626425878949,0.7414666884005537,-1.8806889599614742,1.620233209479425,0.4463514077649163,-1.328508022871416,0.5913847984086447,0.16322687731225238,-0.9239283415439749,-1.4138457321948785,-0.029275750785927826,-0.5862711908813041,1.332212095229051,-0.01494274620194024,0.18641185822671624,-1.857380533093237,0.27690027764280056,-2.168896487964386,-0.0605427098785021,-0.8726722129411393,-0.5975712800930757,-0.43476915425077345,0.49824147693481746,0.9617489603812878,-1.4688586679838533,0.3860199164171999,-0.02111240038866615,-1.3012052248244532,-1.1384807507818346,0.6181924926143665,-0.4848645115695831,-0.8216315521051661,0.6350931067894174,-0.6874552027535634,-1.2343029704323936,-2.466160642506375,0.7723937069842727,-1.8132216506026744,0.5364440922749707,0.8271466619301935,0.37238593428463657,-0.1793080489426373,-1.6815062792081357,2.2612845624850744,1.2052691173450285,-0.26779981174039547,0.32310775989683016,-0.13235760272356445,-1.3651456092660677,0.7901277416668703,-0.6690386848657731,-0.9242015669501924,-1.482674453682809,0.6516639357424099,-0.5642340360077428,0.511056970342447,0.5015319304862316,0.13075102675120157,-0.5190717710840512,-1.2497001421950433,-0.1508160584002219,0.43726491361592734,1.673459997054866,-0.052240317421827595,2.137652583028848,2.9987808662937927,1.6712550239730923,-0.7021436955484729,0.07054397782129522,-0.4631426370514652,-0.30582622411683846,-1.0836729977189714,-0.620244747639212,0.2594071461596944,1.7015314097085668,-0.6880255055838443,0.3271937141283432,-0.6989547915954104,1.2523118043868744,-0.8518784200154085,1.7963344913728125,-0.42035153425505173,-0.528457259326522,-1.431197035259025,1.1885261381519683,0.7453770120134642,0.7089713387040133,1.1754291332706572,-0.40439836664747114,-2.000908471340589,-0.5883696179013485,1.5093233864076292,-0.3716702723380414,-0.7023181969595975,0.16189121578421728,-0.36203646636594894,-0.32174587503444,-0.860453609582485,1.841355001800767,-1.1639795257000698,-0.3534208001541855,-0.7543269665248803,-0.5578596209413783,-0.29336801780372634,-0.9406204023027285,-0.0877655963349154,1.0985939966362945,1.3736255203107042,-0.480588621121558,-0.8058704706555353,-3.463642697567721,-0.5847870292625188,-1.0036769733297741,0.029249035131203527,-0.6398012575062793,-0.21379845262825398,-0.6239589957629131,0.48534937389664645,-0.13158657613693153,-2.214091736837456,1.0785816707205158,0.46752619497664116,-0.7931828976106526,0.6983331119063007,0.27511529960674697,-0.7452424947782758,0.8790449322163104,0.0071318030543032936,0.2898770821240209,0.09585063453792268,-1.4295843714451069,-0.8570248284490222,1.2524665235990402,0.1297468402159749,1.696002390191733,0.5951185532710206,-0.8123849095747275,0.6945955680563329,-0.27281702200647395,1.0587287079210892,1.3078389447893333,-1.0422811008511164,0.010419887576187585,-0.3044197218238123,0.8444199146366564,-0.20413543451644225,-1.7249637218160483,-0.10936760147076816,-0.7421733032599452,0.15000783235174023,-0.44088987727651796,-0.8049826881078076,0.8299118013398255,0.9022397173380262,0.6728503070690955,-0.4099073867026872,2.395509533678381,-0.4695137262489277,1.260049392006476,0.7289093691368121,-1.0598628727566153,0.34726419360667515,0.6423175331884763,1.411861318093146,0.4240008605137238,0.5373155676802086,0.6268785214860116,-1.035072168522144,-0.35786524029467864,0.3725635938456412,0.6477313870263436,0.2510472470820765,0.928520022315678,0.005674333646141406,0.2674704474173145,0.693692530568695,0.6897817612613484,0.4401115811223054,0.06885644371542464,0.18903287939767335,-0.5637966301169173,0.16764495215535333,0.7722525217844379,-0.4309125814837924,0.2075692432678307,-0.525578962895831,-0.2965794315750656,0.4745197210695786,0.7316934919932728,-0.5054991756666031,0.15306735599922106,-0.9994716848449402,0.7415230156581863,0.8136829808842165,-0.12035132051826616,-0.8388682097669318,-1.7418229501972553,-0.6203107208004629,1.5090585098643985,-1.5692613491383338,-0.8026697295719035,0.04689569029082348,1.242943922650524,1.508811725774685,-1.3160345442963244,0.029175770683954407,0.2772621389979936,1.1252215025198695,0.6712623062079356,-0.2999947683631302,-0.12188860492833128,-0.3930006302710443,-2.5444082553423155,-0.3542975189802379,-1.134533691251249,-0.04082813831861781,1.4987587755716394,0.46229793311889983,0.9976038356942563,0.9119264674196099,-1.0093244399916323,-0.9093375210629249,1.0472258483937134,0.2580804351769767,0.11082406887592348,-0.06646745448024251,-0.1213759566934343,0.8323009629397449,1.2455882119927824,0.4375949293685354,0.5054470239491548,0.087939639439248,0.7720320774202081,-1.0081555549638164,-0.007603951348543441,0.26160958537413576,2.7714608834896954,0.6049537666848517,-0.7430004763831147,-0.966810833770435,0.7534617036125144,0.4051153384332286,1.2555182653943335,-0.7372577835922112,-0.823527683930344,0.20848227124660137,0.002763807415823572,-0.289003896286486,0.4214596413049299,-0.2046391721152923,-0.30765980160013956,0.5710640089986784,-0.4556656348963002,-1.7286799256051986,-0.33749946669608005,-0.7083616487469949,-0.4027711104575778,-0.3521530018297434,-0.4169978499709773,-0.25751870464906446,-1.2327790548532866,0.7541487284482866,-0.5074746852104796,-0.03320537324914954,0.2646273827673529,0.7651890988047063,0.018199255923121875,1.015271850381154,0.9367753106415786,-0.6446694795073383,0.8258441042867655,-0.21503815880536287,0.47339041144869354,-2.0333888170457546,-1.5020855582053514,-0.03987786227250299,0.8542921206075972,0.9177778612830569,0.25662330716171783,2.1212063981719553,-1.813592341121802,-3.527609587527817,-0.4549275872518804,0.4479440202661656,0.8214733807937123,0.9823744034138049,-0.6912669325320185,-0.6266598600400143,1.1002250086309475,0.39063492507892694,-0.7308503441585414,0.5600461417350835,1.272857261719621,-0.10267819378580095,-0.21974860229337576,-0.45434481400980964,0.7837171205722568,1.6137659950609229,0.3838178935385624,-0.8813759342983627,-1.641806149637847,-1.7766566295367248,0.12819243842067063,-0.7798593763630054,0.12719131591580607,0.887177111650477,1.489611233150474,0.12365252258097695,0.28786933852974733,-0.9549082784524016,-0.9475137309663898,-1.3282188947212283,-0.20453153307208363,-0.6840963089444717,-0.508362082290934,-0.6672058628741031,-0.23405080156105704,2.1301505465728723,-2.44383600888367,0.7758992136042512,-1.9290630468321024,0.45400787924415653,-0.8813140021617909,0.5993500133679163,-0.8019665176791781,0.010449797379794854,-0.6067451361243258,1.1592809337799217,0.16699744217992596,-0.4274448330111821,-0.1451662340384869,-0.2242317379576078,-0.8573472173693196,0.7841744755917953,0.2081156820085081,-1.4509406650651104,1.7938475929232622,0.8333056680861392,-1.2765269080285189,0.3014258505938482,-1.390620426915459,1.1344249117972538,-0.9084427550257418,-0.8481201720480075,-0.5768305071651795,1.2089902341197778,0.2569891720743094,-1.0476746934732994,0.6820810747226006,-0.37113309435909536,1.194844984050637,-0.40691028142432706,0.9999112229128324,0.8261457291893516,-0.8348367666248725,0.2001740496577616,3.1227436263991795,-0.7193991241982152,1.7066975996496743,0.623524972166035,-0.5345216368232926,1.3846069944521247,0.11594024110686328,1.2475589496010533,-0.10992306005685845,1.6939473771154816,0.4510840451046745,-0.12538726117441973,1.9895844924977162,-1.2712348648036387,0.6906765206104781,-0.035191210815128694,-1.6557482042488865,-0.8007522636974114,0.43942806005619117,0.1728443270710692,-0.4283498800026101,-1.7376034444579411,0.33480823856149317,-0.6249289028395777,-0.7330924966684415,0.1313516899990798,-0.07570725160938896,0.2675320035159716,0.3759513920334255,0.780754472677308,0.7567776228405555,0.656743550819372,0.14872848516113849,0.22904087888774644,-1.5428849193628642,-1.3002491615577634,0.1735047518544204,0.04162771001928826,-0.6329895120364363,-1.1362981712937712,0.5547310817488609,-1.5710085837761638,1.3016139338888388,0.3934864772736547,0.555486718585065,-1.0257900660406825,0.3575225332231204,-0.7017288544622209,-0.3512575873734696,-1.3154665308163296,-1.9487586549588485,-0.0646165941544558,-0.8630723977134619,-0.7906905294976342,-0.6214922052800746,0.881886439169906,0.3449663109753737,-0.401805568090325,0.7955514783388398,1.4864834453343894,-0.33967289816981994,1.7382133208914357,0.08647382515754935,0.1989672135250707,0.22903013372730158,-0.8160075545687115,0.2542503400884125,-1.1875864523623303,1.9761902941029046,-0.23878979570475548,0.475422408675262,-0.830113326682894,0.8933584667142056,1.6589676008514163,-0.9800454206044055,-0.0798692864919597,-0.1382278376430039,-0.256116512599024,0.3366979124397495,0.575517589785979,0.2289396688892854,-0.11090793479003108,-0.25475384859663186,-0.828239552088552,-0.13777670220797866,-2.0725088016915585,-1.003717883369123,1.6871309914149921,0.43550454676758554,0.6084954775171665,0.22433566411710204,-0.24535059473208565,2.0683411379268266,0.07670799741756118,-0.6761201467204208,-0.3067899728232107,0.165796785598003,-1.9384353323828933,-0.6564528909957823,0.15861414711283267,0.657983666537903,-0.7887457669822384,1.225337762750711,1.2942678663499254,-0.49299476324072317,0.6255477888731382,-1.9603320761687217,-0.7635269534609539,-0.3714074886574426,-0.11761277970846666,0.7490298310998492,2.2719620777382405,1.1217162937215965,0.6225714694840688,0.4535685127740049,-0.3394166944375336,-0.22286044870321833,-0.14793839871908263,0.6083311283589052,-0.2376475430335189,-0.7908312402291959,0.025069979913999497,-1.4426691165983678,1.0563097658640597,1.3404769972007853,-0.9930472936601367,-0.4876456918295984,-1.1128864134780034,-1.0155375337479402,-0.6595815266210604,-1.3336691444098163,-0.7030283581990466,1.058603169978152,0.7599745830927205,0.2644353111353008,0.4907732020805894,0.79859578993626,-1.3047224987172188,-1.2268753339948675,-1.5194978145560734,0.09394353044608375,-1.4913098710629569,1.1154706071668885,-0.2745729505290513,-0.5505065431104491,-0.5138601631866279,-0.7798573258269493,-0.7631687756869634,-1.455518572156262,-0.34814028540043424,-0.39446326655870145,-2.1127454551031244,1.5448522572734176,-0.3750888316575907,-0.4461864193604563,-0.6656585815430115,0.5912892634146614,-2.3656277244260133,-2.189971777916222,1.6716139986670837,-1.1855984733708702,0.32940095606721187,0.05394839078900455,-0.38448924138977053,-1.3177135528941537,0.35775189926102846,1.2652872187448572,-0.12928608674632855,-0.8009975496846573,-1.1551513363077974,-0.26279434293849563,-1.1963526727408236,-0.38589190389989525,1.3252946134726873,0.04789422507304802,-1.1686418898360282,1.6720029937504899,-0.2676644325932331,0.028519597130395667,0.5296153679041842,1.3976885074838428,-0.7028010271917265,-0.6982710186064258,-0.785948755998145,-1.1385310449852222,-1.0893477149704511,-0.09530150688681298,-0.1730641722959524,-1.0953339464449021,2.6070871693319626,-1.2013113278850518,-0.5857928739128029,-1.1888062086848759,-0.002890671030821726,1.4636695498989003,-0.3147780696914775,-1.092333171885099,0.22046668289627977,1.0588862303372564,-0.17239064087807413,1.9364994348275086,2.443037877271075,1.4299837205361752,-0.4306375979500263,0.9292128489671576,0.3154640010745218,-0.12118263946485358,0.9383144917014927,-1.1805450731628802,0.3822500793132363,-0.4252592109159394,0.7323096282496413,0.04910667619371028,1.3106243377989333,0.6416683069517636,-1.8913103717479909,-1.5155533776916716,-1.104958803604696,-1.6453407479557227,0.23992309911012852,0.19471283196614056,-0.2499738581693962,-0.3374648873632814,0.3779197788914107,-0.08561161666607046,0.415313594361276,1.5658146565598487,1.802133985807336,0.7175056753581183,-0.8350845059871509,-0.7318324296103254,-1.8459035542448086,-0.1415175906880893,1.2149067510716485,-0.1596595842493738,0.021349393688075886,-0.9311920223216973,-0.9389513263031173,-0.37436779407815146,0.5025817684829847,0.41950651472289036,-0.07102406594428597,0.9942921056236489,0.3828762919982206,-0.47187749326115147,1.0637925374125825,-0.16132122288650438,-0.49068369974549036,-1.054427929910913,-0.8859096775851516,2.6382089986859545,-0.5847150040150383,-0.5991409335326261,-0.9922689429927527,-0.020080161770821066,-1.5559681268887176,2.206996113518365,-0.2902847388218902,0.326940722983766,0.8638466758029447,-0.0733411405454698,0.3549792572705483,0.041092209251155316,-0.006585495198567311,-0.8123461980525489,-0.1342592331067272,-0.08027419307641494,0.08206638626612087,0.7093090411451787,0.999388669770893,-0.12777946156467795,1.5749340833446739,-0.46164805114263635,0.7113242523967944,-0.7458775930164604,0.7451140946773919,1.0384618957371312,-0.4434337038627963,1.4458081462385595,-0.67924818994528,1.281484921143934,-0.8784757467797852,-1.3202928085254082,0.5506344173101945,-0.8949343237375725,-1.077852373898123,0.327680886810532,0.7492849307543851,-0.39336558641000424,0.022384046888135098,-0.5775353625677322,-1.3912638469431025,-0.7445645268591302,0.715125135161056,0.2122962087194431,0.35982179798007907,1.8916331826178003,0.5948561536062272,-0.6458181187180081,0.9060563212722086,1.1405474906290167,-0.24362518292055324,-0.2841553435022213,-0.6516039710448633,0.009005764341753257,0.5375632437704274,-1.6097801991494192,-0.9667752861046827,-0.47576365427811806,0.669173514509104,0.6352203515316607,-1.0606961574101976,-1.6172095638255723,0.9729277526754997,1.3896512914979897,0.08794171453984755,-0.6482079932129732,1.030884246003791,1.4357641461481725,-2.484063180086313,0.5639919583120293,-1.5368439469376671,-0.7600511657286368,-0.32104027744956104,-0.47257232451229175,0.08589280762380798,0.4041918849122964,1.697904091320306,0.6706631622236744,-1.0521392309926973,0.640581300191238,0.11825020859743765,-1.3732532144503102,0.5955867022300677,0.04059434385507313,-0.34892783614113665,-0.4611735526839671,1.3372613249424692,0.3288640642307107,-0.08150532132405341,0.4541850756915662,-0.017404867315180875,-1.0881602021900258,0.7872394164542938,0.4709178232143991,0.10864083849284505,0.3034687925260253,-0.03956189452327018,-1.0893566639096586,0.22273868026462937,1.7184735778034173,-0.47152542524198476,-0.42080982068900047,0.33595096260915114,-0.7947469670937622,0.5090850161060237,-0.9943626296937874,1.1980014740060962,-1.3911937433566472,-0.4124997930978965,0.26831966302672405,-0.44438062219763064,-0.22386909481982845,-0.07459724712950885,-0.3412922166005509,-0.11269386157276254,-0.5745356597277377,0.35480387243603473,0.08966110890173427,1.6346216998315666,0.3736843502295465,0.14409155500203283,-0.9970404201490407,-0.15059520122021156,1.5713917285042163,0.2921238258678828,0.0020755800225954807,0.41975675132484147,-1.518135234744327,0.7923158505389115,0.9254789999877686,-1.327455258906149,0.5999081113893747,0.4949315927587761,-0.3371679598851998,-1.7419938129601287,-1.904138385562004,-0.5200260039533193,-1.4538303060715398,-0.927435237873367,1.7884011067506125,0.40343125789640366,0.947319124789353,0.443064435846976,-1.0427025717210112,-0.7454352811175461,-0.3061172319000653,0.870663109405649,-0.013282250177720023,0.30616937378098297,1.012111912179975,-1.0867184169126194,0.7894315046205268,-0.7543367361372061,-0.29950321241519146,1.135652127328681,0.45112935723302106,0.08993036631670664,-0.1040696324454269,0.5881907665869418,-0.8451831978677472,-1.0818929997634346,-1.5638119028181334,-0.43311926434252707,0.647242086730018,0.9077434908584278,0.036295198184100895,-1.2194281271239753,-1.7627042870841856,0.9142589238989379,0.6653882489729982,-0.04158401340538485,-0.7251547707010829,-0.935446187858288,-1.7799931893795624,0.4739290884753939,-1.0432403709827531,1.1854331671717229,-0.8292146668436259,0.6602730022730877,-1.3175204291546252,-0.3130581264652037,-0.25552421335515113,-0.5841866867563279,-1.0488760408780207,1.4807722460677863,-0.754255432476593,0.534772894675075,-0.8471061323277866,-0.022670061204315264],\"type\":\"scatter\"}],                        {\"template\":{\"data\":{\"barpolar\":[{\"marker\":{\"line\":{\"color\":\"#E5ECF6\",\"width\":0.5},\"pattern\":{\"fillmode\":\"overlay\",\"size\":10,\"solidity\":0.2}},\"type\":\"barpolar\"}],\"bar\":[{\"error_x\":{\"color\":\"#2a3f5f\"},\"error_y\":{\"color\":\"#2a3f5f\"},\"marker\":{\"line\":{\"color\":\"#E5ECF6\",\"width\":0.5},\"pattern\":{\"fillmode\":\"overlay\",\"size\":10,\"solidity\":0.2}},\"type\":\"bar\"}],\"carpet\":[{\"aaxis\":{\"endlinecolor\":\"#2a3f5f\",\"gridcolor\":\"white\",\"linecolor\":\"white\",\"minorgridcolor\":\"white\",\"startlinecolor\":\"#2a3f5f\"},\"baxis\":{\"endlinecolor\":\"#2a3f5f\",\"gridcolor\":\"white\",\"linecolor\":\"white\",\"minorgridcolor\":\"white\",\"startlinecolor\":\"#2a3f5f\"},\"type\":\"carpet\"}],\"choropleth\":[{\"colorbar\":{\"outlinewidth\":0,\"ticks\":\"\"},\"type\":\"choropleth\"}],\"contourcarpet\":[{\"colorbar\":{\"outlinewidth\":0,\"ticks\":\"\"},\"type\":\"contourcarpet\"}],\"contour\":[{\"colorbar\":{\"outlinewidth\":0,\"ticks\":\"\"},\"colorscale\":[[0.0,\"#0d0887\"],[0.1111111111111111,\"#46039f\"],[0.2222222222222222,\"#7201a8\"],[0.3333333333333333,\"#9c179e\"],[0.4444444444444444,\"#bd3786\"],[0.5555555555555556,\"#d8576b\"],[0.6666666666666666,\"#ed7953\"],[0.7777777777777778,\"#fb9f3a\"],[0.8888888888888888,\"#fdca26\"],[1.0,\"#f0f921\"]],\"type\":\"contour\"}],\"heatmapgl\":[{\"colorbar\":{\"outlinewidth\":0,\"ticks\":\"\"},\"colorscale\":[[0.0,\"#0d0887\"],[0.1111111111111111,\"#46039f\"],[0.2222222222222222,\"#7201a8\"],[0.3333333333333333,\"#9c179e\"],[0.4444444444444444,\"#bd3786\"],[0.5555555555555556,\"#d8576b\"],[0.6666666666666666,\"#ed7953\"],[0.7777777777777778,\"#fb9f3a\"],[0.8888888888888888,\"#fdca26\"],[1.0,\"#f0f921\"]],\"type\":\"heatmapgl\"}],\"heatmap\":[{\"colorbar\":{\"outlinewidth\":0,\"ticks\":\"\"},\"colorscale\":[[0.0,\"#0d0887\"],[0.1111111111111111,\"#46039f\"],[0.2222222222222222,\"#7201a8\"],[0.3333333333333333,\"#9c179e\"],[0.4444444444444444,\"#bd3786\"],[0.5555555555555556,\"#d8576b\"],[0.6666666666666666,\"#ed7953\"],[0.7777777777777778,\"#fb9f3a\"],[0.8888888888888888,\"#fdca26\"],[1.0,\"#f0f921\"]],\"type\":\"heatmap\"}],\"histogram2dcontour\":[{\"colorbar\":{\"outlinewidth\":0,\"ticks\":\"\"},\"colorscale\":[[0.0,\"#0d0887\"],[0.1111111111111111,\"#46039f\"],[0.2222222222222222,\"#7201a8\"],[0.3333333333333333,\"#9c179e\"],[0.4444444444444444,\"#bd3786\"],[0.5555555555555556,\"#d8576b\"],[0.6666666666666666,\"#ed7953\"],[0.7777777777777778,\"#fb9f3a\"],[0.8888888888888888,\"#fdca26\"],[1.0,\"#f0f921\"]],\"type\":\"histogram2dcontour\"}],\"histogram2d\":[{\"colorbar\":{\"outlinewidth\":0,\"ticks\":\"\"},\"colorscale\":[[0.0,\"#0d0887\"],[0.1111111111111111,\"#46039f\"],[0.2222222222222222,\"#7201a8\"],[0.3333333333333333,\"#9c179e\"],[0.4444444444444444,\"#bd3786\"],[0.5555555555555556,\"#d8576b\"],[0.6666666666666666,\"#ed7953\"],[0.7777777777777778,\"#fb9f3a\"],[0.8888888888888888,\"#fdca26\"],[1.0,\"#f0f921\"]],\"type\":\"histogram2d\"}],\"histogram\":[{\"marker\":{\"pattern\":{\"fillmode\":\"overlay\",\"size\":10,\"solidity\":0.2}},\"type\":\"histogram\"}],\"mesh3d\":[{\"colorbar\":{\"outlinewidth\":0,\"ticks\":\"\"},\"type\":\"mesh3d\"}],\"parcoords\":[{\"line\":{\"colorbar\":{\"outlinewidth\":0,\"ticks\":\"\"}},\"type\":\"parcoords\"}],\"pie\":[{\"automargin\":true,\"type\":\"pie\"}],\"scatter3d\":[{\"line\":{\"colorbar\":{\"outlinewidth\":0,\"ticks\":\"\"}},\"marker\":{\"colorbar\":{\"outlinewidth\":0,\"ticks\":\"\"}},\"type\":\"scatter3d\"}],\"scattercarpet\":[{\"marker\":{\"colorbar\":{\"outlinewidth\":0,\"ticks\":\"\"}},\"type\":\"scattercarpet\"}],\"scattergeo\":[{\"marker\":{\"colorbar\":{\"outlinewidth\":0,\"ticks\":\"\"}},\"type\":\"scattergeo\"}],\"scattergl\":[{\"marker\":{\"colorbar\":{\"outlinewidth\":0,\"ticks\":\"\"}},\"type\":\"scattergl\"}],\"scattermapbox\":[{\"marker\":{\"colorbar\":{\"outlinewidth\":0,\"ticks\":\"\"}},\"type\":\"scattermapbox\"}],\"scatterpolargl\":[{\"marker\":{\"colorbar\":{\"outlinewidth\":0,\"ticks\":\"\"}},\"type\":\"scatterpolargl\"}],\"scatterpolar\":[{\"marker\":{\"colorbar\":{\"outlinewidth\":0,\"ticks\":\"\"}},\"type\":\"scatterpolar\"}],\"scatter\":[{\"marker\":{\"colorbar\":{\"outlinewidth\":0,\"ticks\":\"\"}},\"type\":\"scatter\"}],\"scatterternary\":[{\"marker\":{\"colorbar\":{\"outlinewidth\":0,\"ticks\":\"\"}},\"type\":\"scatterternary\"}],\"surface\":[{\"colorbar\":{\"outlinewidth\":0,\"ticks\":\"\"},\"colorscale\":[[0.0,\"#0d0887\"],[0.1111111111111111,\"#46039f\"],[0.2222222222222222,\"#7201a8\"],[0.3333333333333333,\"#9c179e\"],[0.4444444444444444,\"#bd3786\"],[0.5555555555555556,\"#d8576b\"],[0.6666666666666666,\"#ed7953\"],[0.7777777777777778,\"#fb9f3a\"],[0.8888888888888888,\"#fdca26\"],[1.0,\"#f0f921\"]],\"type\":\"surface\"}],\"table\":[{\"cells\":{\"fill\":{\"color\":\"#EBF0F8\"},\"line\":{\"color\":\"white\"}},\"header\":{\"fill\":{\"color\":\"#C8D4E3\"},\"line\":{\"color\":\"white\"}},\"type\":\"table\"}]},\"layout\":{\"annotationdefaults\":{\"arrowcolor\":\"#2a3f5f\",\"arrowhead\":0,\"arrowwidth\":1},\"autotypenumbers\":\"strict\",\"coloraxis\":{\"colorbar\":{\"outlinewidth\":0,\"ticks\":\"\"}},\"colorscale\":{\"diverging\":[[0,\"#8e0152\"],[0.1,\"#c51b7d\"],[0.2,\"#de77ae\"],[0.3,\"#f1b6da\"],[0.4,\"#fde0ef\"],[0.5,\"#f7f7f7\"],[0.6,\"#e6f5d0\"],[0.7,\"#b8e186\"],[0.8,\"#7fbc41\"],[0.9,\"#4d9221\"],[1,\"#276419\"]],\"sequential\":[[0.0,\"#0d0887\"],[0.1111111111111111,\"#46039f\"],[0.2222222222222222,\"#7201a8\"],[0.3333333333333333,\"#9c179e\"],[0.4444444444444444,\"#bd3786\"],[0.5555555555555556,\"#d8576b\"],[0.6666666666666666,\"#ed7953\"],[0.7777777777777778,\"#fb9f3a\"],[0.8888888888888888,\"#fdca26\"],[1.0,\"#f0f921\"]],\"sequentialminus\":[[0.0,\"#0d0887\"],[0.1111111111111111,\"#46039f\"],[0.2222222222222222,\"#7201a8\"],[0.3333333333333333,\"#9c179e\"],[0.4444444444444444,\"#bd3786\"],[0.5555555555555556,\"#d8576b\"],[0.6666666666666666,\"#ed7953\"],[0.7777777777777778,\"#fb9f3a\"],[0.8888888888888888,\"#fdca26\"],[1.0,\"#f0f921\"]]},\"colorway\":[\"#636efa\",\"#EF553B\",\"#00cc96\",\"#ab63fa\",\"#FFA15A\",\"#19d3f3\",\"#FF6692\",\"#B6E880\",\"#FF97FF\",\"#FECB52\"],\"font\":{\"color\":\"#2a3f5f\"},\"geo\":{\"bgcolor\":\"white\",\"lakecolor\":\"white\",\"landcolor\":\"#E5ECF6\",\"showlakes\":true,\"showland\":true,\"subunitcolor\":\"white\"},\"hoverlabel\":{\"align\":\"left\"},\"hovermode\":\"closest\",\"mapbox\":{\"style\":\"light\"},\"paper_bgcolor\":\"white\",\"plot_bgcolor\":\"#E5ECF6\",\"polar\":{\"angularaxis\":{\"gridcolor\":\"white\",\"linecolor\":\"white\",\"ticks\":\"\"},\"bgcolor\":\"#E5ECF6\",\"radialaxis\":{\"gridcolor\":\"white\",\"linecolor\":\"white\",\"ticks\":\"\"}},\"scene\":{\"xaxis\":{\"backgroundcolor\":\"#E5ECF6\",\"gridcolor\":\"white\",\"gridwidth\":2,\"linecolor\":\"white\",\"showbackground\":true,\"ticks\":\"\",\"zerolinecolor\":\"white\"},\"yaxis\":{\"backgroundcolor\":\"#E5ECF6\",\"gridcolor\":\"white\",\"gridwidth\":2,\"linecolor\":\"white\",\"showbackground\":true,\"ticks\":\"\",\"zerolinecolor\":\"white\"},\"zaxis\":{\"backgroundcolor\":\"#E5ECF6\",\"gridcolor\":\"white\",\"gridwidth\":2,\"linecolor\":\"white\",\"showbackground\":true,\"ticks\":\"\",\"zerolinecolor\":\"white\"}},\"shapedefaults\":{\"line\":{\"color\":\"#2a3f5f\"}},\"ternary\":{\"aaxis\":{\"gridcolor\":\"white\",\"linecolor\":\"white\",\"ticks\":\"\"},\"baxis\":{\"gridcolor\":\"white\",\"linecolor\":\"white\",\"ticks\":\"\"},\"bgcolor\":\"#E5ECF6\",\"caxis\":{\"gridcolor\":\"white\",\"linecolor\":\"white\",\"ticks\":\"\"}},\"title\":{\"x\":0.05},\"xaxis\":{\"automargin\":true,\"gridcolor\":\"white\",\"linecolor\":\"white\",\"ticks\":\"\",\"title\":{\"standoff\":15},\"zerolinecolor\":\"white\",\"zerolinewidth\":2},\"yaxis\":{\"automargin\":true,\"gridcolor\":\"white\",\"linecolor\":\"white\",\"ticks\":\"\",\"title\":{\"standoff\":15},\"zerolinecolor\":\"white\",\"zerolinewidth\":2}}}},                        {\"responsive\": true}                    ).then(function(){\n",
       "                            \n",
       "var gd = document.getElementById('5f6796b7-58c2-4cce-ac97-b4af4f94e383');\n",
       "var x = new MutationObserver(function (mutations, observer) {{\n",
       "        var display = window.getComputedStyle(gd).display;\n",
       "        if (!display || display === 'none') {{\n",
       "            console.log([gd, 'removed!']);\n",
       "            Plotly.purge(gd);\n",
       "            observer.disconnect();\n",
       "        }}\n",
       "}});\n",
       "\n",
       "// Listen for the removal of the full notebook cells\n",
       "var notebookContainer = gd.closest('#notebook-container');\n",
       "if (notebookContainer) {{\n",
       "    x.observe(notebookContainer, {childList: true});\n",
       "}}\n",
       "\n",
       "// Listen for the clearing of the current output cell\n",
       "var outputEl = gd.closest('.output');\n",
       "if (outputEl) {{\n",
       "    x.observe(outputEl, {childList: true});\n",
       "}}\n",
       "\n",
       "                        })                };                });            </script>        </div>"
      ]
     },
     "metadata": {},
     "output_type": "display_data"
    }
   ],
   "source": [
    "import chart_studio.plotly as py # 原 plotly.plotly已經不能用，改成 chart_studio.plotly\n",
    "import plotly.graph_objs as go\n",
    "\n",
    "import numpy as np\n",
    "N = 1000\n",
    "random_x = np.random.randn(N)\n",
    "random_y = np.random.randn(N)\n",
    "\n",
    "trace = go.Scatter(\n",
    "    x = random_x,\n",
    "    y = random_y,\n",
    "    mode = 'markers'\n",
    ")\n",
    "\n",
    "data = [trace]\n",
    "\n",
    "plotly.offline.iplot(data, filename='basic-scatter')"
   ]
  },
  {
   "cell_type": "code",
   "execution_count": 74,
   "id": "4f445c9b",
   "metadata": {},
   "outputs": [
    {
     "data": {
      "text/plain": [
       "'basic-scatter.html'"
      ]
     },
     "execution_count": 74,
     "metadata": {},
     "output_type": "execute_result"
    }
   ],
   "source": [
    "# plotly.offline.iplot(data, filename='basic-scatter') 去除\"i\"變成顯示在新的網頁上\n",
    "plotly.offline.plot(data, filename='basic-scatter')"
   ]
  },
  {
   "cell_type": "code",
   "execution_count": 15,
   "id": "1149239e",
   "metadata": {},
   "outputs": [
    {
     "ename": "SyntaxError",
     "evalue": "invalid syntax (4268233139.py, line 3)",
     "output_type": "error",
     "traceback": [
      "\u001b[1;36m  Input \u001b[1;32mIn [15]\u001b[1;36m\u001b[0m\n\u001b[1;33m    y = data[data['target']==0['petal width (cm)'],\u001b[0m\n\u001b[1;37m      ^\u001b[0m\n\u001b[1;31mSyntaxError\u001b[0m\u001b[1;31m:\u001b[0m invalid syntax\n"
     ]
    }
   ],
   "source": [
    "trace0 = go.Scatter(\n",
    "    x = data[data['target']==0['sepal length (cm)'],\n",
    "    y = data[data['target']==0['petal width (cm)'],\n",
    "    mode = 'markers',\n",
    "    name = 'setosa'\n",
    ")\n",
    "trace1 = go.Scatter(\n",
    "    x = data[data['target']==1]['sepal length (cm)'],\n",
    "    y = data[data['target']==1]['petal width (cm)'],\n",
    "    mode = 'markers',\n",
    "    name = 'versicolor'\n",
    ")\n",
    "trace2 = go.Scatter(\n",
    "    x = data[data['target']==2]['sepal length (cm)'],\n",
    "    y = data[data['target']==2]['petal width (cm)'],\n",
    "    mode = 'markers',\n",
    "    name = 'virginica'\n",
    ")\n",
    "\n",
    "data = [trace0, trace1, trace2]\n",
    "plotly.offline.iplot(data, filename='basic-scatter')"
   ]
  },
  {
   "cell_type": "code",
   "execution_count": 4,
   "id": "631c1b58",
   "metadata": {},
   "outputs": [
    {
     "data": {
      "application/vnd.plotly.v1+json": {
       "config": {
        "linkText": "Export to plot.ly",
        "plotlyServerURL": "https://plot.ly",
        "showLink": false
       },
       "data": [
        {
         "mode": "markers",
         "name": "markers",
         "type": "scatter",
         "x": [
          0,
          0.010101010101010102,
          0.020202020202020204,
          0.030303030303030304,
          0.04040404040404041,
          0.05050505050505051,
          0.06060606060606061,
          0.07070707070707072,
          0.08080808080808081,
          0.09090909090909091,
          0.10101010101010102,
          0.11111111111111112,
          0.12121212121212122,
          0.13131313131313133,
          0.14141414141414144,
          0.15151515151515152,
          0.16161616161616163,
          0.17171717171717174,
          0.18181818181818182,
          0.19191919191919193,
          0.20202020202020204,
          0.21212121212121213,
          0.22222222222222224,
          0.23232323232323235,
          0.24242424242424243,
          0.25252525252525254,
          0.26262626262626265,
          0.27272727272727276,
          0.2828282828282829,
          0.29292929292929293,
          0.30303030303030304,
          0.31313131313131315,
          0.32323232323232326,
          0.33333333333333337,
          0.3434343434343435,
          0.3535353535353536,
          0.36363636363636365,
          0.37373737373737376,
          0.38383838383838387,
          0.393939393939394,
          0.4040404040404041,
          0.4141414141414142,
          0.42424242424242425,
          0.43434343434343436,
          0.4444444444444445,
          0.4545454545454546,
          0.4646464646464647,
          0.4747474747474748,
          0.48484848484848486,
          0.494949494949495,
          0.5050505050505051,
          0.5151515151515152,
          0.5252525252525253,
          0.5353535353535354,
          0.5454545454545455,
          0.5555555555555556,
          0.5656565656565657,
          0.5757575757575758,
          0.5858585858585859,
          0.595959595959596,
          0.6060606060606061,
          0.6161616161616162,
          0.6262626262626263,
          0.6363636363636365,
          0.6464646464646465,
          0.6565656565656566,
          0.6666666666666667,
          0.6767676767676768,
          0.686868686868687,
          0.696969696969697,
          0.7070707070707072,
          0.7171717171717172,
          0.7272727272727273,
          0.7373737373737375,
          0.7474747474747475,
          0.7575757575757577,
          0.7676767676767677,
          0.7777777777777778,
          0.787878787878788,
          0.797979797979798,
          0.8080808080808082,
          0.8181818181818182,
          0.8282828282828284,
          0.8383838383838385,
          0.8484848484848485,
          0.8585858585858587,
          0.8686868686868687,
          0.8787878787878789,
          0.888888888888889,
          0.8989898989898991,
          0.9090909090909092,
          0.9191919191919192,
          0.9292929292929294,
          0.9393939393939394,
          0.9494949494949496,
          0.9595959595959597,
          0.9696969696969697,
          0.9797979797979799,
          0.98989898989899,
          1
         ],
         "y": [
          3.5852177758320307,
          3.4471390200815537,
          5.807403425627114,
          2.673348069637767,
          5.618541902402995,
          6.634323046674645,
          4.764667781061489,
          5.988531882437986,
          4.945898576578154,
          4.018072223962013,
          5.530242431656975,
          6.453333330125599,
          4.463463746573345,
          5.098992782030413,
          5.025073757255313,
          7.682914214725758,
          5.213046278811937,
          5.313628239132592,
          4.559840119556,
          4.617180339470494,
          4.929041173668189,
          3.264838199427957,
          4.364286705715801,
          4.583849761367852,
          5.801956139765484,
          5.359798342113285,
          4.045411826386887,
          5.288987833434345,
          4.244056364167508,
          5.867145854581812,
          4.7702576916450425,
          3.6730015279240393,
          4.743030475155147,
          5.993908097935556,
          4.540272275957397,
          5.740016557286677,
          6.56559616749528,
          6.050987836084737,
          4.7944628495285375,
          4.946605467944393,
          5.897583195777592,
          4.413446395054836,
          4.566743328488596,
          4.318517286156109,
          4.813253489920322,
          4.492997471275412,
          5.885082164951477,
          5.612013152563113,
          5.346984375957801,
          5.450520009264679,
          5.764089740089336,
          6.055357537023738,
          4.848733104528395,
          5.20994211469316,
          5.176694917985096,
          3.7135775289394566,
          3.343804479539908,
          6.681230635803384,
          4.144710647154247,
          5.568883833640048,
          4.594864885368115,
          4.629563157102593,
          5.059118379912953,
          5.957954582642995,
          4.490812600546216,
          3.7179773454209717,
          5.704605651827586,
          5.254196503237373,
          4.324291389348762,
          5.895804687166752,
          3.9869893951567135,
          7.0871648534553255,
          5.471597565957533,
          3.803720695257722,
          4.027956265837623,
          4.82081156631453,
          6.569548816898366,
          5.952142559807549,
          6.265911265361319,
          5.132552916532536,
          4.821469876100809,
          5.483535672972171,
          1.3843016243668287,
          3.678658492761546,
          6.012393547592566,
          5.819331354618093,
          4.752454928684597,
          6.532491887394162,
          5.955835327591574,
          3.8723174429028893,
          4.249956009870128,
          6.177169958947458,
          7.98756902917677,
          5.3880818811480715,
          5.497483627462133,
          5.417744408260326,
          3.1020293113281623,
          7.171502627484811,
          5.199617955136312,
          4.144892125412412
         ]
        },
        {
         "mode": "lines+markers",
         "name": "lines+markers",
         "type": "scatter",
         "x": [
          0,
          0.010101010101010102,
          0.020202020202020204,
          0.030303030303030304,
          0.04040404040404041,
          0.05050505050505051,
          0.06060606060606061,
          0.07070707070707072,
          0.08080808080808081,
          0.09090909090909091,
          0.10101010101010102,
          0.11111111111111112,
          0.12121212121212122,
          0.13131313131313133,
          0.14141414141414144,
          0.15151515151515152,
          0.16161616161616163,
          0.17171717171717174,
          0.18181818181818182,
          0.19191919191919193,
          0.20202020202020204,
          0.21212121212121213,
          0.22222222222222224,
          0.23232323232323235,
          0.24242424242424243,
          0.25252525252525254,
          0.26262626262626265,
          0.27272727272727276,
          0.2828282828282829,
          0.29292929292929293,
          0.30303030303030304,
          0.31313131313131315,
          0.32323232323232326,
          0.33333333333333337,
          0.3434343434343435,
          0.3535353535353536,
          0.36363636363636365,
          0.37373737373737376,
          0.38383838383838387,
          0.393939393939394,
          0.4040404040404041,
          0.4141414141414142,
          0.42424242424242425,
          0.43434343434343436,
          0.4444444444444445,
          0.4545454545454546,
          0.4646464646464647,
          0.4747474747474748,
          0.48484848484848486,
          0.494949494949495,
          0.5050505050505051,
          0.5151515151515152,
          0.5252525252525253,
          0.5353535353535354,
          0.5454545454545455,
          0.5555555555555556,
          0.5656565656565657,
          0.5757575757575758,
          0.5858585858585859,
          0.595959595959596,
          0.6060606060606061,
          0.6161616161616162,
          0.6262626262626263,
          0.6363636363636365,
          0.6464646464646465,
          0.6565656565656566,
          0.6666666666666667,
          0.6767676767676768,
          0.686868686868687,
          0.696969696969697,
          0.7070707070707072,
          0.7171717171717172,
          0.7272727272727273,
          0.7373737373737375,
          0.7474747474747475,
          0.7575757575757577,
          0.7676767676767677,
          0.7777777777777778,
          0.787878787878788,
          0.797979797979798,
          0.8080808080808082,
          0.8181818181818182,
          0.8282828282828284,
          0.8383838383838385,
          0.8484848484848485,
          0.8585858585858587,
          0.8686868686868687,
          0.8787878787878789,
          0.888888888888889,
          0.8989898989898991,
          0.9090909090909092,
          0.9191919191919192,
          0.9292929292929294,
          0.9393939393939394,
          0.9494949494949496,
          0.9595959595959597,
          0.9696969696969697,
          0.9797979797979799,
          0.98989898989899,
          1
         ],
         "y": [
          -0.40323456608847813,
          -0.2812541702910976,
          -1.6637438269727938,
          1.0138041362121164,
          -0.2277944366389253,
          -0.31394910186827885,
          0.8135852960525494,
          -0.2600850261019424,
          -0.1364249487438428,
          2.522416317547175,
          -2.1213811701960648,
          -1.6275859473337686,
          -0.42031205485382545,
          1.1378375875912239,
          1.7888266989343748,
          0.50092469198884,
          0.7484726958607337,
          -2.3147460243942617,
          0.04556873688046137,
          -0.09248035347308056,
          0.9567084134709094,
          -1.2979146851217485,
          -0.5579961527246794,
          -0.07773040177783848,
          0.9568827705119182,
          -0.8359830739245112,
          0.05056502282696934,
          -0.6948878047615321,
          0.13233776755691368,
          -0.7324283758224931,
          -0.2356738600280445,
          -0.0652026903893959,
          -0.031749752034877766,
          -2.0379001955776634,
          -0.044394698123236015,
          0.2563469735386373,
          0.9411236569661495,
          0.1948092505625364,
          -1.4999763321968422,
          0.21476956790357807,
          -1.5933891357081644,
          -0.5315029162061828,
          -1.0118472997195074,
          1.5399833016488942,
          0.48432351387206674,
          0.15507712561965278,
          -0.33874315948112194,
          -0.2566905532207046,
          1.1555149280120778,
          -0.01260891200772406,
          0.2735980368585487,
          1.2647574431846338,
          2.2249735283734116,
          1.3064435298446466,
          0.23760243555127777,
          0.2016088942363244,
          -1.2140818390905654,
          0.848646941915578,
          1.377110361357606,
          -0.4466512436000297,
          1.4507878143596993,
          0.09250994533497843,
          1.2518918645226385,
          -0.7684569183702955,
          -0.7435620233076047,
          0.7166711445504097,
          1.8211128123892035,
          -1.0606527979361973,
          1.6315140547879852,
          -1.185317187183268,
          0.7045994217780525,
          0.3659312430535766,
          -0.47066656187686423,
          1.236521404470591,
          -0.2577969692307235,
          0.7602149539623029,
          -0.9244161082970358,
          0.4455780555472539,
          0.4355231417988295,
          0.4582317654371027,
          -0.9568787784319986,
          -0.670602421653848,
          -0.5392782507079759,
          -0.5659827936289167,
          -0.3490463498228174,
          -0.46362889125683476,
          -0.32330160857035734,
          -0.21285906389567416,
          -0.6264343442988898,
          0.4873066324233416,
          0.08662010269555846,
          -0.9653197317217342,
          -1.1699370432562706,
          -0.3599356024853422,
          1.2801803240782266,
          1.0074531690766386,
          1.7754287410523992,
          -0.8273947281169064,
          -1.8960590017148484,
          0.7591342393358397
         ]
        },
        {
         "mode": "lines",
         "name": "lines",
         "type": "scatter",
         "x": [
          0,
          0.010101010101010102,
          0.020202020202020204,
          0.030303030303030304,
          0.04040404040404041,
          0.05050505050505051,
          0.06060606060606061,
          0.07070707070707072,
          0.08080808080808081,
          0.09090909090909091,
          0.10101010101010102,
          0.11111111111111112,
          0.12121212121212122,
          0.13131313131313133,
          0.14141414141414144,
          0.15151515151515152,
          0.16161616161616163,
          0.17171717171717174,
          0.18181818181818182,
          0.19191919191919193,
          0.20202020202020204,
          0.21212121212121213,
          0.22222222222222224,
          0.23232323232323235,
          0.24242424242424243,
          0.25252525252525254,
          0.26262626262626265,
          0.27272727272727276,
          0.2828282828282829,
          0.29292929292929293,
          0.30303030303030304,
          0.31313131313131315,
          0.32323232323232326,
          0.33333333333333337,
          0.3434343434343435,
          0.3535353535353536,
          0.36363636363636365,
          0.37373737373737376,
          0.38383838383838387,
          0.393939393939394,
          0.4040404040404041,
          0.4141414141414142,
          0.42424242424242425,
          0.43434343434343436,
          0.4444444444444445,
          0.4545454545454546,
          0.4646464646464647,
          0.4747474747474748,
          0.48484848484848486,
          0.494949494949495,
          0.5050505050505051,
          0.5151515151515152,
          0.5252525252525253,
          0.5353535353535354,
          0.5454545454545455,
          0.5555555555555556,
          0.5656565656565657,
          0.5757575757575758,
          0.5858585858585859,
          0.595959595959596,
          0.6060606060606061,
          0.6161616161616162,
          0.6262626262626263,
          0.6363636363636365,
          0.6464646464646465,
          0.6565656565656566,
          0.6666666666666667,
          0.6767676767676768,
          0.686868686868687,
          0.696969696969697,
          0.7070707070707072,
          0.7171717171717172,
          0.7272727272727273,
          0.7373737373737375,
          0.7474747474747475,
          0.7575757575757577,
          0.7676767676767677,
          0.7777777777777778,
          0.787878787878788,
          0.797979797979798,
          0.8080808080808082,
          0.8181818181818182,
          0.8282828282828284,
          0.8383838383838385,
          0.8484848484848485,
          0.8585858585858587,
          0.8686868686868687,
          0.8787878787878789,
          0.888888888888889,
          0.8989898989898991,
          0.9090909090909092,
          0.9191919191919192,
          0.9292929292929294,
          0.9393939393939394,
          0.9494949494949496,
          0.9595959595959597,
          0.9696969696969697,
          0.9797979797979799,
          0.98989898989899,
          1
         ],
         "y": [
          -4.538068771549732,
          -6.376111248553746,
          -6.351042666667611,
          -5.210753657886799,
          -7.624903530960051,
          -4.737400319915685,
          -4.219451323498511,
          -5.083238090151724,
          -4.4331083411317875,
          -4.396134135731102,
          -4.226351408111897,
          -3.1734351233833697,
          -5.029803750043712,
          -6.48737978444508,
          -5.102227030038475,
          -5.447786364296058,
          -6.134335956710444,
          -4.646199261462467,
          -5.355562793330454,
          -4.558203372932115,
          -4.811818123508629,
          -7.357783596462659,
          -5.48804395444763,
          -5.339702507073577,
          -5.456531595610563,
          -4.700209031075499,
          -4.565988442650068,
          -3.305313508911775,
          -4.116559830440551,
          -2.843024126711261,
          -4.956994711664595,
          -3.56934586400201,
          -6.701875286358442,
          -3.698624765216052,
          -5.866174131472148,
          -4.493329517052916,
          -5.07931287661153,
          -4.792128312654898,
          -5.335424590228348,
          -5.423205526289593,
          -4.236126841760699,
          -6.3237448186048395,
          -6.75356530246084,
          -6.341030265475794,
          -4.652284400124846,
          -6.878485718065065,
          -3.82662410587655,
          -4.337636991023299,
          -6.250077505113029,
          -4.246234228106281,
          -5.02329715608277,
          -2.962460755353988,
          -4.664152037993253,
          -5.543381163950316,
          -4.122861796242217,
          -5.442348726430476,
          -5.36242937339336,
          -6.020070941379846,
          -5.149162768362156,
          -4.347146784597846,
          -4.434004612796077,
          -3.764732522325947,
          -5.588551387703245,
          -3.286251236384639,
          -5.827563466417009,
          -4.068138325803072,
          -3.250197552800369,
          -6.075973765790691,
          -3.670423785227163,
          -3.5894404645623483,
          -4.692876731226693,
          -4.959588982615785,
          -4.6920120329381,
          -5.449110153618459,
          -4.2977977370582705,
          -4.9103151409913455,
          -5.219963457906726,
          -4.548563018526584,
          -4.299965602333413,
          -5.048275219116703,
          -5.407493736076486,
          -5.4095975425023255,
          -5.5359677820361775,
          -2.857431573101969,
          -4.083464378383041,
          -5.448976773083638,
          -5.902842923331443,
          -5.227209848173837,
          -5.326133982844808,
          -5.8336161399791875,
          -5.567029652336983,
          -5.176485683900589,
          -6.797185781202245,
          -5.255922336365107,
          -5.011781734424766,
          -3.7014809733323473,
          -5.944907342512724,
          -5.5284658307173355,
          -4.635757009091061,
          -4.298993050357687
         ]
        }
       ],
       "layout": {
        "template": {
         "data": {
          "bar": [
           {
            "error_x": {
             "color": "#2a3f5f"
            },
            "error_y": {
             "color": "#2a3f5f"
            },
            "marker": {
             "line": {
              "color": "#E5ECF6",
              "width": 0.5
             },
             "pattern": {
              "fillmode": "overlay",
              "size": 10,
              "solidity": 0.2
             }
            },
            "type": "bar"
           }
          ],
          "barpolar": [
           {
            "marker": {
             "line": {
              "color": "#E5ECF6",
              "width": 0.5
             },
             "pattern": {
              "fillmode": "overlay",
              "size": 10,
              "solidity": 0.2
             }
            },
            "type": "barpolar"
           }
          ],
          "carpet": [
           {
            "aaxis": {
             "endlinecolor": "#2a3f5f",
             "gridcolor": "white",
             "linecolor": "white",
             "minorgridcolor": "white",
             "startlinecolor": "#2a3f5f"
            },
            "baxis": {
             "endlinecolor": "#2a3f5f",
             "gridcolor": "white",
             "linecolor": "white",
             "minorgridcolor": "white",
             "startlinecolor": "#2a3f5f"
            },
            "type": "carpet"
           }
          ],
          "choropleth": [
           {
            "colorbar": {
             "outlinewidth": 0,
             "ticks": ""
            },
            "type": "choropleth"
           }
          ],
          "contour": [
           {
            "colorbar": {
             "outlinewidth": 0,
             "ticks": ""
            },
            "colorscale": [
             [
              0,
              "#0d0887"
             ],
             [
              0.1111111111111111,
              "#46039f"
             ],
             [
              0.2222222222222222,
              "#7201a8"
             ],
             [
              0.3333333333333333,
              "#9c179e"
             ],
             [
              0.4444444444444444,
              "#bd3786"
             ],
             [
              0.5555555555555556,
              "#d8576b"
             ],
             [
              0.6666666666666666,
              "#ed7953"
             ],
             [
              0.7777777777777778,
              "#fb9f3a"
             ],
             [
              0.8888888888888888,
              "#fdca26"
             ],
             [
              1,
              "#f0f921"
             ]
            ],
            "type": "contour"
           }
          ],
          "contourcarpet": [
           {
            "colorbar": {
             "outlinewidth": 0,
             "ticks": ""
            },
            "type": "contourcarpet"
           }
          ],
          "heatmap": [
           {
            "colorbar": {
             "outlinewidth": 0,
             "ticks": ""
            },
            "colorscale": [
             [
              0,
              "#0d0887"
             ],
             [
              0.1111111111111111,
              "#46039f"
             ],
             [
              0.2222222222222222,
              "#7201a8"
             ],
             [
              0.3333333333333333,
              "#9c179e"
             ],
             [
              0.4444444444444444,
              "#bd3786"
             ],
             [
              0.5555555555555556,
              "#d8576b"
             ],
             [
              0.6666666666666666,
              "#ed7953"
             ],
             [
              0.7777777777777778,
              "#fb9f3a"
             ],
             [
              0.8888888888888888,
              "#fdca26"
             ],
             [
              1,
              "#f0f921"
             ]
            ],
            "type": "heatmap"
           }
          ],
          "heatmapgl": [
           {
            "colorbar": {
             "outlinewidth": 0,
             "ticks": ""
            },
            "colorscale": [
             [
              0,
              "#0d0887"
             ],
             [
              0.1111111111111111,
              "#46039f"
             ],
             [
              0.2222222222222222,
              "#7201a8"
             ],
             [
              0.3333333333333333,
              "#9c179e"
             ],
             [
              0.4444444444444444,
              "#bd3786"
             ],
             [
              0.5555555555555556,
              "#d8576b"
             ],
             [
              0.6666666666666666,
              "#ed7953"
             ],
             [
              0.7777777777777778,
              "#fb9f3a"
             ],
             [
              0.8888888888888888,
              "#fdca26"
             ],
             [
              1,
              "#f0f921"
             ]
            ],
            "type": "heatmapgl"
           }
          ],
          "histogram": [
           {
            "marker": {
             "pattern": {
              "fillmode": "overlay",
              "size": 10,
              "solidity": 0.2
             }
            },
            "type": "histogram"
           }
          ],
          "histogram2d": [
           {
            "colorbar": {
             "outlinewidth": 0,
             "ticks": ""
            },
            "colorscale": [
             [
              0,
              "#0d0887"
             ],
             [
              0.1111111111111111,
              "#46039f"
             ],
             [
              0.2222222222222222,
              "#7201a8"
             ],
             [
              0.3333333333333333,
              "#9c179e"
             ],
             [
              0.4444444444444444,
              "#bd3786"
             ],
             [
              0.5555555555555556,
              "#d8576b"
             ],
             [
              0.6666666666666666,
              "#ed7953"
             ],
             [
              0.7777777777777778,
              "#fb9f3a"
             ],
             [
              0.8888888888888888,
              "#fdca26"
             ],
             [
              1,
              "#f0f921"
             ]
            ],
            "type": "histogram2d"
           }
          ],
          "histogram2dcontour": [
           {
            "colorbar": {
             "outlinewidth": 0,
             "ticks": ""
            },
            "colorscale": [
             [
              0,
              "#0d0887"
             ],
             [
              0.1111111111111111,
              "#46039f"
             ],
             [
              0.2222222222222222,
              "#7201a8"
             ],
             [
              0.3333333333333333,
              "#9c179e"
             ],
             [
              0.4444444444444444,
              "#bd3786"
             ],
             [
              0.5555555555555556,
              "#d8576b"
             ],
             [
              0.6666666666666666,
              "#ed7953"
             ],
             [
              0.7777777777777778,
              "#fb9f3a"
             ],
             [
              0.8888888888888888,
              "#fdca26"
             ],
             [
              1,
              "#f0f921"
             ]
            ],
            "type": "histogram2dcontour"
           }
          ],
          "mesh3d": [
           {
            "colorbar": {
             "outlinewidth": 0,
             "ticks": ""
            },
            "type": "mesh3d"
           }
          ],
          "parcoords": [
           {
            "line": {
             "colorbar": {
              "outlinewidth": 0,
              "ticks": ""
             }
            },
            "type": "parcoords"
           }
          ],
          "pie": [
           {
            "automargin": true,
            "type": "pie"
           }
          ],
          "scatter": [
           {
            "marker": {
             "colorbar": {
              "outlinewidth": 0,
              "ticks": ""
             }
            },
            "type": "scatter"
           }
          ],
          "scatter3d": [
           {
            "line": {
             "colorbar": {
              "outlinewidth": 0,
              "ticks": ""
             }
            },
            "marker": {
             "colorbar": {
              "outlinewidth": 0,
              "ticks": ""
             }
            },
            "type": "scatter3d"
           }
          ],
          "scattercarpet": [
           {
            "marker": {
             "colorbar": {
              "outlinewidth": 0,
              "ticks": ""
             }
            },
            "type": "scattercarpet"
           }
          ],
          "scattergeo": [
           {
            "marker": {
             "colorbar": {
              "outlinewidth": 0,
              "ticks": ""
             }
            },
            "type": "scattergeo"
           }
          ],
          "scattergl": [
           {
            "marker": {
             "colorbar": {
              "outlinewidth": 0,
              "ticks": ""
             }
            },
            "type": "scattergl"
           }
          ],
          "scattermapbox": [
           {
            "marker": {
             "colorbar": {
              "outlinewidth": 0,
              "ticks": ""
             }
            },
            "type": "scattermapbox"
           }
          ],
          "scatterpolar": [
           {
            "marker": {
             "colorbar": {
              "outlinewidth": 0,
              "ticks": ""
             }
            },
            "type": "scatterpolar"
           }
          ],
          "scatterpolargl": [
           {
            "marker": {
             "colorbar": {
              "outlinewidth": 0,
              "ticks": ""
             }
            },
            "type": "scatterpolargl"
           }
          ],
          "scatterternary": [
           {
            "marker": {
             "colorbar": {
              "outlinewidth": 0,
              "ticks": ""
             }
            },
            "type": "scatterternary"
           }
          ],
          "surface": [
           {
            "colorbar": {
             "outlinewidth": 0,
             "ticks": ""
            },
            "colorscale": [
             [
              0,
              "#0d0887"
             ],
             [
              0.1111111111111111,
              "#46039f"
             ],
             [
              0.2222222222222222,
              "#7201a8"
             ],
             [
              0.3333333333333333,
              "#9c179e"
             ],
             [
              0.4444444444444444,
              "#bd3786"
             ],
             [
              0.5555555555555556,
              "#d8576b"
             ],
             [
              0.6666666666666666,
              "#ed7953"
             ],
             [
              0.7777777777777778,
              "#fb9f3a"
             ],
             [
              0.8888888888888888,
              "#fdca26"
             ],
             [
              1,
              "#f0f921"
             ]
            ],
            "type": "surface"
           }
          ],
          "table": [
           {
            "cells": {
             "fill": {
              "color": "#EBF0F8"
             },
             "line": {
              "color": "white"
             }
            },
            "header": {
             "fill": {
              "color": "#C8D4E3"
             },
             "line": {
              "color": "white"
             }
            },
            "type": "table"
           }
          ]
         },
         "layout": {
          "annotationdefaults": {
           "arrowcolor": "#2a3f5f",
           "arrowhead": 0,
           "arrowwidth": 1
          },
          "autotypenumbers": "strict",
          "coloraxis": {
           "colorbar": {
            "outlinewidth": 0,
            "ticks": ""
           }
          },
          "colorscale": {
           "diverging": [
            [
             0,
             "#8e0152"
            ],
            [
             0.1,
             "#c51b7d"
            ],
            [
             0.2,
             "#de77ae"
            ],
            [
             0.3,
             "#f1b6da"
            ],
            [
             0.4,
             "#fde0ef"
            ],
            [
             0.5,
             "#f7f7f7"
            ],
            [
             0.6,
             "#e6f5d0"
            ],
            [
             0.7,
             "#b8e186"
            ],
            [
             0.8,
             "#7fbc41"
            ],
            [
             0.9,
             "#4d9221"
            ],
            [
             1,
             "#276419"
            ]
           ],
           "sequential": [
            [
             0,
             "#0d0887"
            ],
            [
             0.1111111111111111,
             "#46039f"
            ],
            [
             0.2222222222222222,
             "#7201a8"
            ],
            [
             0.3333333333333333,
             "#9c179e"
            ],
            [
             0.4444444444444444,
             "#bd3786"
            ],
            [
             0.5555555555555556,
             "#d8576b"
            ],
            [
             0.6666666666666666,
             "#ed7953"
            ],
            [
             0.7777777777777778,
             "#fb9f3a"
            ],
            [
             0.8888888888888888,
             "#fdca26"
            ],
            [
             1,
             "#f0f921"
            ]
           ],
           "sequentialminus": [
            [
             0,
             "#0d0887"
            ],
            [
             0.1111111111111111,
             "#46039f"
            ],
            [
             0.2222222222222222,
             "#7201a8"
            ],
            [
             0.3333333333333333,
             "#9c179e"
            ],
            [
             0.4444444444444444,
             "#bd3786"
            ],
            [
             0.5555555555555556,
             "#d8576b"
            ],
            [
             0.6666666666666666,
             "#ed7953"
            ],
            [
             0.7777777777777778,
             "#fb9f3a"
            ],
            [
             0.8888888888888888,
             "#fdca26"
            ],
            [
             1,
             "#f0f921"
            ]
           ]
          },
          "colorway": [
           "#636efa",
           "#EF553B",
           "#00cc96",
           "#ab63fa",
           "#FFA15A",
           "#19d3f3",
           "#FF6692",
           "#B6E880",
           "#FF97FF",
           "#FECB52"
          ],
          "font": {
           "color": "#2a3f5f"
          },
          "geo": {
           "bgcolor": "white",
           "lakecolor": "white",
           "landcolor": "#E5ECF6",
           "showlakes": true,
           "showland": true,
           "subunitcolor": "white"
          },
          "hoverlabel": {
           "align": "left"
          },
          "hovermode": "closest",
          "mapbox": {
           "style": "light"
          },
          "paper_bgcolor": "white",
          "plot_bgcolor": "#E5ECF6",
          "polar": {
           "angularaxis": {
            "gridcolor": "white",
            "linecolor": "white",
            "ticks": ""
           },
           "bgcolor": "#E5ECF6",
           "radialaxis": {
            "gridcolor": "white",
            "linecolor": "white",
            "ticks": ""
           }
          },
          "scene": {
           "xaxis": {
            "backgroundcolor": "#E5ECF6",
            "gridcolor": "white",
            "gridwidth": 2,
            "linecolor": "white",
            "showbackground": true,
            "ticks": "",
            "zerolinecolor": "white"
           },
           "yaxis": {
            "backgroundcolor": "#E5ECF6",
            "gridcolor": "white",
            "gridwidth": 2,
            "linecolor": "white",
            "showbackground": true,
            "ticks": "",
            "zerolinecolor": "white"
           },
           "zaxis": {
            "backgroundcolor": "#E5ECF6",
            "gridcolor": "white",
            "gridwidth": 2,
            "linecolor": "white",
            "showbackground": true,
            "ticks": "",
            "zerolinecolor": "white"
           }
          },
          "shapedefaults": {
           "line": {
            "color": "#2a3f5f"
           }
          },
          "ternary": {
           "aaxis": {
            "gridcolor": "white",
            "linecolor": "white",
            "ticks": ""
           },
           "baxis": {
            "gridcolor": "white",
            "linecolor": "white",
            "ticks": ""
           },
           "bgcolor": "#E5ECF6",
           "caxis": {
            "gridcolor": "white",
            "linecolor": "white",
            "ticks": ""
           }
          },
          "title": {
           "x": 0.05
          },
          "xaxis": {
           "automargin": true,
           "gridcolor": "white",
           "linecolor": "white",
           "ticks": "",
           "title": {
            "standoff": 15
           },
           "zerolinecolor": "white",
           "zerolinewidth": 2
          },
          "yaxis": {
           "automargin": true,
           "gridcolor": "white",
           "linecolor": "white",
           "ticks": "",
           "title": {
            "standoff": 15
           },
           "zerolinecolor": "white",
           "zerolinewidth": 2
          }
         }
        }
       }
      },
      "text/html": [
       "<div>                            <div id=\"63271776-1a9e-4171-b138-cac07e7ed619\" class=\"plotly-graph-div\" style=\"height:525px; width:100%;\"></div>            <script type=\"text/javascript\">                require([\"plotly\"], function(Plotly) {                    window.PLOTLYENV=window.PLOTLYENV || {};                                    if (document.getElementById(\"63271776-1a9e-4171-b138-cac07e7ed619\")) {                    Plotly.newPlot(                        \"63271776-1a9e-4171-b138-cac07e7ed619\",                        [{\"mode\":\"markers\",\"name\":\"markers\",\"x\":[0.0,0.010101010101010102,0.020202020202020204,0.030303030303030304,0.04040404040404041,0.05050505050505051,0.06060606060606061,0.07070707070707072,0.08080808080808081,0.09090909090909091,0.10101010101010102,0.11111111111111112,0.12121212121212122,0.13131313131313133,0.14141414141414144,0.15151515151515152,0.16161616161616163,0.17171717171717174,0.18181818181818182,0.19191919191919193,0.20202020202020204,0.21212121212121213,0.22222222222222224,0.23232323232323235,0.24242424242424243,0.25252525252525254,0.26262626262626265,0.27272727272727276,0.2828282828282829,0.29292929292929293,0.30303030303030304,0.31313131313131315,0.32323232323232326,0.33333333333333337,0.3434343434343435,0.3535353535353536,0.36363636363636365,0.37373737373737376,0.38383838383838387,0.393939393939394,0.4040404040404041,0.4141414141414142,0.42424242424242425,0.43434343434343436,0.4444444444444445,0.4545454545454546,0.4646464646464647,0.4747474747474748,0.48484848484848486,0.494949494949495,0.5050505050505051,0.5151515151515152,0.5252525252525253,0.5353535353535354,0.5454545454545455,0.5555555555555556,0.5656565656565657,0.5757575757575758,0.5858585858585859,0.595959595959596,0.6060606060606061,0.6161616161616162,0.6262626262626263,0.6363636363636365,0.6464646464646465,0.6565656565656566,0.6666666666666667,0.6767676767676768,0.686868686868687,0.696969696969697,0.7070707070707072,0.7171717171717172,0.7272727272727273,0.7373737373737375,0.7474747474747475,0.7575757575757577,0.7676767676767677,0.7777777777777778,0.787878787878788,0.797979797979798,0.8080808080808082,0.8181818181818182,0.8282828282828284,0.8383838383838385,0.8484848484848485,0.8585858585858587,0.8686868686868687,0.8787878787878789,0.888888888888889,0.8989898989898991,0.9090909090909092,0.9191919191919192,0.9292929292929294,0.9393939393939394,0.9494949494949496,0.9595959595959597,0.9696969696969697,0.9797979797979799,0.98989898989899,1.0],\"y\":[3.5852177758320307,3.4471390200815537,5.807403425627114,2.673348069637767,5.618541902402995,6.634323046674645,4.764667781061489,5.988531882437986,4.945898576578154,4.018072223962013,5.530242431656975,6.453333330125599,4.463463746573345,5.098992782030413,5.025073757255313,7.682914214725758,5.213046278811937,5.313628239132592,4.559840119556,4.617180339470494,4.929041173668189,3.264838199427957,4.364286705715801,4.583849761367852,5.801956139765484,5.359798342113285,4.045411826386887,5.288987833434345,4.244056364167508,5.867145854581812,4.7702576916450425,3.6730015279240393,4.743030475155147,5.993908097935556,4.540272275957397,5.740016557286677,6.56559616749528,6.050987836084737,4.7944628495285375,4.946605467944393,5.897583195777592,4.413446395054836,4.566743328488596,4.318517286156109,4.813253489920322,4.492997471275412,5.885082164951477,5.612013152563113,5.346984375957801,5.450520009264679,5.764089740089336,6.055357537023738,4.848733104528395,5.20994211469316,5.176694917985096,3.7135775289394566,3.343804479539908,6.681230635803384,4.144710647154247,5.568883833640048,4.594864885368115,4.629563157102593,5.059118379912953,5.957954582642995,4.490812600546216,3.7179773454209717,5.704605651827586,5.254196503237373,4.324291389348762,5.895804687166752,3.9869893951567135,7.0871648534553255,5.471597565957533,3.803720695257722,4.027956265837623,4.82081156631453,6.569548816898366,5.952142559807549,6.265911265361319,5.132552916532536,4.821469876100809,5.483535672972171,1.3843016243668287,3.678658492761546,6.012393547592566,5.819331354618093,4.752454928684597,6.532491887394162,5.955835327591574,3.8723174429028893,4.249956009870128,6.177169958947458,7.98756902917677,5.3880818811480715,5.497483627462133,5.417744408260326,3.1020293113281623,7.171502627484811,5.199617955136312,4.144892125412412],\"type\":\"scatter\"},{\"mode\":\"lines+markers\",\"name\":\"lines+markers\",\"x\":[0.0,0.010101010101010102,0.020202020202020204,0.030303030303030304,0.04040404040404041,0.05050505050505051,0.06060606060606061,0.07070707070707072,0.08080808080808081,0.09090909090909091,0.10101010101010102,0.11111111111111112,0.12121212121212122,0.13131313131313133,0.14141414141414144,0.15151515151515152,0.16161616161616163,0.17171717171717174,0.18181818181818182,0.19191919191919193,0.20202020202020204,0.21212121212121213,0.22222222222222224,0.23232323232323235,0.24242424242424243,0.25252525252525254,0.26262626262626265,0.27272727272727276,0.2828282828282829,0.29292929292929293,0.30303030303030304,0.31313131313131315,0.32323232323232326,0.33333333333333337,0.3434343434343435,0.3535353535353536,0.36363636363636365,0.37373737373737376,0.38383838383838387,0.393939393939394,0.4040404040404041,0.4141414141414142,0.42424242424242425,0.43434343434343436,0.4444444444444445,0.4545454545454546,0.4646464646464647,0.4747474747474748,0.48484848484848486,0.494949494949495,0.5050505050505051,0.5151515151515152,0.5252525252525253,0.5353535353535354,0.5454545454545455,0.5555555555555556,0.5656565656565657,0.5757575757575758,0.5858585858585859,0.595959595959596,0.6060606060606061,0.6161616161616162,0.6262626262626263,0.6363636363636365,0.6464646464646465,0.6565656565656566,0.6666666666666667,0.6767676767676768,0.686868686868687,0.696969696969697,0.7070707070707072,0.7171717171717172,0.7272727272727273,0.7373737373737375,0.7474747474747475,0.7575757575757577,0.7676767676767677,0.7777777777777778,0.787878787878788,0.797979797979798,0.8080808080808082,0.8181818181818182,0.8282828282828284,0.8383838383838385,0.8484848484848485,0.8585858585858587,0.8686868686868687,0.8787878787878789,0.888888888888889,0.8989898989898991,0.9090909090909092,0.9191919191919192,0.9292929292929294,0.9393939393939394,0.9494949494949496,0.9595959595959597,0.9696969696969697,0.9797979797979799,0.98989898989899,1.0],\"y\":[-0.40323456608847813,-0.2812541702910976,-1.6637438269727938,1.0138041362121164,-0.2277944366389253,-0.31394910186827885,0.8135852960525494,-0.2600850261019424,-0.1364249487438428,2.522416317547175,-2.1213811701960648,-1.6275859473337686,-0.42031205485382545,1.1378375875912239,1.7888266989343748,0.50092469198884,0.7484726958607337,-2.3147460243942617,0.04556873688046137,-0.09248035347308056,0.9567084134709094,-1.2979146851217485,-0.5579961527246794,-0.07773040177783848,0.9568827705119182,-0.8359830739245112,0.05056502282696934,-0.6948878047615321,0.13233776755691368,-0.7324283758224931,-0.2356738600280445,-0.0652026903893959,-0.031749752034877766,-2.0379001955776634,-0.044394698123236015,0.2563469735386373,0.9411236569661495,0.1948092505625364,-1.4999763321968422,0.21476956790357807,-1.5933891357081644,-0.5315029162061828,-1.0118472997195074,1.5399833016488942,0.48432351387206674,0.15507712561965278,-0.33874315948112194,-0.2566905532207046,1.1555149280120778,-0.01260891200772406,0.2735980368585487,1.2647574431846338,2.2249735283734116,1.3064435298446466,0.23760243555127777,0.2016088942363244,-1.2140818390905654,0.848646941915578,1.377110361357606,-0.4466512436000297,1.4507878143596993,0.09250994533497843,1.2518918645226385,-0.7684569183702955,-0.7435620233076047,0.7166711445504097,1.8211128123892035,-1.0606527979361973,1.6315140547879852,-1.185317187183268,0.7045994217780525,0.3659312430535766,-0.47066656187686423,1.236521404470591,-0.2577969692307235,0.7602149539623029,-0.9244161082970358,0.4455780555472539,0.4355231417988295,0.4582317654371027,-0.9568787784319986,-0.670602421653848,-0.5392782507079759,-0.5659827936289167,-0.3490463498228174,-0.46362889125683476,-0.32330160857035734,-0.21285906389567416,-0.6264343442988898,0.4873066324233416,0.08662010269555846,-0.9653197317217342,-1.1699370432562706,-0.3599356024853422,1.2801803240782266,1.0074531690766386,1.7754287410523992,-0.8273947281169064,-1.8960590017148484,0.7591342393358397],\"type\":\"scatter\"},{\"mode\":\"lines\",\"name\":\"lines\",\"x\":[0.0,0.010101010101010102,0.020202020202020204,0.030303030303030304,0.04040404040404041,0.05050505050505051,0.06060606060606061,0.07070707070707072,0.08080808080808081,0.09090909090909091,0.10101010101010102,0.11111111111111112,0.12121212121212122,0.13131313131313133,0.14141414141414144,0.15151515151515152,0.16161616161616163,0.17171717171717174,0.18181818181818182,0.19191919191919193,0.20202020202020204,0.21212121212121213,0.22222222222222224,0.23232323232323235,0.24242424242424243,0.25252525252525254,0.26262626262626265,0.27272727272727276,0.2828282828282829,0.29292929292929293,0.30303030303030304,0.31313131313131315,0.32323232323232326,0.33333333333333337,0.3434343434343435,0.3535353535353536,0.36363636363636365,0.37373737373737376,0.38383838383838387,0.393939393939394,0.4040404040404041,0.4141414141414142,0.42424242424242425,0.43434343434343436,0.4444444444444445,0.4545454545454546,0.4646464646464647,0.4747474747474748,0.48484848484848486,0.494949494949495,0.5050505050505051,0.5151515151515152,0.5252525252525253,0.5353535353535354,0.5454545454545455,0.5555555555555556,0.5656565656565657,0.5757575757575758,0.5858585858585859,0.595959595959596,0.6060606060606061,0.6161616161616162,0.6262626262626263,0.6363636363636365,0.6464646464646465,0.6565656565656566,0.6666666666666667,0.6767676767676768,0.686868686868687,0.696969696969697,0.7070707070707072,0.7171717171717172,0.7272727272727273,0.7373737373737375,0.7474747474747475,0.7575757575757577,0.7676767676767677,0.7777777777777778,0.787878787878788,0.797979797979798,0.8080808080808082,0.8181818181818182,0.8282828282828284,0.8383838383838385,0.8484848484848485,0.8585858585858587,0.8686868686868687,0.8787878787878789,0.888888888888889,0.8989898989898991,0.9090909090909092,0.9191919191919192,0.9292929292929294,0.9393939393939394,0.9494949494949496,0.9595959595959597,0.9696969696969697,0.9797979797979799,0.98989898989899,1.0],\"y\":[-4.538068771549732,-6.376111248553746,-6.351042666667611,-5.210753657886799,-7.624903530960051,-4.737400319915685,-4.219451323498511,-5.083238090151724,-4.4331083411317875,-4.396134135731102,-4.226351408111897,-3.1734351233833697,-5.029803750043712,-6.48737978444508,-5.102227030038475,-5.447786364296058,-6.134335956710444,-4.646199261462467,-5.355562793330454,-4.558203372932115,-4.811818123508629,-7.357783596462659,-5.48804395444763,-5.339702507073577,-5.456531595610563,-4.700209031075499,-4.565988442650068,-3.305313508911775,-4.116559830440551,-2.843024126711261,-4.956994711664595,-3.56934586400201,-6.701875286358442,-3.698624765216052,-5.866174131472148,-4.493329517052916,-5.07931287661153,-4.792128312654898,-5.335424590228348,-5.423205526289593,-4.236126841760699,-6.3237448186048395,-6.75356530246084,-6.341030265475794,-4.652284400124846,-6.878485718065065,-3.82662410587655,-4.337636991023299,-6.250077505113029,-4.246234228106281,-5.02329715608277,-2.962460755353988,-4.664152037993253,-5.543381163950316,-4.122861796242217,-5.442348726430476,-5.36242937339336,-6.020070941379846,-5.149162768362156,-4.347146784597846,-4.434004612796077,-3.764732522325947,-5.588551387703245,-3.286251236384639,-5.827563466417009,-4.068138325803072,-3.250197552800369,-6.075973765790691,-3.670423785227163,-3.5894404645623483,-4.692876731226693,-4.959588982615785,-4.6920120329381,-5.449110153618459,-4.2977977370582705,-4.9103151409913455,-5.219963457906726,-4.548563018526584,-4.299965602333413,-5.048275219116703,-5.407493736076486,-5.4095975425023255,-5.5359677820361775,-2.857431573101969,-4.083464378383041,-5.448976773083638,-5.902842923331443,-5.227209848173837,-5.326133982844808,-5.8336161399791875,-5.567029652336983,-5.176485683900589,-6.797185781202245,-5.255922336365107,-5.011781734424766,-3.7014809733323473,-5.944907342512724,-5.5284658307173355,-4.635757009091061,-4.298993050357687],\"type\":\"scatter\"}],                        {\"template\":{\"data\":{\"barpolar\":[{\"marker\":{\"line\":{\"color\":\"#E5ECF6\",\"width\":0.5},\"pattern\":{\"fillmode\":\"overlay\",\"size\":10,\"solidity\":0.2}},\"type\":\"barpolar\"}],\"bar\":[{\"error_x\":{\"color\":\"#2a3f5f\"},\"error_y\":{\"color\":\"#2a3f5f\"},\"marker\":{\"line\":{\"color\":\"#E5ECF6\",\"width\":0.5},\"pattern\":{\"fillmode\":\"overlay\",\"size\":10,\"solidity\":0.2}},\"type\":\"bar\"}],\"carpet\":[{\"aaxis\":{\"endlinecolor\":\"#2a3f5f\",\"gridcolor\":\"white\",\"linecolor\":\"white\",\"minorgridcolor\":\"white\",\"startlinecolor\":\"#2a3f5f\"},\"baxis\":{\"endlinecolor\":\"#2a3f5f\",\"gridcolor\":\"white\",\"linecolor\":\"white\",\"minorgridcolor\":\"white\",\"startlinecolor\":\"#2a3f5f\"},\"type\":\"carpet\"}],\"choropleth\":[{\"colorbar\":{\"outlinewidth\":0,\"ticks\":\"\"},\"type\":\"choropleth\"}],\"contourcarpet\":[{\"colorbar\":{\"outlinewidth\":0,\"ticks\":\"\"},\"type\":\"contourcarpet\"}],\"contour\":[{\"colorbar\":{\"outlinewidth\":0,\"ticks\":\"\"},\"colorscale\":[[0.0,\"#0d0887\"],[0.1111111111111111,\"#46039f\"],[0.2222222222222222,\"#7201a8\"],[0.3333333333333333,\"#9c179e\"],[0.4444444444444444,\"#bd3786\"],[0.5555555555555556,\"#d8576b\"],[0.6666666666666666,\"#ed7953\"],[0.7777777777777778,\"#fb9f3a\"],[0.8888888888888888,\"#fdca26\"],[1.0,\"#f0f921\"]],\"type\":\"contour\"}],\"heatmapgl\":[{\"colorbar\":{\"outlinewidth\":0,\"ticks\":\"\"},\"colorscale\":[[0.0,\"#0d0887\"],[0.1111111111111111,\"#46039f\"],[0.2222222222222222,\"#7201a8\"],[0.3333333333333333,\"#9c179e\"],[0.4444444444444444,\"#bd3786\"],[0.5555555555555556,\"#d8576b\"],[0.6666666666666666,\"#ed7953\"],[0.7777777777777778,\"#fb9f3a\"],[0.8888888888888888,\"#fdca26\"],[1.0,\"#f0f921\"]],\"type\":\"heatmapgl\"}],\"heatmap\":[{\"colorbar\":{\"outlinewidth\":0,\"ticks\":\"\"},\"colorscale\":[[0.0,\"#0d0887\"],[0.1111111111111111,\"#46039f\"],[0.2222222222222222,\"#7201a8\"],[0.3333333333333333,\"#9c179e\"],[0.4444444444444444,\"#bd3786\"],[0.5555555555555556,\"#d8576b\"],[0.6666666666666666,\"#ed7953\"],[0.7777777777777778,\"#fb9f3a\"],[0.8888888888888888,\"#fdca26\"],[1.0,\"#f0f921\"]],\"type\":\"heatmap\"}],\"histogram2dcontour\":[{\"colorbar\":{\"outlinewidth\":0,\"ticks\":\"\"},\"colorscale\":[[0.0,\"#0d0887\"],[0.1111111111111111,\"#46039f\"],[0.2222222222222222,\"#7201a8\"],[0.3333333333333333,\"#9c179e\"],[0.4444444444444444,\"#bd3786\"],[0.5555555555555556,\"#d8576b\"],[0.6666666666666666,\"#ed7953\"],[0.7777777777777778,\"#fb9f3a\"],[0.8888888888888888,\"#fdca26\"],[1.0,\"#f0f921\"]],\"type\":\"histogram2dcontour\"}],\"histogram2d\":[{\"colorbar\":{\"outlinewidth\":0,\"ticks\":\"\"},\"colorscale\":[[0.0,\"#0d0887\"],[0.1111111111111111,\"#46039f\"],[0.2222222222222222,\"#7201a8\"],[0.3333333333333333,\"#9c179e\"],[0.4444444444444444,\"#bd3786\"],[0.5555555555555556,\"#d8576b\"],[0.6666666666666666,\"#ed7953\"],[0.7777777777777778,\"#fb9f3a\"],[0.8888888888888888,\"#fdca26\"],[1.0,\"#f0f921\"]],\"type\":\"histogram2d\"}],\"histogram\":[{\"marker\":{\"pattern\":{\"fillmode\":\"overlay\",\"size\":10,\"solidity\":0.2}},\"type\":\"histogram\"}],\"mesh3d\":[{\"colorbar\":{\"outlinewidth\":0,\"ticks\":\"\"},\"type\":\"mesh3d\"}],\"parcoords\":[{\"line\":{\"colorbar\":{\"outlinewidth\":0,\"ticks\":\"\"}},\"type\":\"parcoords\"}],\"pie\":[{\"automargin\":true,\"type\":\"pie\"}],\"scatter3d\":[{\"line\":{\"colorbar\":{\"outlinewidth\":0,\"ticks\":\"\"}},\"marker\":{\"colorbar\":{\"outlinewidth\":0,\"ticks\":\"\"}},\"type\":\"scatter3d\"}],\"scattercarpet\":[{\"marker\":{\"colorbar\":{\"outlinewidth\":0,\"ticks\":\"\"}},\"type\":\"scattercarpet\"}],\"scattergeo\":[{\"marker\":{\"colorbar\":{\"outlinewidth\":0,\"ticks\":\"\"}},\"type\":\"scattergeo\"}],\"scattergl\":[{\"marker\":{\"colorbar\":{\"outlinewidth\":0,\"ticks\":\"\"}},\"type\":\"scattergl\"}],\"scattermapbox\":[{\"marker\":{\"colorbar\":{\"outlinewidth\":0,\"ticks\":\"\"}},\"type\":\"scattermapbox\"}],\"scatterpolargl\":[{\"marker\":{\"colorbar\":{\"outlinewidth\":0,\"ticks\":\"\"}},\"type\":\"scatterpolargl\"}],\"scatterpolar\":[{\"marker\":{\"colorbar\":{\"outlinewidth\":0,\"ticks\":\"\"}},\"type\":\"scatterpolar\"}],\"scatter\":[{\"marker\":{\"colorbar\":{\"outlinewidth\":0,\"ticks\":\"\"}},\"type\":\"scatter\"}],\"scatterternary\":[{\"marker\":{\"colorbar\":{\"outlinewidth\":0,\"ticks\":\"\"}},\"type\":\"scatterternary\"}],\"surface\":[{\"colorbar\":{\"outlinewidth\":0,\"ticks\":\"\"},\"colorscale\":[[0.0,\"#0d0887\"],[0.1111111111111111,\"#46039f\"],[0.2222222222222222,\"#7201a8\"],[0.3333333333333333,\"#9c179e\"],[0.4444444444444444,\"#bd3786\"],[0.5555555555555556,\"#d8576b\"],[0.6666666666666666,\"#ed7953\"],[0.7777777777777778,\"#fb9f3a\"],[0.8888888888888888,\"#fdca26\"],[1.0,\"#f0f921\"]],\"type\":\"surface\"}],\"table\":[{\"cells\":{\"fill\":{\"color\":\"#EBF0F8\"},\"line\":{\"color\":\"white\"}},\"header\":{\"fill\":{\"color\":\"#C8D4E3\"},\"line\":{\"color\":\"white\"}},\"type\":\"table\"}]},\"layout\":{\"annotationdefaults\":{\"arrowcolor\":\"#2a3f5f\",\"arrowhead\":0,\"arrowwidth\":1},\"autotypenumbers\":\"strict\",\"coloraxis\":{\"colorbar\":{\"outlinewidth\":0,\"ticks\":\"\"}},\"colorscale\":{\"diverging\":[[0,\"#8e0152\"],[0.1,\"#c51b7d\"],[0.2,\"#de77ae\"],[0.3,\"#f1b6da\"],[0.4,\"#fde0ef\"],[0.5,\"#f7f7f7\"],[0.6,\"#e6f5d0\"],[0.7,\"#b8e186\"],[0.8,\"#7fbc41\"],[0.9,\"#4d9221\"],[1,\"#276419\"]],\"sequential\":[[0.0,\"#0d0887\"],[0.1111111111111111,\"#46039f\"],[0.2222222222222222,\"#7201a8\"],[0.3333333333333333,\"#9c179e\"],[0.4444444444444444,\"#bd3786\"],[0.5555555555555556,\"#d8576b\"],[0.6666666666666666,\"#ed7953\"],[0.7777777777777778,\"#fb9f3a\"],[0.8888888888888888,\"#fdca26\"],[1.0,\"#f0f921\"]],\"sequentialminus\":[[0.0,\"#0d0887\"],[0.1111111111111111,\"#46039f\"],[0.2222222222222222,\"#7201a8\"],[0.3333333333333333,\"#9c179e\"],[0.4444444444444444,\"#bd3786\"],[0.5555555555555556,\"#d8576b\"],[0.6666666666666666,\"#ed7953\"],[0.7777777777777778,\"#fb9f3a\"],[0.8888888888888888,\"#fdca26\"],[1.0,\"#f0f921\"]]},\"colorway\":[\"#636efa\",\"#EF553B\",\"#00cc96\",\"#ab63fa\",\"#FFA15A\",\"#19d3f3\",\"#FF6692\",\"#B6E880\",\"#FF97FF\",\"#FECB52\"],\"font\":{\"color\":\"#2a3f5f\"},\"geo\":{\"bgcolor\":\"white\",\"lakecolor\":\"white\",\"landcolor\":\"#E5ECF6\",\"showlakes\":true,\"showland\":true,\"subunitcolor\":\"white\"},\"hoverlabel\":{\"align\":\"left\"},\"hovermode\":\"closest\",\"mapbox\":{\"style\":\"light\"},\"paper_bgcolor\":\"white\",\"plot_bgcolor\":\"#E5ECF6\",\"polar\":{\"angularaxis\":{\"gridcolor\":\"white\",\"linecolor\":\"white\",\"ticks\":\"\"},\"bgcolor\":\"#E5ECF6\",\"radialaxis\":{\"gridcolor\":\"white\",\"linecolor\":\"white\",\"ticks\":\"\"}},\"scene\":{\"xaxis\":{\"backgroundcolor\":\"#E5ECF6\",\"gridcolor\":\"white\",\"gridwidth\":2,\"linecolor\":\"white\",\"showbackground\":true,\"ticks\":\"\",\"zerolinecolor\":\"white\"},\"yaxis\":{\"backgroundcolor\":\"#E5ECF6\",\"gridcolor\":\"white\",\"gridwidth\":2,\"linecolor\":\"white\",\"showbackground\":true,\"ticks\":\"\",\"zerolinecolor\":\"white\"},\"zaxis\":{\"backgroundcolor\":\"#E5ECF6\",\"gridcolor\":\"white\",\"gridwidth\":2,\"linecolor\":\"white\",\"showbackground\":true,\"ticks\":\"\",\"zerolinecolor\":\"white\"}},\"shapedefaults\":{\"line\":{\"color\":\"#2a3f5f\"}},\"ternary\":{\"aaxis\":{\"gridcolor\":\"white\",\"linecolor\":\"white\",\"ticks\":\"\"},\"baxis\":{\"gridcolor\":\"white\",\"linecolor\":\"white\",\"ticks\":\"\"},\"bgcolor\":\"#E5ECF6\",\"caxis\":{\"gridcolor\":\"white\",\"linecolor\":\"white\",\"ticks\":\"\"}},\"title\":{\"x\":0.05},\"xaxis\":{\"automargin\":true,\"gridcolor\":\"white\",\"linecolor\":\"white\",\"ticks\":\"\",\"title\":{\"standoff\":15},\"zerolinecolor\":\"white\",\"zerolinewidth\":2},\"yaxis\":{\"automargin\":true,\"gridcolor\":\"white\",\"linecolor\":\"white\",\"ticks\":\"\",\"title\":{\"standoff\":15},\"zerolinecolor\":\"white\",\"zerolinewidth\":2}}}},                        {\"responsive\": true}                    ).then(function(){\n",
       "                            \n",
       "var gd = document.getElementById('63271776-1a9e-4171-b138-cac07e7ed619');\n",
       "var x = new MutationObserver(function (mutations, observer) {{\n",
       "        var display = window.getComputedStyle(gd).display;\n",
       "        if (!display || display === 'none') {{\n",
       "            console.log([gd, 'removed!']);\n",
       "            Plotly.purge(gd);\n",
       "            observer.disconnect();\n",
       "        }}\n",
       "}});\n",
       "\n",
       "// Listen for the removal of the full notebook cells\n",
       "var notebookContainer = gd.closest('#notebook-container');\n",
       "if (notebookContainer) {{\n",
       "    x.observe(notebookContainer, {childList: true});\n",
       "}}\n",
       "\n",
       "// Listen for the clearing of the current output cell\n",
       "var outputEl = gd.closest('.output');\n",
       "if (outputEl) {{\n",
       "    x.observe(outputEl, {childList: true});\n",
       "}}\n",
       "\n",
       "                        })                };                });            </script>        </div>"
      ]
     },
     "metadata": {},
     "output_type": "display_data"
    }
   ],
   "source": [
    "N = 100\n",
    "random_x = np.linspace(0, 1, N)\n",
    "random_y0 = np.random.randn(N)+5\n",
    "random_y1 = np.random.randn(N)\n",
    "random_y2 = np.random.randn(N)-5\n",
    "\n",
    "# Create traces\n",
    "trace0 = go.Scatter(\n",
    "    x = random_x,\n",
    "    y = random_y0,\n",
    "    mode = 'markers',\n",
    "    name = 'markers'\n",
    ")\n",
    "trace1 = go.Scatter(\n",
    "    x = random_x,\n",
    "    y = random_y1,\n",
    "    mode = 'lines+markers',\n",
    "    name = 'lines+markers'\n",
    ")\n",
    "trace2 = go.Scatter(\n",
    "    x = random_x,\n",
    "    y = random_y2,\n",
    "    mode = 'lines',\n",
    "    name = 'lines'\n",
    ")\n",
    "\n",
    "data = [trace0, trace1, trace2]\n",
    "plotly.offline.iplot(data, filename='scatter-mode')"
   ]
  },
  {
   "cell_type": "code",
   "execution_count": 5,
   "id": "3fb58309",
   "metadata": {
    "scrolled": false
   },
   "outputs": [
    {
     "data": {
      "application/vnd.plotly.v1+json": {
       "config": {
        "linkText": "Export to plot.ly",
        "plotlyServerURL": "https://plot.ly",
        "showLink": false
       },
       "data": [
        {
         "marker": {
          "color": [
           0.29928806796995605,
           1.180587843152444,
           0.09848764962661757,
           -1.5298808786549063,
           1.2202550992352459,
           1.256524423305004,
           0.03528510710037289,
           -0.10921026428564627,
           0.5087016720058316,
           0.39447890691152887,
           3.4572089813080638,
           2.29426550460815,
           0.5892274337685699,
           0.6939668058053868,
           -0.03871465364873642,
           0.08590736062484924,
           1.8802506769280691,
           0.23416055494490653,
           0.4482129162114108,
           0.12294188699796388,
           -0.17917001720979325,
           -0.5429656821599136,
           0.5800601004515247,
           0.46612771175315104,
           -0.49661753434238537,
           -1.3429025834379247,
           -0.9603982103020782,
           0.4484981972882557,
           0.2465913138330407,
           0.7273257042833493,
           1.3747296005355647,
           -0.36512922895868133,
           -1.718848975809213,
           0.9558571598677422,
           -1.2111056705638326,
           0.11085240293914315,
           0.8500402291830703,
           0.6462635026326413,
           -0.07427460539314432,
           -1.9075132502510557,
           1.3832522808761305,
           -0.20334187964292483,
           -1.2779347522913589,
           -0.5421109120994342,
           -0.4617547153776051,
           0.566574167113913,
           -0.7474910933954187,
           0.06751210840134508,
           -0.45811589641736006,
           0.05791283568906854,
           0.869239441995878,
           1.3191663971159968,
           1.2168438109172661,
           0.04226274690056871,
           0.4348790572102126,
           -0.6253491046296829,
           -0.17111454611543145,
           0.4003415525281679,
           -1.5338817510106637,
           -2.57306621213737,
           -0.38278663622853415,
           -0.44730547884956834,
           -0.4288260135312148,
           0.1001066104112955,
           0.4816278032366635,
           0.06857437713766658,
           -0.5237663822080226,
           0.6823637719301366,
           0.30986161418590347,
           -1.0617124841987733,
           -0.24153191524525722,
           0.019269868744406293,
           0.9416339339685671,
           1.256123609631192,
           -0.42595966429265475,
           -0.8096379961220104,
           0.272056001545165,
           0.680596472174402,
           -0.5490638537008489,
           0.389338218696704,
           1.6648939414171842,
           -2.7707191473978625,
           1.0367012019816502,
           0.7331548751414839,
           -0.05692582267305822,
           1.282632524919121,
           -0.15435531159350357,
           -0.013172068519983164,
           -0.10930294245567763,
           0.8097662959124687,
           1.1799387564122592,
           0.45350027872202253,
           -0.11965202843514902,
           1.2731122171828033,
           -0.7206102563544913,
           0.8511885554396613,
           -0.30994623772314317,
           0.4360295804625041,
           -0.7201769609382005,
           0.19258618159133686,
           0.3588890753441584,
           0.4726472057132968,
           -0.016023957336995832,
           0.3365668080406377,
           -0.5131269495338393,
           2.004371295659264,
           1.6046221019932192,
           2.447401024519591,
           1.1670520210503221,
           1.1171558803116994,
           1.3045840944660982,
           0.519840405483843,
           0.413047351784154,
           0.48271492113940956,
           -1.5775498275157376,
           -2.1512502587081075,
           -0.5734334460687386,
           0.42656842899364716,
           -0.04768972224368861,
           -0.8345628554782053,
           -0.8041481969458223,
           0.6856218488388416,
           0.6029731811085052,
           0.6154299640146563,
           -0.7238494582232864,
           -0.7146318259837953,
           -1.4889718471444313,
           -0.14999274547494762,
           0.25146655898992726,
           -0.37465316148355227,
           -0.607868617569442,
           -0.12869100697377034,
           -0.08786653816081068,
           0.04764663607519605,
           -0.46123170939561625,
           -0.016558736328213156,
           0.6913167900503214,
           -0.45537427726584123,
           -0.5626631635023078,
           -0.16841729157662438,
           0.8957585756740519,
           -0.11171855488589355,
           -0.3702269033916668,
           0.9264153705153524,
           -0.7419471056249453,
           -1.1769177573030771,
           -0.27224716771976115,
           -0.06666547248775867,
           0.030614264389679256,
           -0.17058700677297278,
           0.05652444567453132,
           0.48414822415951214,
           2.525237338398921,
           -0.4146738680628318,
           -0.03081313046439752,
           0.6982333780618333,
           -2.0404073578075868,
           0.9029448761508494,
           0.5875969908348215,
           0.5504899678715359,
           -0.0036414058966518703,
           0.5164276357764663,
           0.03922420592229878,
           1.258726532215818,
           -0.690779889612985,
           -0.7070491272308268,
           -0.003483065468773914,
           0.7706185079905327,
           0.44902467012936453,
           -0.5345148549222456,
           0.3572876675409616,
           1.2275702655312601,
           1.4886256531928566,
           0.41856609065189704,
           -0.9441136933952996,
           0.042859010683808485,
           0.4877289641970462,
           1.271533098523461,
           -0.5340729067776339,
           0.23129801946004766,
           0.5788080973079417,
           1.4500497511724335,
           0.6828590316042649,
           -0.36251244925282133,
           2.2296673320144653,
           0.33152202562766225,
           -0.7161595269028901,
           -1.1714199284335585,
           -0.013557922470025557,
           0.9894488845727369,
           -1.0929175288946993,
           0.19706131819523784,
           1.014295792156882,
           -1.2582391947116716,
           -0.4576929480515006,
           2.3202051524463707,
           -0.4046823370645494,
           -0.42592814834374126,
           -1.0227511297953265,
           1.5919431197274547,
           1.1941751627539936,
           -0.5312997262811644,
           0.732554151495897,
           1.3947036628689948,
           -0.16053850688150115,
           -0.9164781872124946,
           -0.6082931084092187,
           -0.10412960432512142,
           -0.7298964309664997,
           -0.7189527031311039,
           1.0208803740120949,
           -0.5700151259722644,
           -0.19205285949115614,
           -0.9725113419290242,
           -0.43463428687410577,
           0.4680528946227094,
           -1.662309713990306,
           -0.16947379585374386,
           -0.5404884660612842,
           0.03358150528289775,
           1.132573931735443,
           0.5126680939904859,
           -0.34626533886654237,
           -0.23895284187099955,
           0.655964359520921,
           0.6615788360248299,
           0.5747038444832193,
           0.6986882721887702,
           -1.6284464124826492,
           -0.07023485377900372,
           0.9812664370153361,
           -0.14278737446892237,
           0.48750849494866644,
           0.01528700143746517,
           -0.30126906296457595,
           -2.5506010377110706,
           0.823965154073522,
           -0.5215500447240836,
           -1.7070624945414958,
           -1.2934607564779594,
           0.29747392210263024,
           -2.0292046845861913,
           -0.2998547052697356,
           1.8473402232841738,
           -0.5834997102108732,
           0.33685821648314385,
           -2.451905741883834,
           0.8966024425722469,
           0.3900157998555436,
           -0.681260448202298,
           -0.11547288195906145,
           0.47202538476546296,
           -1.3276732253574945,
           0.45190532110463544,
           -0.08447891000844818,
           1.1547906364518719,
           0.4604992498483268,
           -0.43030848469756894,
           -0.10086393757252175,
           -0.8848615575143821,
           0.44807023482945174,
           0.6864498012528559,
           -0.9081169792149582,
           1.9831225879379615,
           -0.4347446707748977,
           -1.7191991419006742,
           1.5953826327952054,
           -1.4735640123034826,
           1.4492958236365017,
           0.6800084767550444,
           1.6427120981590677,
           -1.4097055154640479,
           0.1227948306322028,
           0.2679395411862265,
           0.29884738238134234,
           1.3342693557414458,
           -2.0996681098817134,
           1.1359353573187823,
           -0.7501055715342368,
           -1.2100470777356456,
           -0.8809847182368222,
           -1.0088784014024803,
           -0.03657494318862756,
           0.23933261684757834,
           1.119788927510698,
           -1.3219872260011976,
           -0.8294797106379306,
           0.013487568273932146,
           0.3258537713407371,
           0.9090726145426187,
           1.434861746241494,
           0.7856800750653341,
           -0.9014212984478617,
           -0.4949771405761771,
           -0.0832645573096992,
           0.9354179369221715,
           0.31628636595078563,
           -0.9138708480567755,
           -0.8111111991924834,
           -0.7134033442112112,
           0.25757410428637806,
           -1.1139258945996282,
           0.16827726351183336,
           0.4452990629325026,
           0.20412178656901311,
           1.6250796805902163,
           1.5994499155288193,
           -0.31778430126965046,
           1.0947062622706287,
           0.1529402026925838,
           0.8269272006846152,
           -2.05581982069736,
           0.27661138755044873,
           -0.7464445819238633,
           -1.290153608133655,
           -0.6537803447205501,
           -0.00039550370591282154,
           -1.1007173352612818,
           0.6281747742732879,
           -0.9710346473322149,
           -0.6436774237274681,
           -0.381167280209067,
           1.083669653553075,
           -0.9966272268220439,
           0.9437333772962125,
           -1.595824050494487,
           0.9091488886755683,
           0.9864288745493446,
           -0.264282797085058,
           -0.3782792137733275,
           -1.1443627210542708,
           -0.9881984921740515,
           0.8369985060138836,
           1.2295754862408903,
           0.23135875217621515,
           -1.2950326974269784,
           -0.04556036872970221,
           -0.1303917870363764,
           1.3560888374621047,
           0.1540376782749953,
           -0.6864572941036571,
           -0.8404527040432497,
           -2.2883873316825594,
           0.4795118672702006,
           0.24122554564733742,
           0.056992922977378284,
           -2.6470211453395955,
           -1.039585218223323,
           -0.5635851508888889,
           -0.12078116968024029,
           1.1357219637818494,
           -0.7648638349046372,
           0.964446840430147,
           0.8065665192823138,
           -2.0234340514965408,
           -0.30137260503379404,
           -0.19994689083955966,
           0.3684413838683621,
           2.0554792475714696,
           -1.2168269538065442,
           0.6036101692498016,
           -1.5766791392351827,
           -1.5230197497185343,
           0.2616437552788637,
           -0.3111643844443873,
           0.63801434773565,
           -0.9766665778578539,
           0.4586317614932986,
           1.3907120029893392,
           -0.09724511274291374,
           -0.4435061627749626,
           -0.8200547371013427,
           -1.0569168528296216,
           0.6918244121783326,
           -0.9332484166148391,
           -0.23958880531383403,
           0.003468127907058456,
           0.3393949199826259,
           -0.02803431013878431,
           1.5147478330179174,
           -0.5922036721085546,
           0.2587303004033407,
           -0.557745463233263,
           -0.5676981744972036,
           -0.1182025980270201,
           -0.7247381859991524,
           -1.1258684419915095,
           0.145128035628542,
           0.39368497674572805,
           -0.6663015962508396,
           -0.16388398578000388,
           0.2847984798983727,
           -0.9422606405357135,
           -0.30481641137166143,
           -1.0085689582940198,
           -2.167764393630173,
           -0.20922622861843604,
           0.18973053534483783,
           0.21743770989807853,
           -1.3013109021692113
          ],
          "colorscale": [
           [
            0,
            "#440154"
           ],
           [
            0.1111111111111111,
            "#482878"
           ],
           [
            0.2222222222222222,
            "#3e4989"
           ],
           [
            0.3333333333333333,
            "#31688e"
           ],
           [
            0.4444444444444444,
            "#26828e"
           ],
           [
            0.5555555555555556,
            "#1f9e89"
           ],
           [
            0.6666666666666666,
            "#35b779"
           ],
           [
            0.7777777777777778,
            "#6ece58"
           ],
           [
            0.8888888888888888,
            "#b5de2b"
           ],
           [
            1,
            "#fde725"
           ]
          ],
          "opacity": 0.8,
          "size": 12
         },
         "mode": "markers",
         "type": "scatter3d",
         "x": [
          -0.40176697790426674,
          0.9408828449739828,
          1.1155768197408245,
          1.4912121755412615,
          -2.4281001925026193,
          1.4274455344245314,
          0.6770328595493481,
          0.15432603414601687,
          -2.3137259046602794,
          0.43967293808484786,
          0.49162298101072455,
          0.3151147193346618,
          -1.0848099381368408,
          -1.0030891725743636,
          -0.18052084611927963,
          -0.75461340729623,
          0.464135484011362,
          0.4266591230835113,
          -1.4266478216107554,
          0.7241437581232245,
          -0.007803256624095413,
          0.3124989958046108,
          0.2739776775420859,
          0.7255725781786538,
          -0.05587536372558636,
          0.29587274629119914,
          1.5457601569878503,
          0.9117383666756788,
          -0.029692236524030576,
          1.4067049719460865,
          0.7429892489011259,
          -0.36591983843563547,
          0.7592148583494025,
          0.5190617624008306,
          -0.5688494268182634,
          -0.48288385497639813,
          -1.016859800969074,
          0.0842155149815717,
          -0.13894236060613033,
          0.7040568692080259,
          0.2897569848265431,
          -1.0668868177120456,
          0.6309992714612209,
          0.053451166872832225,
          -0.9712496819890712,
          0.8111353803956014,
          -0.342113344660801,
          0.7453741496176173,
          0.15145359268619998,
          1.0899706504434301,
          0.5314995670471007,
          0.10938037928588287,
          -0.017782609310781416,
          0.371416894442011,
          2.0503008194671604,
          -1.159120452258501,
          -0.3763155665353943,
          -2.256359094672531,
          0.84184892049688,
          0.19926031608918177,
          0.269096482762683,
          -1.8554395392594132,
          -0.7639709845164014,
          0.7078586675287579,
          -0.8596366501133254,
          0.3756595953159061,
          -0.009577320846272577,
          0.22636290546103718,
          -0.4117239483319,
          2.0186645971139674,
          -2.0561677608360145,
          0.07140413769971536,
          -0.7729444331182933,
          -0.17803358130940505,
          -0.35672509679915215,
          0.9454319623410466,
          0.8812532409719503,
          -0.6329271091419333,
          0.9354219310223602,
          -0.08056752639967829,
          0.4862764513250453,
          1.657645328062591,
          -0.9065869650276,
          0.03673135424132008,
          -2.2206791102566044,
          -0.8236730626156709,
          0.4556086593259569,
          -1.6395771083668442,
          -0.20404104573174794,
          -2.1927226407511844,
          1.4988896219067123,
          0.7445545953919438,
          0.1637053044705862,
          0.07018742806339867,
          0.023099635755213375,
          0.847509033193804,
          1.300826778105126,
          1.195052503089743,
          -0.1354635312782697,
          0.5588410915735983,
          1.4099095233148602,
          -1.6669035392615752,
          -0.23120854047835027,
          -1.0236613198475712,
          0.015096737352416213,
          -0.16007099049869347,
          0.8828671559039734,
          0.3756380482680396,
          0.01296739508097972,
          -1.203622053221921,
          0.5000975278567442,
          0.9431433215190105,
          0.4294208071559245,
          -1.8889187605683933,
          0.033050874514359944,
          1.2751742479802735,
          -2.5601649155030226,
          1.4537035153732643,
          -0.5851401933859759,
          1.1579847345083696,
          -0.13180813361927335,
          -1.099269414507364,
          0.2535623985411761,
          1.3437201525259554,
          -0.5983007238456836,
          -1.8969937165385695,
          0.6149025003004597,
          0.47737764243716463,
          0.16236618100287226,
          1.7458417604834315,
          1.554881939638358,
          1.1189184154994494,
          -1.2303825700692859,
          -2.0554118449729546,
          -0.39595121572126,
          0.8738743246599845,
          -0.1903769187543639,
          -0.29212123678744967,
          -1.5068698251510082,
          0.3640334982361657,
          -0.80804738687213,
          -1.8165013510975088,
          0.44503620449508263,
          -1.1946752456382195,
          1.2837820380649452,
          0.38781208819194657,
          1.36771868182258,
          1.2207747134377052,
          0.13970476888408073,
          -0.8216720244504961,
          0.8640069070585661,
          1.1137444293931464,
          -0.6250387783099165,
          0.46982483873746655,
          -0.16201652434337652,
          -0.3991181724023285,
          1.7869035551949712,
          0.7774607071382867,
          -0.5596489461205673,
          1.8666091994338503,
          0.38340672960986005,
          -0.39617523748514155,
          0.7123652394250609,
          0.8002455259989714,
          0.016054450582258312,
          0.30320267510693666,
          -1.4586261639837972,
          1.0432262293924357,
          0.24230073577599012,
          -0.7398762045015516,
          0.5578884651461373,
          0.6562263569514398,
          1.2686757035674041,
          -0.35023832706525093,
          -0.026604741009671664,
          -3.104664484026572,
          0.19215570005412014,
          -0.5308001584479023,
          -0.5613193433956039,
          0.490139199382272,
          -1.9113840402369169,
          0.6547044554509165,
          1.130971663712045,
          0.6930240043434662,
          0.6148737505313128,
          0.5467758128009108,
          -0.8178586387080079,
          -0.8870104986405164,
          3.5056536373278098,
          2.314198109990966,
          0.6764645067066671,
          -0.6253206097991849,
          0.04455347237236234,
          0.5772837836838147,
          -1.1457563854449757,
          -0.04659735205066831,
          0.05387851257701926,
          -0.6057492228083354,
          -0.5203536936200542,
          0.6377472751970331,
          -0.45275239976745063,
          0.3680494821239915,
          0.44057189520041284,
          0.05100780109696434,
          -0.47688989978657137,
          0.7938605096408862,
          -0.6017151138167983,
          0.7659459732996396,
          -0.15969137224787283,
          0.6880234658735404,
          -0.3491240769426782,
          -0.03633101610847999,
          -0.19514888318535967,
          1.142901275503691,
          -1.6246644860933215,
          -1.7040604163025814,
          0.8071469594415123,
          -0.5178062057696368,
          1.8385115592323333,
          -0.0744084504906094,
          0.023529569231279756,
          -0.052485768162493715,
          0.7351498638947019,
          0.22420074212919142,
          -0.64052843075241,
          0.7347853207425381,
          -1.9742733291248502,
          1.9805602883038134,
          1.7492416010216514,
          0.9870627285112664,
          -0.7190525338506422,
          -0.43935424221229424,
          -0.8736143644146287,
          0.5931683776612793,
          0.11472880748459831,
          0.07561632111708695,
          -1.0704372185148752,
          -0.0883250771288213,
          -1.1773770105253298,
          -0.15972124281817493,
          1.5171969681679658,
          1.3736854629214879,
          -0.2135521481934571,
          -0.3528408252090894,
          -0.003951886867775366,
          -1.1731113733405296,
          1.6032412323068046,
          -0.5751490683854449,
          0.20075035489159399,
          0.19472188702508456,
          1.7261273131317825,
          0.3064598329099419,
          -0.009255798028713447,
          -0.2875391750330871,
          0.5275131849868507,
          -0.9255323781659869,
          -0.3046862114157485,
          -1.3184552452739946,
          0.09682168332805956,
          -1.621246693887512,
          -0.18837149842131748,
          1.4080834566576372,
          0.5506957712428653,
          0.9603963664583637,
          0.2970392093899093,
          -0.8678743591562192,
          -1.8105746093881494,
          0.8507531335478747,
          0.25100273671479434,
          0.8808325335799841,
          0.22460334820004701,
          1.1013588391740494,
          -1.0276700156486722,
          0.638344515061709,
          0.6543993389254212,
          1.1393910350108574,
          1.5368800762373585,
          -0.8298571795898526,
          -1.5868811741223647,
          -0.24314875013264686,
          0.18764580547646273,
          -1.709306914702294,
          0.2613868430690121,
          0.6324250377876435,
          0.9284749950615082,
          -1.0806719347733442,
          1.00777374903898,
          1.2903923317196584,
          -0.5562259674245584,
          1.597708994687537,
          -0.7232660397928571,
          -0.4040562883670722,
          0.051054363623821236,
          0.93449013512416,
          -0.3910812348978108,
          -2.0924366294904666,
          1.289018929590215,
          -0.3933591460204879,
          -1.25760967678558,
          -1.5961468354040287,
          0.8870009227867827,
          0.10614058493365452,
          -1.7876417364299715,
          -1.1905831507164362,
          -0.004949844160096664,
          -1.018459537701812,
          -0.08145843013204229,
          0.07139094357674101,
          1.7374642000583835,
          -0.16971385953988968,
          0.301445693867929,
          1.3136240721928087,
          -0.40895784577501304,
          -0.7166302098198659,
          0.5498752899741121,
          0.6033574603740823,
          0.020832668763012097,
          1.606876183591911,
          0.9293894329557717,
          -1.6131698780749275,
          -2.0575119247265397,
          0.6067138909183702,
          -1.9001692803998655,
          -1.1238992391801623,
          1.04756833655121,
          1.0286986310553388,
          -2.024019989730729,
          -0.5665367953713516,
          1.8737002144187296,
          -1.3312150988584386,
          -0.3048700996748728,
          -0.050281486878750996,
          -0.8055915862066234,
          -2.6193558653126594,
          0.5018063081340357,
          -0.4406655281442598,
          1.5241640222086223,
          -0.22347686808362816,
          -1.0131921195015727,
          -0.18573322659261463,
          0.5648670361790168,
          -0.10659836475966669,
          -1.088737592143338,
          -0.16361344476046927,
          0.3055489641474174,
          1.094550072413091,
          0.951892976724835,
          -0.8183338913542811,
          -1.404706416245466,
          0.23704490905987766,
          2.257709669214608,
          -1.654390535096355,
          0.6842078637628947,
          1.3945106713928062,
          -0.40179990078408645,
          -0.5339186089958183,
          -1.2791221093653067,
          0.7701631243703617,
          -0.7940365433322158,
          0.5006687378927629,
          0.8960881982469217,
          -1.4259695503947099,
          -0.41541773844574514,
          -0.3535294201810168,
          -0.6574284679384674,
          1.6775792218194903,
          -0.6027344214130316,
          0.9320818317186962,
          -2.0853847402061394,
          -1.1225323087592982,
          1.0558614151465386,
          -1.304566615235744,
          0.7671779804987615,
          0.23004673799710867,
          0.4596365111373849,
          -0.15426644975013015,
          -0.6743314032214964,
          1.2362338591115856,
          1.2539343501782865,
          0.8218019925713624,
          -0.2173859240863179,
          0.639288440180789,
          0.41856194634946786,
          -1.4615978483592413,
          0.11034027701640402,
          -1.3725961558963327,
          0.056491894890105025,
          -0.26261264061028694,
          -1.7084275736738301,
          -0.18794017224340667,
          1.2731910511530176,
          1.4048374635093874,
          1.3578249734271297,
          -0.07870849424999317,
          -0.43485810847036277,
          0.8889172105672698,
          0.842602985573972,
          -0.8716518074851595,
          0.12733850061482938,
          -0.14461324393219596
         ],
         "y": [
          1.3757149344901423,
          1.7917678351167479,
          -1.4721969909188815,
          1.033093368717043,
          0.28663506534903266,
          0.1718519196687163,
          0.7590982040466319,
          -2.0549776034253955,
          -2.997801206885587,
          -0.42241648649291,
          1.2124502897629887,
          0.44071347392615723,
          0.26151741708578446,
          0.7911572408514914,
          -0.11670651952584675,
          -0.8198849695926954,
          2.0394247748826286,
          0.021836088955727903,
          -0.1877296816026263,
          0.20862835815111078,
          -1.0297690643057658,
          0.9896422045335173,
          -0.9892127854392,
          -1.9599057960412878,
          -0.5402716651289604,
          -0.1796362328580227,
          -0.710296215782697,
          -0.3893860538902186,
          0.3132444572669326,
          -0.9311187077535104,
          0.22529282743100162,
          -0.6110255052881699,
          -1.1942489133031526,
          0.42188080154369095,
          0.062173449639106315,
          0.07261859693314278,
          0.7420309574605385,
          1.1673448169746383,
          -0.6141453438099946,
          1.3950977257562918,
          -0.4057549866684066,
          0.12328307362897475,
          -1.430121034970824,
          0.6854567943685921,
          0.0524172105046898,
          -0.6603091213927009,
          -0.05546933439523442,
          -2.568355424621269,
          0.4189436959219412,
          -0.5335847060096034,
          -0.37684116029057263,
          -0.1959863681435205,
          0.37935262205563447,
          1.5857018642879468,
          0.8019898633253032,
          0.35417615558757426,
          0.11516351967038464,
          -0.539330857534972,
          0.12913046290981933,
          -0.30253937013023896,
          0.5296162624245622,
          0.10564425799195021,
          0.7888588304122632,
          1.2918359183188823,
          0.87458599061674,
          -0.10603692357197549,
          1.1538872163953586,
          0.10699424086923112,
          1.0061507689137374,
          -0.24928708213808923,
          0.22673074589954692,
          1.282536154167748,
          0.49740162718509956,
          -1.0794798538513846,
          0.2519737067234684,
          1.440955205394952,
          0.133363833929912,
          -0.0008235258656044029,
          0.8955932241395043,
          0.7460940528855213,
          -0.5010194046347193,
          -1.075199794113688,
          -0.054738140081316555,
          1.0674498106670738,
          -1.2733798109592673,
          -1.402021741920938,
          0.26915087644140506,
          1.7179584008437425,
          -0.1728841624958083,
          -1.7773969839350472,
          -1.6353531075947985,
          0.8560721524536693,
          0.33028705706714434,
          0.4853808742953092,
          0.8298739367950594,
          -0.07815994718244887,
          0.1805797048925762,
          -0.22982232971654576,
          -0.1427828360514061,
          -0.8923610004281611,
          -1.292192953091198,
          0.08944560630830115,
          0.44889880207986077,
          -0.6049881744757999,
          -0.24176763433917126,
          0.6879105431235963,
          0.2577928214989461,
          -1.2563404195243784,
          0.6796401955649803,
          -1.7121156483732394,
          -0.43631272309872715,
          0.30784611942695767,
          0.9152404765758746,
          2.605971104505048,
          -1.2121250487485564,
          -1.705569334705916,
          -2.1385252147682032,
          0.5176740627121216,
          -0.06931898251953376,
          0.7713918046572984,
          -0.7138053887772946,
          -3.8709314302456215,
          1.3765616877758113,
          0.7470348430457651,
          1.0899618791182926,
          0.36051945533162044,
          1.0529032562501588,
          0.4364344620278744,
          -0.32552905888037376,
          -0.33641144013010804,
          -0.6305839893280494,
          0.1741249641092808,
          0.8861501548036486,
          0.4145895776918966,
          1.1648659368025145,
          0.1925390009649049,
          0.4201298830613417,
          -0.2117449977016583,
          -0.03697459735668839,
          0.06222754952684322,
          1.9208300618973848,
          -0.8966061628988834,
          -0.6866480189247638,
          -0.9860867303090626,
          -0.6774497885823311,
          1.1986928132439956,
          -0.3198293112564581,
          -0.4320310285500175,
          -1.4609337440076646,
          0.32594170961661384,
          -0.2665482852637188,
          1.666567297579672,
          -0.7231491884479077,
          -0.413901641903881,
          1.4413265950897125,
          0.5247618398545173,
          1.561980846484563,
          1.1763994496319328,
          0.16072460043103554,
          0.5129053490101969,
          0.07009417065388986,
          1.016703469206019,
          0.5678745817932666,
          -1.352934978306363,
          0.792759229562498,
          -0.1523508505617965,
          -0.8738668140536232,
          0.6431802772966494,
          -0.21500121794317778,
          -0.4644445844694528,
          -0.9683287080430377,
          -1.0239581486710743,
          -2.431056741350983,
          0.11592485017624797,
          0.9141983672998333,
          0.8507069209889089,
          -0.6212729471291764,
          -1.087341380085401,
          -0.9263681889511091,
          -0.9436225226479924,
          0.7143991785858903,
          -3.392548837452928,
          -0.558753103580704,
          0.060491459721052146,
          -0.04255899280429773,
          -0.5036230193477189,
          1.8399598979274896,
          1.0430618121431585,
          -0.030086949942136936,
          0.0046533793094576,
          0.6123521228453026,
          -0.7965829996307213,
          -0.5335489595269739,
          1.1430176440415665,
          1.1602166144756032,
          -0.8098613204584972,
          -1.458688168991154,
          -1.3918898932493315,
          -0.7702611719479409,
          -0.198484568153579,
          -0.12091137711972709,
          -1.5975593915410031,
          1.3234090975017734,
          -0.29951685619111,
          -0.3145969620136771,
          0.5671721397874954,
          0.679225825535749,
          -2.1018511676199116,
          0.4261448602620342,
          0.05761162373473371,
          0.6197753875293076,
          -1.9368858845643386,
          -0.46061818384980197,
          0.3619512099559373,
          0.3889650840920888,
          -0.5882486774262338,
          0.6215649288807045,
          0.8080560099235696,
          -0.682497560967767,
          -0.11169552812594778,
          -0.6458323338673015,
          -0.4976257490769905,
          0.3844475021332079,
          0.6700750862611377,
          -0.9241326626869348,
          -1.115721222354192,
          -0.15342890158499936,
          -1.648960675741549,
          1.7172985307375142,
          -1.236168142388638,
          1.3340711034500747,
          0.3545249429497329,
          -0.34165489170726815,
          1.7490656870217969,
          -1.2303951888442208,
          0.36835302277270765,
          0.21326755745189444,
          0.8595039284517538,
          -0.7678521989658601,
          -2.433479406047289,
          -1.0198997753377086,
          -0.8458719776858122,
          0.9849540528716404,
          0.31330113732393267,
          2.381248994874169,
          -0.5987617363196338,
          -1.6148943480309483,
          1.3522675584452524,
          0.6833519550232066,
          0.5976437924991961,
          -0.9150867825002863,
          0.6489818199645566,
          0.7653688184392919,
          -0.7955195145891554,
          -1.3413117786354956,
          0.7853687723052413,
          0.9002792471618792,
          -2.2911603264171805,
          -0.399847144923469,
          0.03199871190962652,
          -0.7031521457212143,
          -0.9553118310819809,
          1.5658791261812022,
          0.5677221364538203,
          1.255381419795433,
          0.021692898409335054,
          -1.0176200249924796,
          0.022845039023410934,
          -0.0743613347433093,
          -0.4045833669910965,
          -0.0714977171032109,
          -0.5617109353582532,
          -1.7080661167471818,
          -1.2960394065943357,
          1.5597537929077439,
          0.010732536126673098,
          1.8518953945775556,
          0.9663106774497457,
          0.9763370057373125,
          1.313539701208814,
          -0.4843108149680118,
          0.13884815815127632,
          0.8245794323502883,
          -0.3784446564522323,
          2.9759232119246524,
          1.6689588755031397,
          0.20429087006228974,
          -0.666930172341588,
          0.4438584351843089,
          -0.2860003453877587,
          1.1601845685370358,
          -1.4487308143063546,
          -1.9746611160205583,
          0.11916760404185874,
          -0.5304569402301321,
          -1.2135659396651994,
          -0.6029973172218487,
          0.4756696295257572,
          -0.8382306961679239,
          -0.32775495691576106,
          0.4383188229719526,
          2.2924030288044785,
          0.7814320506644497,
          -0.5524532972076973,
          -0.051490136498270264,
          1.056694378080466,
          1.0873682915879808,
          -1.1626817320958402,
          0.08339776973001105,
          0.2877955468370097,
          -0.6986964161644509,
          0.29628763875861885,
          -0.26079284735510294,
          1.4353919658357812,
          -0.244095898147479,
          -0.2799102732362604,
          -0.04597529575129531,
          0.7651076806418708,
          -0.03330904966801911,
          1.0361230330179527,
          1.5614891936697128,
          -0.8201220118301819,
          -0.250281899336836,
          1.4247690564158688,
          -1.3981212753257253,
          0.26110723771027716,
          0.07072348892136565,
          0.5517370809148193,
          -1.4957775429952753,
          -0.05971904103831808,
          -0.05464041219099295,
          -1.9406815028774027,
          0.7176796054761099,
          -1.553199949864148,
          1.5517853133422426,
          1.2037555369346291,
          1.0606958019825279,
          1.3795877770008116,
          0.3538556006989172,
          0.6643210522146846,
          1.3762832933098028,
          0.0920584437246293,
          -0.3401495654862668,
          -0.8493615969339567,
          1.8189308825046098,
          -1.4770010344889475,
          -2.2633666693437178,
          -0.21813880668790714,
          -0.21606886949620507,
          -0.3056259343408371,
          -0.8699534351737123,
          -0.8102152615610339,
          0.8878288058648406,
          -0.8284138773962226,
          0.2838561565407149,
          1.4758274845133939,
          1.1967545152370562,
          1.4383958382030109,
          0.19588455899383905,
          -1.9889397223017768,
          0.19309856828382807,
          0.030497511315141217,
          -0.07320480475377225,
          -0.03025783325489046,
          0.2556090425153674,
          -0.7027156213543012,
          0.18486669487978818,
          0.8072954679022938,
          -0.36667706787608,
          -0.6807814120437716,
          1.1876435573359492,
          -0.1573863341166659,
          -0.8346116182936688,
          0.4606900442071102,
          -0.2978705965440081,
          1.3139001960519423,
          1.0303283774219156,
          -1.4423220082044157,
          -0.6631289144429685,
          0.5395847468139148,
          -0.05801049635731453,
          -0.801632242810772,
          -0.8155898565487172,
          -1.2881733707358156,
          1.2643902135252387,
          0.7519167626533924,
          0.4577523621073369,
          0.5145062004560761,
          0.12000408838924186,
          -0.7999508114021157,
          0.1491864595638048,
          0.4098087168391073,
          -0.4103546126360413,
          1.3642077865210476,
          0.32438182060458026,
          -1.0475646983948397,
          -0.4365618331867141,
          0.13678298437869513,
          0.8267846964981072,
          -0.7416871809047542
         ],
         "z": [
          0.29928806796995605,
          1.180587843152444,
          0.09848764962661757,
          -1.5298808786549063,
          1.2202550992352459,
          1.256524423305004,
          0.03528510710037289,
          -0.10921026428564627,
          0.5087016720058316,
          0.39447890691152887,
          3.4572089813080638,
          2.29426550460815,
          0.5892274337685699,
          0.6939668058053868,
          -0.03871465364873642,
          0.08590736062484924,
          1.8802506769280691,
          0.23416055494490653,
          0.4482129162114108,
          0.12294188699796388,
          -0.17917001720979325,
          -0.5429656821599136,
          0.5800601004515247,
          0.46612771175315104,
          -0.49661753434238537,
          -1.3429025834379247,
          -0.9603982103020782,
          0.4484981972882557,
          0.2465913138330407,
          0.7273257042833493,
          1.3747296005355647,
          -0.36512922895868133,
          -1.718848975809213,
          0.9558571598677422,
          -1.2111056705638326,
          0.11085240293914315,
          0.8500402291830703,
          0.6462635026326413,
          -0.07427460539314432,
          -1.9075132502510557,
          1.3832522808761305,
          -0.20334187964292483,
          -1.2779347522913589,
          -0.5421109120994342,
          -0.4617547153776051,
          0.566574167113913,
          -0.7474910933954187,
          0.06751210840134508,
          -0.45811589641736006,
          0.05791283568906854,
          0.869239441995878,
          1.3191663971159968,
          1.2168438109172661,
          0.04226274690056871,
          0.4348790572102126,
          -0.6253491046296829,
          -0.17111454611543145,
          0.4003415525281679,
          -1.5338817510106637,
          -2.57306621213737,
          -0.38278663622853415,
          -0.44730547884956834,
          -0.4288260135312148,
          0.1001066104112955,
          0.4816278032366635,
          0.06857437713766658,
          -0.5237663822080226,
          0.6823637719301366,
          0.30986161418590347,
          -1.0617124841987733,
          -0.24153191524525722,
          0.019269868744406293,
          0.9416339339685671,
          1.256123609631192,
          -0.42595966429265475,
          -0.8096379961220104,
          0.272056001545165,
          0.680596472174402,
          -0.5490638537008489,
          0.389338218696704,
          1.6648939414171842,
          -2.7707191473978625,
          1.0367012019816502,
          0.7331548751414839,
          -0.05692582267305822,
          1.282632524919121,
          -0.15435531159350357,
          -0.013172068519983164,
          -0.10930294245567763,
          0.8097662959124687,
          1.1799387564122592,
          0.45350027872202253,
          -0.11965202843514902,
          1.2731122171828033,
          -0.7206102563544913,
          0.8511885554396613,
          -0.30994623772314317,
          0.4360295804625041,
          -0.7201769609382005,
          0.19258618159133686,
          0.3588890753441584,
          0.4726472057132968,
          -0.016023957336995832,
          0.3365668080406377,
          -0.5131269495338393,
          2.004371295659264,
          1.6046221019932192,
          2.447401024519591,
          1.1670520210503221,
          1.1171558803116994,
          1.3045840944660982,
          0.519840405483843,
          0.413047351784154,
          0.48271492113940956,
          -1.5775498275157376,
          -2.1512502587081075,
          -0.5734334460687386,
          0.42656842899364716,
          -0.04768972224368861,
          -0.8345628554782053,
          -0.8041481969458223,
          0.6856218488388416,
          0.6029731811085052,
          0.6154299640146563,
          -0.7238494582232864,
          -0.7146318259837953,
          -1.4889718471444313,
          -0.14999274547494762,
          0.25146655898992726,
          -0.37465316148355227,
          -0.607868617569442,
          -0.12869100697377034,
          -0.08786653816081068,
          0.04764663607519605,
          -0.46123170939561625,
          -0.016558736328213156,
          0.6913167900503214,
          -0.45537427726584123,
          -0.5626631635023078,
          -0.16841729157662438,
          0.8957585756740519,
          -0.11171855488589355,
          -0.3702269033916668,
          0.9264153705153524,
          -0.7419471056249453,
          -1.1769177573030771,
          -0.27224716771976115,
          -0.06666547248775867,
          0.030614264389679256,
          -0.17058700677297278,
          0.05652444567453132,
          0.48414822415951214,
          2.525237338398921,
          -0.4146738680628318,
          -0.03081313046439752,
          0.6982333780618333,
          -2.0404073578075868,
          0.9029448761508494,
          0.5875969908348215,
          0.5504899678715359,
          -0.0036414058966518703,
          0.5164276357764663,
          0.03922420592229878,
          1.258726532215818,
          -0.690779889612985,
          -0.7070491272308268,
          -0.003483065468773914,
          0.7706185079905327,
          0.44902467012936453,
          -0.5345148549222456,
          0.3572876675409616,
          1.2275702655312601,
          1.4886256531928566,
          0.41856609065189704,
          -0.9441136933952996,
          0.042859010683808485,
          0.4877289641970462,
          1.271533098523461,
          -0.5340729067776339,
          0.23129801946004766,
          0.5788080973079417,
          1.4500497511724335,
          0.6828590316042649,
          -0.36251244925282133,
          2.2296673320144653,
          0.33152202562766225,
          -0.7161595269028901,
          -1.1714199284335585,
          -0.013557922470025557,
          0.9894488845727369,
          -1.0929175288946993,
          0.19706131819523784,
          1.014295792156882,
          -1.2582391947116716,
          -0.4576929480515006,
          2.3202051524463707,
          -0.4046823370645494,
          -0.42592814834374126,
          -1.0227511297953265,
          1.5919431197274547,
          1.1941751627539936,
          -0.5312997262811644,
          0.732554151495897,
          1.3947036628689948,
          -0.16053850688150115,
          -0.9164781872124946,
          -0.6082931084092187,
          -0.10412960432512142,
          -0.7298964309664997,
          -0.7189527031311039,
          1.0208803740120949,
          -0.5700151259722644,
          -0.19205285949115614,
          -0.9725113419290242,
          -0.43463428687410577,
          0.4680528946227094,
          -1.662309713990306,
          -0.16947379585374386,
          -0.5404884660612842,
          0.03358150528289775,
          1.132573931735443,
          0.5126680939904859,
          -0.34626533886654237,
          -0.23895284187099955,
          0.655964359520921,
          0.6615788360248299,
          0.5747038444832193,
          0.6986882721887702,
          -1.6284464124826492,
          -0.07023485377900372,
          0.9812664370153361,
          -0.14278737446892237,
          0.48750849494866644,
          0.01528700143746517,
          -0.30126906296457595,
          -2.5506010377110706,
          0.823965154073522,
          -0.5215500447240836,
          -1.7070624945414958,
          -1.2934607564779594,
          0.29747392210263024,
          -2.0292046845861913,
          -0.2998547052697356,
          1.8473402232841738,
          -0.5834997102108732,
          0.33685821648314385,
          -2.451905741883834,
          0.8966024425722469,
          0.3900157998555436,
          -0.681260448202298,
          -0.11547288195906145,
          0.47202538476546296,
          -1.3276732253574945,
          0.45190532110463544,
          -0.08447891000844818,
          1.1547906364518719,
          0.4604992498483268,
          -0.43030848469756894,
          -0.10086393757252175,
          -0.8848615575143821,
          0.44807023482945174,
          0.6864498012528559,
          -0.9081169792149582,
          1.9831225879379615,
          -0.4347446707748977,
          -1.7191991419006742,
          1.5953826327952054,
          -1.4735640123034826,
          1.4492958236365017,
          0.6800084767550444,
          1.6427120981590677,
          -1.4097055154640479,
          0.1227948306322028,
          0.2679395411862265,
          0.29884738238134234,
          1.3342693557414458,
          -2.0996681098817134,
          1.1359353573187823,
          -0.7501055715342368,
          -1.2100470777356456,
          -0.8809847182368222,
          -1.0088784014024803,
          -0.03657494318862756,
          0.23933261684757834,
          1.119788927510698,
          -1.3219872260011976,
          -0.8294797106379306,
          0.013487568273932146,
          0.3258537713407371,
          0.9090726145426187,
          1.434861746241494,
          0.7856800750653341,
          -0.9014212984478617,
          -0.4949771405761771,
          -0.0832645573096992,
          0.9354179369221715,
          0.31628636595078563,
          -0.9138708480567755,
          -0.8111111991924834,
          -0.7134033442112112,
          0.25757410428637806,
          -1.1139258945996282,
          0.16827726351183336,
          0.4452990629325026,
          0.20412178656901311,
          1.6250796805902163,
          1.5994499155288193,
          -0.31778430126965046,
          1.0947062622706287,
          0.1529402026925838,
          0.8269272006846152,
          -2.05581982069736,
          0.27661138755044873,
          -0.7464445819238633,
          -1.290153608133655,
          -0.6537803447205501,
          -0.00039550370591282154,
          -1.1007173352612818,
          0.6281747742732879,
          -0.9710346473322149,
          -0.6436774237274681,
          -0.381167280209067,
          1.083669653553075,
          -0.9966272268220439,
          0.9437333772962125,
          -1.595824050494487,
          0.9091488886755683,
          0.9864288745493446,
          -0.264282797085058,
          -0.3782792137733275,
          -1.1443627210542708,
          -0.9881984921740515,
          0.8369985060138836,
          1.2295754862408903,
          0.23135875217621515,
          -1.2950326974269784,
          -0.04556036872970221,
          -0.1303917870363764,
          1.3560888374621047,
          0.1540376782749953,
          -0.6864572941036571,
          -0.8404527040432497,
          -2.2883873316825594,
          0.4795118672702006,
          0.24122554564733742,
          0.056992922977378284,
          -2.6470211453395955,
          -1.039585218223323,
          -0.5635851508888889,
          -0.12078116968024029,
          1.1357219637818494,
          -0.7648638349046372,
          0.964446840430147,
          0.8065665192823138,
          -2.0234340514965408,
          -0.30137260503379404,
          -0.19994689083955966,
          0.3684413838683621,
          2.0554792475714696,
          -1.2168269538065442,
          0.6036101692498016,
          -1.5766791392351827,
          -1.5230197497185343,
          0.2616437552788637,
          -0.3111643844443873,
          0.63801434773565,
          -0.9766665778578539,
          0.4586317614932986,
          1.3907120029893392,
          -0.09724511274291374,
          -0.4435061627749626,
          -0.8200547371013427,
          -1.0569168528296216,
          0.6918244121783326,
          -0.9332484166148391,
          -0.23958880531383403,
          0.003468127907058456,
          0.3393949199826259,
          -0.02803431013878431,
          1.5147478330179174,
          -0.5922036721085546,
          0.2587303004033407,
          -0.557745463233263,
          -0.5676981744972036,
          -0.1182025980270201,
          -0.7247381859991524,
          -1.1258684419915095,
          0.145128035628542,
          0.39368497674572805,
          -0.6663015962508396,
          -0.16388398578000388,
          0.2847984798983727,
          -0.9422606405357135,
          -0.30481641137166143,
          -1.0085689582940198,
          -2.167764393630173,
          -0.20922622861843604,
          0.18973053534483783,
          0.21743770989807853,
          -1.3013109021692113
         ]
        }
       ],
       "layout": {
        "margin": {
         "b": 0,
         "l": 0,
         "r": 0,
         "t": 0
        },
        "template": {
         "data": {
          "bar": [
           {
            "error_x": {
             "color": "#2a3f5f"
            },
            "error_y": {
             "color": "#2a3f5f"
            },
            "marker": {
             "line": {
              "color": "#E5ECF6",
              "width": 0.5
             },
             "pattern": {
              "fillmode": "overlay",
              "size": 10,
              "solidity": 0.2
             }
            },
            "type": "bar"
           }
          ],
          "barpolar": [
           {
            "marker": {
             "line": {
              "color": "#E5ECF6",
              "width": 0.5
             },
             "pattern": {
              "fillmode": "overlay",
              "size": 10,
              "solidity": 0.2
             }
            },
            "type": "barpolar"
           }
          ],
          "carpet": [
           {
            "aaxis": {
             "endlinecolor": "#2a3f5f",
             "gridcolor": "white",
             "linecolor": "white",
             "minorgridcolor": "white",
             "startlinecolor": "#2a3f5f"
            },
            "baxis": {
             "endlinecolor": "#2a3f5f",
             "gridcolor": "white",
             "linecolor": "white",
             "minorgridcolor": "white",
             "startlinecolor": "#2a3f5f"
            },
            "type": "carpet"
           }
          ],
          "choropleth": [
           {
            "colorbar": {
             "outlinewidth": 0,
             "ticks": ""
            },
            "type": "choropleth"
           }
          ],
          "contour": [
           {
            "colorbar": {
             "outlinewidth": 0,
             "ticks": ""
            },
            "colorscale": [
             [
              0,
              "#0d0887"
             ],
             [
              0.1111111111111111,
              "#46039f"
             ],
             [
              0.2222222222222222,
              "#7201a8"
             ],
             [
              0.3333333333333333,
              "#9c179e"
             ],
             [
              0.4444444444444444,
              "#bd3786"
             ],
             [
              0.5555555555555556,
              "#d8576b"
             ],
             [
              0.6666666666666666,
              "#ed7953"
             ],
             [
              0.7777777777777778,
              "#fb9f3a"
             ],
             [
              0.8888888888888888,
              "#fdca26"
             ],
             [
              1,
              "#f0f921"
             ]
            ],
            "type": "contour"
           }
          ],
          "contourcarpet": [
           {
            "colorbar": {
             "outlinewidth": 0,
             "ticks": ""
            },
            "type": "contourcarpet"
           }
          ],
          "heatmap": [
           {
            "colorbar": {
             "outlinewidth": 0,
             "ticks": ""
            },
            "colorscale": [
             [
              0,
              "#0d0887"
             ],
             [
              0.1111111111111111,
              "#46039f"
             ],
             [
              0.2222222222222222,
              "#7201a8"
             ],
             [
              0.3333333333333333,
              "#9c179e"
             ],
             [
              0.4444444444444444,
              "#bd3786"
             ],
             [
              0.5555555555555556,
              "#d8576b"
             ],
             [
              0.6666666666666666,
              "#ed7953"
             ],
             [
              0.7777777777777778,
              "#fb9f3a"
             ],
             [
              0.8888888888888888,
              "#fdca26"
             ],
             [
              1,
              "#f0f921"
             ]
            ],
            "type": "heatmap"
           }
          ],
          "heatmapgl": [
           {
            "colorbar": {
             "outlinewidth": 0,
             "ticks": ""
            },
            "colorscale": [
             [
              0,
              "#0d0887"
             ],
             [
              0.1111111111111111,
              "#46039f"
             ],
             [
              0.2222222222222222,
              "#7201a8"
             ],
             [
              0.3333333333333333,
              "#9c179e"
             ],
             [
              0.4444444444444444,
              "#bd3786"
             ],
             [
              0.5555555555555556,
              "#d8576b"
             ],
             [
              0.6666666666666666,
              "#ed7953"
             ],
             [
              0.7777777777777778,
              "#fb9f3a"
             ],
             [
              0.8888888888888888,
              "#fdca26"
             ],
             [
              1,
              "#f0f921"
             ]
            ],
            "type": "heatmapgl"
           }
          ],
          "histogram": [
           {
            "marker": {
             "pattern": {
              "fillmode": "overlay",
              "size": 10,
              "solidity": 0.2
             }
            },
            "type": "histogram"
           }
          ],
          "histogram2d": [
           {
            "colorbar": {
             "outlinewidth": 0,
             "ticks": ""
            },
            "colorscale": [
             [
              0,
              "#0d0887"
             ],
             [
              0.1111111111111111,
              "#46039f"
             ],
             [
              0.2222222222222222,
              "#7201a8"
             ],
             [
              0.3333333333333333,
              "#9c179e"
             ],
             [
              0.4444444444444444,
              "#bd3786"
             ],
             [
              0.5555555555555556,
              "#d8576b"
             ],
             [
              0.6666666666666666,
              "#ed7953"
             ],
             [
              0.7777777777777778,
              "#fb9f3a"
             ],
             [
              0.8888888888888888,
              "#fdca26"
             ],
             [
              1,
              "#f0f921"
             ]
            ],
            "type": "histogram2d"
           }
          ],
          "histogram2dcontour": [
           {
            "colorbar": {
             "outlinewidth": 0,
             "ticks": ""
            },
            "colorscale": [
             [
              0,
              "#0d0887"
             ],
             [
              0.1111111111111111,
              "#46039f"
             ],
             [
              0.2222222222222222,
              "#7201a8"
             ],
             [
              0.3333333333333333,
              "#9c179e"
             ],
             [
              0.4444444444444444,
              "#bd3786"
             ],
             [
              0.5555555555555556,
              "#d8576b"
             ],
             [
              0.6666666666666666,
              "#ed7953"
             ],
             [
              0.7777777777777778,
              "#fb9f3a"
             ],
             [
              0.8888888888888888,
              "#fdca26"
             ],
             [
              1,
              "#f0f921"
             ]
            ],
            "type": "histogram2dcontour"
           }
          ],
          "mesh3d": [
           {
            "colorbar": {
             "outlinewidth": 0,
             "ticks": ""
            },
            "type": "mesh3d"
           }
          ],
          "parcoords": [
           {
            "line": {
             "colorbar": {
              "outlinewidth": 0,
              "ticks": ""
             }
            },
            "type": "parcoords"
           }
          ],
          "pie": [
           {
            "automargin": true,
            "type": "pie"
           }
          ],
          "scatter": [
           {
            "marker": {
             "colorbar": {
              "outlinewidth": 0,
              "ticks": ""
             }
            },
            "type": "scatter"
           }
          ],
          "scatter3d": [
           {
            "line": {
             "colorbar": {
              "outlinewidth": 0,
              "ticks": ""
             }
            },
            "marker": {
             "colorbar": {
              "outlinewidth": 0,
              "ticks": ""
             }
            },
            "type": "scatter3d"
           }
          ],
          "scattercarpet": [
           {
            "marker": {
             "colorbar": {
              "outlinewidth": 0,
              "ticks": ""
             }
            },
            "type": "scattercarpet"
           }
          ],
          "scattergeo": [
           {
            "marker": {
             "colorbar": {
              "outlinewidth": 0,
              "ticks": ""
             }
            },
            "type": "scattergeo"
           }
          ],
          "scattergl": [
           {
            "marker": {
             "colorbar": {
              "outlinewidth": 0,
              "ticks": ""
             }
            },
            "type": "scattergl"
           }
          ],
          "scattermapbox": [
           {
            "marker": {
             "colorbar": {
              "outlinewidth": 0,
              "ticks": ""
             }
            },
            "type": "scattermapbox"
           }
          ],
          "scatterpolar": [
           {
            "marker": {
             "colorbar": {
              "outlinewidth": 0,
              "ticks": ""
             }
            },
            "type": "scatterpolar"
           }
          ],
          "scatterpolargl": [
           {
            "marker": {
             "colorbar": {
              "outlinewidth": 0,
              "ticks": ""
             }
            },
            "type": "scatterpolargl"
           }
          ],
          "scatterternary": [
           {
            "marker": {
             "colorbar": {
              "outlinewidth": 0,
              "ticks": ""
             }
            },
            "type": "scatterternary"
           }
          ],
          "surface": [
           {
            "colorbar": {
             "outlinewidth": 0,
             "ticks": ""
            },
            "colorscale": [
             [
              0,
              "#0d0887"
             ],
             [
              0.1111111111111111,
              "#46039f"
             ],
             [
              0.2222222222222222,
              "#7201a8"
             ],
             [
              0.3333333333333333,
              "#9c179e"
             ],
             [
              0.4444444444444444,
              "#bd3786"
             ],
             [
              0.5555555555555556,
              "#d8576b"
             ],
             [
              0.6666666666666666,
              "#ed7953"
             ],
             [
              0.7777777777777778,
              "#fb9f3a"
             ],
             [
              0.8888888888888888,
              "#fdca26"
             ],
             [
              1,
              "#f0f921"
             ]
            ],
            "type": "surface"
           }
          ],
          "table": [
           {
            "cells": {
             "fill": {
              "color": "#EBF0F8"
             },
             "line": {
              "color": "white"
             }
            },
            "header": {
             "fill": {
              "color": "#C8D4E3"
             },
             "line": {
              "color": "white"
             }
            },
            "type": "table"
           }
          ]
         },
         "layout": {
          "annotationdefaults": {
           "arrowcolor": "#2a3f5f",
           "arrowhead": 0,
           "arrowwidth": 1
          },
          "autotypenumbers": "strict",
          "coloraxis": {
           "colorbar": {
            "outlinewidth": 0,
            "ticks": ""
           }
          },
          "colorscale": {
           "diverging": [
            [
             0,
             "#8e0152"
            ],
            [
             0.1,
             "#c51b7d"
            ],
            [
             0.2,
             "#de77ae"
            ],
            [
             0.3,
             "#f1b6da"
            ],
            [
             0.4,
             "#fde0ef"
            ],
            [
             0.5,
             "#f7f7f7"
            ],
            [
             0.6,
             "#e6f5d0"
            ],
            [
             0.7,
             "#b8e186"
            ],
            [
             0.8,
             "#7fbc41"
            ],
            [
             0.9,
             "#4d9221"
            ],
            [
             1,
             "#276419"
            ]
           ],
           "sequential": [
            [
             0,
             "#0d0887"
            ],
            [
             0.1111111111111111,
             "#46039f"
            ],
            [
             0.2222222222222222,
             "#7201a8"
            ],
            [
             0.3333333333333333,
             "#9c179e"
            ],
            [
             0.4444444444444444,
             "#bd3786"
            ],
            [
             0.5555555555555556,
             "#d8576b"
            ],
            [
             0.6666666666666666,
             "#ed7953"
            ],
            [
             0.7777777777777778,
             "#fb9f3a"
            ],
            [
             0.8888888888888888,
             "#fdca26"
            ],
            [
             1,
             "#f0f921"
            ]
           ],
           "sequentialminus": [
            [
             0,
             "#0d0887"
            ],
            [
             0.1111111111111111,
             "#46039f"
            ],
            [
             0.2222222222222222,
             "#7201a8"
            ],
            [
             0.3333333333333333,
             "#9c179e"
            ],
            [
             0.4444444444444444,
             "#bd3786"
            ],
            [
             0.5555555555555556,
             "#d8576b"
            ],
            [
             0.6666666666666666,
             "#ed7953"
            ],
            [
             0.7777777777777778,
             "#fb9f3a"
            ],
            [
             0.8888888888888888,
             "#fdca26"
            ],
            [
             1,
             "#f0f921"
            ]
           ]
          },
          "colorway": [
           "#636efa",
           "#EF553B",
           "#00cc96",
           "#ab63fa",
           "#FFA15A",
           "#19d3f3",
           "#FF6692",
           "#B6E880",
           "#FF97FF",
           "#FECB52"
          ],
          "font": {
           "color": "#2a3f5f"
          },
          "geo": {
           "bgcolor": "white",
           "lakecolor": "white",
           "landcolor": "#E5ECF6",
           "showlakes": true,
           "showland": true,
           "subunitcolor": "white"
          },
          "hoverlabel": {
           "align": "left"
          },
          "hovermode": "closest",
          "mapbox": {
           "style": "light"
          },
          "paper_bgcolor": "white",
          "plot_bgcolor": "#E5ECF6",
          "polar": {
           "angularaxis": {
            "gridcolor": "white",
            "linecolor": "white",
            "ticks": ""
           },
           "bgcolor": "#E5ECF6",
           "radialaxis": {
            "gridcolor": "white",
            "linecolor": "white",
            "ticks": ""
           }
          },
          "scene": {
           "xaxis": {
            "backgroundcolor": "#E5ECF6",
            "gridcolor": "white",
            "gridwidth": 2,
            "linecolor": "white",
            "showbackground": true,
            "ticks": "",
            "zerolinecolor": "white"
           },
           "yaxis": {
            "backgroundcolor": "#E5ECF6",
            "gridcolor": "white",
            "gridwidth": 2,
            "linecolor": "white",
            "showbackground": true,
            "ticks": "",
            "zerolinecolor": "white"
           },
           "zaxis": {
            "backgroundcolor": "#E5ECF6",
            "gridcolor": "white",
            "gridwidth": 2,
            "linecolor": "white",
            "showbackground": true,
            "ticks": "",
            "zerolinecolor": "white"
           }
          },
          "shapedefaults": {
           "line": {
            "color": "#2a3f5f"
           }
          },
          "ternary": {
           "aaxis": {
            "gridcolor": "white",
            "linecolor": "white",
            "ticks": ""
           },
           "baxis": {
            "gridcolor": "white",
            "linecolor": "white",
            "ticks": ""
           },
           "bgcolor": "#E5ECF6",
           "caxis": {
            "gridcolor": "white",
            "linecolor": "white",
            "ticks": ""
           }
          },
          "title": {
           "x": 0.05
          },
          "xaxis": {
           "automargin": true,
           "gridcolor": "white",
           "linecolor": "white",
           "ticks": "",
           "title": {
            "standoff": 15
           },
           "zerolinecolor": "white",
           "zerolinewidth": 2
          },
          "yaxis": {
           "automargin": true,
           "gridcolor": "white",
           "linecolor": "white",
           "ticks": "",
           "title": {
            "standoff": 15
           },
           "zerolinecolor": "white",
           "zerolinewidth": 2
          }
         }
        }
       }
      },
      "text/html": [
       "<div>                            <div id=\"8f3cafbc-fb63-4c9a-8ff3-f1984566e2a1\" class=\"plotly-graph-div\" style=\"height:525px; width:100%;\"></div>            <script type=\"text/javascript\">                require([\"plotly\"], function(Plotly) {                    window.PLOTLYENV=window.PLOTLYENV || {};                                    if (document.getElementById(\"8f3cafbc-fb63-4c9a-8ff3-f1984566e2a1\")) {                    Plotly.newPlot(                        \"8f3cafbc-fb63-4c9a-8ff3-f1984566e2a1\",                        [{\"marker\":{\"color\":[0.29928806796995605,1.180587843152444,0.09848764962661757,-1.5298808786549063,1.2202550992352459,1.256524423305004,0.03528510710037289,-0.10921026428564627,0.5087016720058316,0.39447890691152887,3.4572089813080638,2.29426550460815,0.5892274337685699,0.6939668058053868,-0.03871465364873642,0.08590736062484924,1.8802506769280691,0.23416055494490653,0.4482129162114108,0.12294188699796388,-0.17917001720979325,-0.5429656821599136,0.5800601004515247,0.46612771175315104,-0.49661753434238537,-1.3429025834379247,-0.9603982103020782,0.4484981972882557,0.2465913138330407,0.7273257042833493,1.3747296005355647,-0.36512922895868133,-1.718848975809213,0.9558571598677422,-1.2111056705638326,0.11085240293914315,0.8500402291830703,0.6462635026326413,-0.07427460539314432,-1.9075132502510557,1.3832522808761305,-0.20334187964292483,-1.2779347522913589,-0.5421109120994342,-0.4617547153776051,0.566574167113913,-0.7474910933954187,0.06751210840134508,-0.45811589641736006,0.05791283568906854,0.869239441995878,1.3191663971159968,1.2168438109172661,0.04226274690056871,0.4348790572102126,-0.6253491046296829,-0.17111454611543145,0.4003415525281679,-1.5338817510106637,-2.57306621213737,-0.38278663622853415,-0.44730547884956834,-0.4288260135312148,0.1001066104112955,0.4816278032366635,0.06857437713766658,-0.5237663822080226,0.6823637719301366,0.30986161418590347,-1.0617124841987733,-0.24153191524525722,0.019269868744406293,0.9416339339685671,1.256123609631192,-0.42595966429265475,-0.8096379961220104,0.272056001545165,0.680596472174402,-0.5490638537008489,0.389338218696704,1.6648939414171842,-2.7707191473978625,1.0367012019816502,0.7331548751414839,-0.05692582267305822,1.282632524919121,-0.15435531159350357,-0.013172068519983164,-0.10930294245567763,0.8097662959124687,1.1799387564122592,0.45350027872202253,-0.11965202843514902,1.2731122171828033,-0.7206102563544913,0.8511885554396613,-0.30994623772314317,0.4360295804625041,-0.7201769609382005,0.19258618159133686,0.3588890753441584,0.4726472057132968,-0.016023957336995832,0.3365668080406377,-0.5131269495338393,2.004371295659264,1.6046221019932192,2.447401024519591,1.1670520210503221,1.1171558803116994,1.3045840944660982,0.519840405483843,0.413047351784154,0.48271492113940956,-1.5775498275157376,-2.1512502587081075,-0.5734334460687386,0.42656842899364716,-0.04768972224368861,-0.8345628554782053,-0.8041481969458223,0.6856218488388416,0.6029731811085052,0.6154299640146563,-0.7238494582232864,-0.7146318259837953,-1.4889718471444313,-0.14999274547494762,0.25146655898992726,-0.37465316148355227,-0.607868617569442,-0.12869100697377034,-0.08786653816081068,0.04764663607519605,-0.46123170939561625,-0.016558736328213156,0.6913167900503214,-0.45537427726584123,-0.5626631635023078,-0.16841729157662438,0.8957585756740519,-0.11171855488589355,-0.3702269033916668,0.9264153705153524,-0.7419471056249453,-1.1769177573030771,-0.27224716771976115,-0.06666547248775867,0.030614264389679256,-0.17058700677297278,0.05652444567453132,0.48414822415951214,2.525237338398921,-0.4146738680628318,-0.03081313046439752,0.6982333780618333,-2.0404073578075868,0.9029448761508494,0.5875969908348215,0.5504899678715359,-0.0036414058966518703,0.5164276357764663,0.03922420592229878,1.258726532215818,-0.690779889612985,-0.7070491272308268,-0.003483065468773914,0.7706185079905327,0.44902467012936453,-0.5345148549222456,0.3572876675409616,1.2275702655312601,1.4886256531928566,0.41856609065189704,-0.9441136933952996,0.042859010683808485,0.4877289641970462,1.271533098523461,-0.5340729067776339,0.23129801946004766,0.5788080973079417,1.4500497511724335,0.6828590316042649,-0.36251244925282133,2.2296673320144653,0.33152202562766225,-0.7161595269028901,-1.1714199284335585,-0.013557922470025557,0.9894488845727369,-1.0929175288946993,0.19706131819523784,1.014295792156882,-1.2582391947116716,-0.4576929480515006,2.3202051524463707,-0.4046823370645494,-0.42592814834374126,-1.0227511297953265,1.5919431197274547,1.1941751627539936,-0.5312997262811644,0.732554151495897,1.3947036628689948,-0.16053850688150115,-0.9164781872124946,-0.6082931084092187,-0.10412960432512142,-0.7298964309664997,-0.7189527031311039,1.0208803740120949,-0.5700151259722644,-0.19205285949115614,-0.9725113419290242,-0.43463428687410577,0.4680528946227094,-1.662309713990306,-0.16947379585374386,-0.5404884660612842,0.03358150528289775,1.132573931735443,0.5126680939904859,-0.34626533886654237,-0.23895284187099955,0.655964359520921,0.6615788360248299,0.5747038444832193,0.6986882721887702,-1.6284464124826492,-0.07023485377900372,0.9812664370153361,-0.14278737446892237,0.48750849494866644,0.01528700143746517,-0.30126906296457595,-2.5506010377110706,0.823965154073522,-0.5215500447240836,-1.7070624945414958,-1.2934607564779594,0.29747392210263024,-2.0292046845861913,-0.2998547052697356,1.8473402232841738,-0.5834997102108732,0.33685821648314385,-2.451905741883834,0.8966024425722469,0.3900157998555436,-0.681260448202298,-0.11547288195906145,0.47202538476546296,-1.3276732253574945,0.45190532110463544,-0.08447891000844818,1.1547906364518719,0.4604992498483268,-0.43030848469756894,-0.10086393757252175,-0.8848615575143821,0.44807023482945174,0.6864498012528559,-0.9081169792149582,1.9831225879379615,-0.4347446707748977,-1.7191991419006742,1.5953826327952054,-1.4735640123034826,1.4492958236365017,0.6800084767550444,1.6427120981590677,-1.4097055154640479,0.1227948306322028,0.2679395411862265,0.29884738238134234,1.3342693557414458,-2.0996681098817134,1.1359353573187823,-0.7501055715342368,-1.2100470777356456,-0.8809847182368222,-1.0088784014024803,-0.03657494318862756,0.23933261684757834,1.119788927510698,-1.3219872260011976,-0.8294797106379306,0.013487568273932146,0.3258537713407371,0.9090726145426187,1.434861746241494,0.7856800750653341,-0.9014212984478617,-0.4949771405761771,-0.0832645573096992,0.9354179369221715,0.31628636595078563,-0.9138708480567755,-0.8111111991924834,-0.7134033442112112,0.25757410428637806,-1.1139258945996282,0.16827726351183336,0.4452990629325026,0.20412178656901311,1.6250796805902163,1.5994499155288193,-0.31778430126965046,1.0947062622706287,0.1529402026925838,0.8269272006846152,-2.05581982069736,0.27661138755044873,-0.7464445819238633,-1.290153608133655,-0.6537803447205501,-0.00039550370591282154,-1.1007173352612818,0.6281747742732879,-0.9710346473322149,-0.6436774237274681,-0.381167280209067,1.083669653553075,-0.9966272268220439,0.9437333772962125,-1.595824050494487,0.9091488886755683,0.9864288745493446,-0.264282797085058,-0.3782792137733275,-1.1443627210542708,-0.9881984921740515,0.8369985060138836,1.2295754862408903,0.23135875217621515,-1.2950326974269784,-0.04556036872970221,-0.1303917870363764,1.3560888374621047,0.1540376782749953,-0.6864572941036571,-0.8404527040432497,-2.2883873316825594,0.4795118672702006,0.24122554564733742,0.056992922977378284,-2.6470211453395955,-1.039585218223323,-0.5635851508888889,-0.12078116968024029,1.1357219637818494,-0.7648638349046372,0.964446840430147,0.8065665192823138,-2.0234340514965408,-0.30137260503379404,-0.19994689083955966,0.3684413838683621,2.0554792475714696,-1.2168269538065442,0.6036101692498016,-1.5766791392351827,-1.5230197497185343,0.2616437552788637,-0.3111643844443873,0.63801434773565,-0.9766665778578539,0.4586317614932986,1.3907120029893392,-0.09724511274291374,-0.4435061627749626,-0.8200547371013427,-1.0569168528296216,0.6918244121783326,-0.9332484166148391,-0.23958880531383403,0.003468127907058456,0.3393949199826259,-0.02803431013878431,1.5147478330179174,-0.5922036721085546,0.2587303004033407,-0.557745463233263,-0.5676981744972036,-0.1182025980270201,-0.7247381859991524,-1.1258684419915095,0.145128035628542,0.39368497674572805,-0.6663015962508396,-0.16388398578000388,0.2847984798983727,-0.9422606405357135,-0.30481641137166143,-1.0085689582940198,-2.167764393630173,-0.20922622861843604,0.18973053534483783,0.21743770989807853,-1.3013109021692113],\"colorscale\":[[0.0,\"#440154\"],[0.1111111111111111,\"#482878\"],[0.2222222222222222,\"#3e4989\"],[0.3333333333333333,\"#31688e\"],[0.4444444444444444,\"#26828e\"],[0.5555555555555556,\"#1f9e89\"],[0.6666666666666666,\"#35b779\"],[0.7777777777777778,\"#6ece58\"],[0.8888888888888888,\"#b5de2b\"],[1.0,\"#fde725\"]],\"opacity\":0.8,\"size\":12},\"mode\":\"markers\",\"x\":[-0.40176697790426674,0.9408828449739828,1.1155768197408245,1.4912121755412615,-2.4281001925026193,1.4274455344245314,0.6770328595493481,0.15432603414601687,-2.3137259046602794,0.43967293808484786,0.49162298101072455,0.3151147193346618,-1.0848099381368408,-1.0030891725743636,-0.18052084611927963,-0.75461340729623,0.464135484011362,0.4266591230835113,-1.4266478216107554,0.7241437581232245,-0.007803256624095413,0.3124989958046108,0.2739776775420859,0.7255725781786538,-0.05587536372558636,0.29587274629119914,1.5457601569878503,0.9117383666756788,-0.029692236524030576,1.4067049719460865,0.7429892489011259,-0.36591983843563547,0.7592148583494025,0.5190617624008306,-0.5688494268182634,-0.48288385497639813,-1.016859800969074,0.0842155149815717,-0.13894236060613033,0.7040568692080259,0.2897569848265431,-1.0668868177120456,0.6309992714612209,0.053451166872832225,-0.9712496819890712,0.8111353803956014,-0.342113344660801,0.7453741496176173,0.15145359268619998,1.0899706504434301,0.5314995670471007,0.10938037928588287,-0.017782609310781416,0.371416894442011,2.0503008194671604,-1.159120452258501,-0.3763155665353943,-2.256359094672531,0.84184892049688,0.19926031608918177,0.269096482762683,-1.8554395392594132,-0.7639709845164014,0.7078586675287579,-0.8596366501133254,0.3756595953159061,-0.009577320846272577,0.22636290546103718,-0.4117239483319,2.0186645971139674,-2.0561677608360145,0.07140413769971536,-0.7729444331182933,-0.17803358130940505,-0.35672509679915215,0.9454319623410466,0.8812532409719503,-0.6329271091419333,0.9354219310223602,-0.08056752639967829,0.4862764513250453,1.657645328062591,-0.9065869650276,0.03673135424132008,-2.2206791102566044,-0.8236730626156709,0.4556086593259569,-1.6395771083668442,-0.20404104573174794,-2.1927226407511844,1.4988896219067123,0.7445545953919438,0.1637053044705862,0.07018742806339867,0.023099635755213375,0.847509033193804,1.300826778105126,1.195052503089743,-0.1354635312782697,0.5588410915735983,1.4099095233148602,-1.6669035392615752,-0.23120854047835027,-1.0236613198475712,0.015096737352416213,-0.16007099049869347,0.8828671559039734,0.3756380482680396,0.01296739508097972,-1.203622053221921,0.5000975278567442,0.9431433215190105,0.4294208071559245,-1.8889187605683933,0.033050874514359944,1.2751742479802735,-2.5601649155030226,1.4537035153732643,-0.5851401933859759,1.1579847345083696,-0.13180813361927335,-1.099269414507364,0.2535623985411761,1.3437201525259554,-0.5983007238456836,-1.8969937165385695,0.6149025003004597,0.47737764243716463,0.16236618100287226,1.7458417604834315,1.554881939638358,1.1189184154994494,-1.2303825700692859,-2.0554118449729546,-0.39595121572126,0.8738743246599845,-0.1903769187543639,-0.29212123678744967,-1.5068698251510082,0.3640334982361657,-0.80804738687213,-1.8165013510975088,0.44503620449508263,-1.1946752456382195,1.2837820380649452,0.38781208819194657,1.36771868182258,1.2207747134377052,0.13970476888408073,-0.8216720244504961,0.8640069070585661,1.1137444293931464,-0.6250387783099165,0.46982483873746655,-0.16201652434337652,-0.3991181724023285,1.7869035551949712,0.7774607071382867,-0.5596489461205673,1.8666091994338503,0.38340672960986005,-0.39617523748514155,0.7123652394250609,0.8002455259989714,0.016054450582258312,0.30320267510693666,-1.4586261639837972,1.0432262293924357,0.24230073577599012,-0.7398762045015516,0.5578884651461373,0.6562263569514398,1.2686757035674041,-0.35023832706525093,-0.026604741009671664,-3.104664484026572,0.19215570005412014,-0.5308001584479023,-0.5613193433956039,0.490139199382272,-1.9113840402369169,0.6547044554509165,1.130971663712045,0.6930240043434662,0.6148737505313128,0.5467758128009108,-0.8178586387080079,-0.8870104986405164,3.5056536373278098,2.314198109990966,0.6764645067066671,-0.6253206097991849,0.04455347237236234,0.5772837836838147,-1.1457563854449757,-0.04659735205066831,0.05387851257701926,-0.6057492228083354,-0.5203536936200542,0.6377472751970331,-0.45275239976745063,0.3680494821239915,0.44057189520041284,0.05100780109696434,-0.47688989978657137,0.7938605096408862,-0.6017151138167983,0.7659459732996396,-0.15969137224787283,0.6880234658735404,-0.3491240769426782,-0.03633101610847999,-0.19514888318535967,1.142901275503691,-1.6246644860933215,-1.7040604163025814,0.8071469594415123,-0.5178062057696368,1.8385115592323333,-0.0744084504906094,0.023529569231279756,-0.052485768162493715,0.7351498638947019,0.22420074212919142,-0.64052843075241,0.7347853207425381,-1.9742733291248502,1.9805602883038134,1.7492416010216514,0.9870627285112664,-0.7190525338506422,-0.43935424221229424,-0.8736143644146287,0.5931683776612793,0.11472880748459831,0.07561632111708695,-1.0704372185148752,-0.0883250771288213,-1.1773770105253298,-0.15972124281817493,1.5171969681679658,1.3736854629214879,-0.2135521481934571,-0.3528408252090894,-0.003951886867775366,-1.1731113733405296,1.6032412323068046,-0.5751490683854449,0.20075035489159399,0.19472188702508456,1.7261273131317825,0.3064598329099419,-0.009255798028713447,-0.2875391750330871,0.5275131849868507,-0.9255323781659869,-0.3046862114157485,-1.3184552452739946,0.09682168332805956,-1.621246693887512,-0.18837149842131748,1.4080834566576372,0.5506957712428653,0.9603963664583637,0.2970392093899093,-0.8678743591562192,-1.8105746093881494,0.8507531335478747,0.25100273671479434,0.8808325335799841,0.22460334820004701,1.1013588391740494,-1.0276700156486722,0.638344515061709,0.6543993389254212,1.1393910350108574,1.5368800762373585,-0.8298571795898526,-1.5868811741223647,-0.24314875013264686,0.18764580547646273,-1.709306914702294,0.2613868430690121,0.6324250377876435,0.9284749950615082,-1.0806719347733442,1.00777374903898,1.2903923317196584,-0.5562259674245584,1.597708994687537,-0.7232660397928571,-0.4040562883670722,0.051054363623821236,0.93449013512416,-0.3910812348978108,-2.0924366294904666,1.289018929590215,-0.3933591460204879,-1.25760967678558,-1.5961468354040287,0.8870009227867827,0.10614058493365452,-1.7876417364299715,-1.1905831507164362,-0.004949844160096664,-1.018459537701812,-0.08145843013204229,0.07139094357674101,1.7374642000583835,-0.16971385953988968,0.301445693867929,1.3136240721928087,-0.40895784577501304,-0.7166302098198659,0.5498752899741121,0.6033574603740823,0.020832668763012097,1.606876183591911,0.9293894329557717,-1.6131698780749275,-2.0575119247265397,0.6067138909183702,-1.9001692803998655,-1.1238992391801623,1.04756833655121,1.0286986310553388,-2.024019989730729,-0.5665367953713516,1.8737002144187296,-1.3312150988584386,-0.3048700996748728,-0.050281486878750996,-0.8055915862066234,-2.6193558653126594,0.5018063081340357,-0.4406655281442598,1.5241640222086223,-0.22347686808362816,-1.0131921195015727,-0.18573322659261463,0.5648670361790168,-0.10659836475966669,-1.088737592143338,-0.16361344476046927,0.3055489641474174,1.094550072413091,0.951892976724835,-0.8183338913542811,-1.404706416245466,0.23704490905987766,2.257709669214608,-1.654390535096355,0.6842078637628947,1.3945106713928062,-0.40179990078408645,-0.5339186089958183,-1.2791221093653067,0.7701631243703617,-0.7940365433322158,0.5006687378927629,0.8960881982469217,-1.4259695503947099,-0.41541773844574514,-0.3535294201810168,-0.6574284679384674,1.6775792218194903,-0.6027344214130316,0.9320818317186962,-2.0853847402061394,-1.1225323087592982,1.0558614151465386,-1.304566615235744,0.7671779804987615,0.23004673799710867,0.4596365111373849,-0.15426644975013015,-0.6743314032214964,1.2362338591115856,1.2539343501782865,0.8218019925713624,-0.2173859240863179,0.639288440180789,0.41856194634946786,-1.4615978483592413,0.11034027701640402,-1.3725961558963327,0.056491894890105025,-0.26261264061028694,-1.7084275736738301,-0.18794017224340667,1.2731910511530176,1.4048374635093874,1.3578249734271297,-0.07870849424999317,-0.43485810847036277,0.8889172105672698,0.842602985573972,-0.8716518074851595,0.12733850061482938,-0.14461324393219596],\"y\":[1.3757149344901423,1.7917678351167479,-1.4721969909188815,1.033093368717043,0.28663506534903266,0.1718519196687163,0.7590982040466319,-2.0549776034253955,-2.997801206885587,-0.42241648649291,1.2124502897629887,0.44071347392615723,0.26151741708578446,0.7911572408514914,-0.11670651952584675,-0.8198849695926954,2.0394247748826286,0.021836088955727903,-0.1877296816026263,0.20862835815111078,-1.0297690643057658,0.9896422045335173,-0.9892127854392,-1.9599057960412878,-0.5402716651289604,-0.1796362328580227,-0.710296215782697,-0.3893860538902186,0.3132444572669326,-0.9311187077535104,0.22529282743100162,-0.6110255052881699,-1.1942489133031526,0.42188080154369095,0.062173449639106315,0.07261859693314278,0.7420309574605385,1.1673448169746383,-0.6141453438099946,1.3950977257562918,-0.4057549866684066,0.12328307362897475,-1.430121034970824,0.6854567943685921,0.0524172105046898,-0.6603091213927009,-0.05546933439523442,-2.568355424621269,0.4189436959219412,-0.5335847060096034,-0.37684116029057263,-0.1959863681435205,0.37935262205563447,1.5857018642879468,0.8019898633253032,0.35417615558757426,0.11516351967038464,-0.539330857534972,0.12913046290981933,-0.30253937013023896,0.5296162624245622,0.10564425799195021,0.7888588304122632,1.2918359183188823,0.87458599061674,-0.10603692357197549,1.1538872163953586,0.10699424086923112,1.0061507689137374,-0.24928708213808923,0.22673074589954692,1.282536154167748,0.49740162718509956,-1.0794798538513846,0.2519737067234684,1.440955205394952,0.133363833929912,-0.0008235258656044029,0.8955932241395043,0.7460940528855213,-0.5010194046347193,-1.075199794113688,-0.054738140081316555,1.0674498106670738,-1.2733798109592673,-1.402021741920938,0.26915087644140506,1.7179584008437425,-0.1728841624958083,-1.7773969839350472,-1.6353531075947985,0.8560721524536693,0.33028705706714434,0.4853808742953092,0.8298739367950594,-0.07815994718244887,0.1805797048925762,-0.22982232971654576,-0.1427828360514061,-0.8923610004281611,-1.292192953091198,0.08944560630830115,0.44889880207986077,-0.6049881744757999,-0.24176763433917126,0.6879105431235963,0.2577928214989461,-1.2563404195243784,0.6796401955649803,-1.7121156483732394,-0.43631272309872715,0.30784611942695767,0.9152404765758746,2.605971104505048,-1.2121250487485564,-1.705569334705916,-2.1385252147682032,0.5176740627121216,-0.06931898251953376,0.7713918046572984,-0.7138053887772946,-3.8709314302456215,1.3765616877758113,0.7470348430457651,1.0899618791182926,0.36051945533162044,1.0529032562501588,0.4364344620278744,-0.32552905888037376,-0.33641144013010804,-0.6305839893280494,0.1741249641092808,0.8861501548036486,0.4145895776918966,1.1648659368025145,0.1925390009649049,0.4201298830613417,-0.2117449977016583,-0.03697459735668839,0.06222754952684322,1.9208300618973848,-0.8966061628988834,-0.6866480189247638,-0.9860867303090626,-0.6774497885823311,1.1986928132439956,-0.3198293112564581,-0.4320310285500175,-1.4609337440076646,0.32594170961661384,-0.2665482852637188,1.666567297579672,-0.7231491884479077,-0.413901641903881,1.4413265950897125,0.5247618398545173,1.561980846484563,1.1763994496319328,0.16072460043103554,0.5129053490101969,0.07009417065388986,1.016703469206019,0.5678745817932666,-1.352934978306363,0.792759229562498,-0.1523508505617965,-0.8738668140536232,0.6431802772966494,-0.21500121794317778,-0.4644445844694528,-0.9683287080430377,-1.0239581486710743,-2.431056741350983,0.11592485017624797,0.9141983672998333,0.8507069209889089,-0.6212729471291764,-1.087341380085401,-0.9263681889511091,-0.9436225226479924,0.7143991785858903,-3.392548837452928,-0.558753103580704,0.060491459721052146,-0.04255899280429773,-0.5036230193477189,1.8399598979274896,1.0430618121431585,-0.030086949942136936,0.0046533793094576,0.6123521228453026,-0.7965829996307213,-0.5335489595269739,1.1430176440415665,1.1602166144756032,-0.8098613204584972,-1.458688168991154,-1.3918898932493315,-0.7702611719479409,-0.198484568153579,-0.12091137711972709,-1.5975593915410031,1.3234090975017734,-0.29951685619111,-0.3145969620136771,0.5671721397874954,0.679225825535749,-2.1018511676199116,0.4261448602620342,0.05761162373473371,0.6197753875293076,-1.9368858845643386,-0.46061818384980197,0.3619512099559373,0.3889650840920888,-0.5882486774262338,0.6215649288807045,0.8080560099235696,-0.682497560967767,-0.11169552812594778,-0.6458323338673015,-0.4976257490769905,0.3844475021332079,0.6700750862611377,-0.9241326626869348,-1.115721222354192,-0.15342890158499936,-1.648960675741549,1.7172985307375142,-1.236168142388638,1.3340711034500747,0.3545249429497329,-0.34165489170726815,1.7490656870217969,-1.2303951888442208,0.36835302277270765,0.21326755745189444,0.8595039284517538,-0.7678521989658601,-2.433479406047289,-1.0198997753377086,-0.8458719776858122,0.9849540528716404,0.31330113732393267,2.381248994874169,-0.5987617363196338,-1.6148943480309483,1.3522675584452524,0.6833519550232066,0.5976437924991961,-0.9150867825002863,0.6489818199645566,0.7653688184392919,-0.7955195145891554,-1.3413117786354956,0.7853687723052413,0.9002792471618792,-2.2911603264171805,-0.399847144923469,0.03199871190962652,-0.7031521457212143,-0.9553118310819809,1.5658791261812022,0.5677221364538203,1.255381419795433,0.021692898409335054,-1.0176200249924796,0.022845039023410934,-0.0743613347433093,-0.4045833669910965,-0.0714977171032109,-0.5617109353582532,-1.7080661167471818,-1.2960394065943357,1.5597537929077439,0.010732536126673098,1.8518953945775556,0.9663106774497457,0.9763370057373125,1.313539701208814,-0.4843108149680118,0.13884815815127632,0.8245794323502883,-0.3784446564522323,2.9759232119246524,1.6689588755031397,0.20429087006228974,-0.666930172341588,0.4438584351843089,-0.2860003453877587,1.1601845685370358,-1.4487308143063546,-1.9746611160205583,0.11916760404185874,-0.5304569402301321,-1.2135659396651994,-0.6029973172218487,0.4756696295257572,-0.8382306961679239,-0.32775495691576106,0.4383188229719526,2.2924030288044785,0.7814320506644497,-0.5524532972076973,-0.051490136498270264,1.056694378080466,1.0873682915879808,-1.1626817320958402,0.08339776973001105,0.2877955468370097,-0.6986964161644509,0.29628763875861885,-0.26079284735510294,1.4353919658357812,-0.244095898147479,-0.2799102732362604,-0.04597529575129531,0.7651076806418708,-0.03330904966801911,1.0361230330179527,1.5614891936697128,-0.8201220118301819,-0.250281899336836,1.4247690564158688,-1.3981212753257253,0.26110723771027716,0.07072348892136565,0.5517370809148193,-1.4957775429952753,-0.05971904103831808,-0.05464041219099295,-1.9406815028774027,0.7176796054761099,-1.553199949864148,1.5517853133422426,1.2037555369346291,1.0606958019825279,1.3795877770008116,0.3538556006989172,0.6643210522146846,1.3762832933098028,0.0920584437246293,-0.3401495654862668,-0.8493615969339567,1.8189308825046098,-1.4770010344889475,-2.2633666693437178,-0.21813880668790714,-0.21606886949620507,-0.3056259343408371,-0.8699534351737123,-0.8102152615610339,0.8878288058648406,-0.8284138773962226,0.2838561565407149,1.4758274845133939,1.1967545152370562,1.4383958382030109,0.19588455899383905,-1.9889397223017768,0.19309856828382807,0.030497511315141217,-0.07320480475377225,-0.03025783325489046,0.2556090425153674,-0.7027156213543012,0.18486669487978818,0.8072954679022938,-0.36667706787608,-0.6807814120437716,1.1876435573359492,-0.1573863341166659,-0.8346116182936688,0.4606900442071102,-0.2978705965440081,1.3139001960519423,1.0303283774219156,-1.4423220082044157,-0.6631289144429685,0.5395847468139148,-0.05801049635731453,-0.801632242810772,-0.8155898565487172,-1.2881733707358156,1.2643902135252387,0.7519167626533924,0.4577523621073369,0.5145062004560761,0.12000408838924186,-0.7999508114021157,0.1491864595638048,0.4098087168391073,-0.4103546126360413,1.3642077865210476,0.32438182060458026,-1.0475646983948397,-0.4365618331867141,0.13678298437869513,0.8267846964981072,-0.7416871809047542],\"z\":[0.29928806796995605,1.180587843152444,0.09848764962661757,-1.5298808786549063,1.2202550992352459,1.256524423305004,0.03528510710037289,-0.10921026428564627,0.5087016720058316,0.39447890691152887,3.4572089813080638,2.29426550460815,0.5892274337685699,0.6939668058053868,-0.03871465364873642,0.08590736062484924,1.8802506769280691,0.23416055494490653,0.4482129162114108,0.12294188699796388,-0.17917001720979325,-0.5429656821599136,0.5800601004515247,0.46612771175315104,-0.49661753434238537,-1.3429025834379247,-0.9603982103020782,0.4484981972882557,0.2465913138330407,0.7273257042833493,1.3747296005355647,-0.36512922895868133,-1.718848975809213,0.9558571598677422,-1.2111056705638326,0.11085240293914315,0.8500402291830703,0.6462635026326413,-0.07427460539314432,-1.9075132502510557,1.3832522808761305,-0.20334187964292483,-1.2779347522913589,-0.5421109120994342,-0.4617547153776051,0.566574167113913,-0.7474910933954187,0.06751210840134508,-0.45811589641736006,0.05791283568906854,0.869239441995878,1.3191663971159968,1.2168438109172661,0.04226274690056871,0.4348790572102126,-0.6253491046296829,-0.17111454611543145,0.4003415525281679,-1.5338817510106637,-2.57306621213737,-0.38278663622853415,-0.44730547884956834,-0.4288260135312148,0.1001066104112955,0.4816278032366635,0.06857437713766658,-0.5237663822080226,0.6823637719301366,0.30986161418590347,-1.0617124841987733,-0.24153191524525722,0.019269868744406293,0.9416339339685671,1.256123609631192,-0.42595966429265475,-0.8096379961220104,0.272056001545165,0.680596472174402,-0.5490638537008489,0.389338218696704,1.6648939414171842,-2.7707191473978625,1.0367012019816502,0.7331548751414839,-0.05692582267305822,1.282632524919121,-0.15435531159350357,-0.013172068519983164,-0.10930294245567763,0.8097662959124687,1.1799387564122592,0.45350027872202253,-0.11965202843514902,1.2731122171828033,-0.7206102563544913,0.8511885554396613,-0.30994623772314317,0.4360295804625041,-0.7201769609382005,0.19258618159133686,0.3588890753441584,0.4726472057132968,-0.016023957336995832,0.3365668080406377,-0.5131269495338393,2.004371295659264,1.6046221019932192,2.447401024519591,1.1670520210503221,1.1171558803116994,1.3045840944660982,0.519840405483843,0.413047351784154,0.48271492113940956,-1.5775498275157376,-2.1512502587081075,-0.5734334460687386,0.42656842899364716,-0.04768972224368861,-0.8345628554782053,-0.8041481969458223,0.6856218488388416,0.6029731811085052,0.6154299640146563,-0.7238494582232864,-0.7146318259837953,-1.4889718471444313,-0.14999274547494762,0.25146655898992726,-0.37465316148355227,-0.607868617569442,-0.12869100697377034,-0.08786653816081068,0.04764663607519605,-0.46123170939561625,-0.016558736328213156,0.6913167900503214,-0.45537427726584123,-0.5626631635023078,-0.16841729157662438,0.8957585756740519,-0.11171855488589355,-0.3702269033916668,0.9264153705153524,-0.7419471056249453,-1.1769177573030771,-0.27224716771976115,-0.06666547248775867,0.030614264389679256,-0.17058700677297278,0.05652444567453132,0.48414822415951214,2.525237338398921,-0.4146738680628318,-0.03081313046439752,0.6982333780618333,-2.0404073578075868,0.9029448761508494,0.5875969908348215,0.5504899678715359,-0.0036414058966518703,0.5164276357764663,0.03922420592229878,1.258726532215818,-0.690779889612985,-0.7070491272308268,-0.003483065468773914,0.7706185079905327,0.44902467012936453,-0.5345148549222456,0.3572876675409616,1.2275702655312601,1.4886256531928566,0.41856609065189704,-0.9441136933952996,0.042859010683808485,0.4877289641970462,1.271533098523461,-0.5340729067776339,0.23129801946004766,0.5788080973079417,1.4500497511724335,0.6828590316042649,-0.36251244925282133,2.2296673320144653,0.33152202562766225,-0.7161595269028901,-1.1714199284335585,-0.013557922470025557,0.9894488845727369,-1.0929175288946993,0.19706131819523784,1.014295792156882,-1.2582391947116716,-0.4576929480515006,2.3202051524463707,-0.4046823370645494,-0.42592814834374126,-1.0227511297953265,1.5919431197274547,1.1941751627539936,-0.5312997262811644,0.732554151495897,1.3947036628689948,-0.16053850688150115,-0.9164781872124946,-0.6082931084092187,-0.10412960432512142,-0.7298964309664997,-0.7189527031311039,1.0208803740120949,-0.5700151259722644,-0.19205285949115614,-0.9725113419290242,-0.43463428687410577,0.4680528946227094,-1.662309713990306,-0.16947379585374386,-0.5404884660612842,0.03358150528289775,1.132573931735443,0.5126680939904859,-0.34626533886654237,-0.23895284187099955,0.655964359520921,0.6615788360248299,0.5747038444832193,0.6986882721887702,-1.6284464124826492,-0.07023485377900372,0.9812664370153361,-0.14278737446892237,0.48750849494866644,0.01528700143746517,-0.30126906296457595,-2.5506010377110706,0.823965154073522,-0.5215500447240836,-1.7070624945414958,-1.2934607564779594,0.29747392210263024,-2.0292046845861913,-0.2998547052697356,1.8473402232841738,-0.5834997102108732,0.33685821648314385,-2.451905741883834,0.8966024425722469,0.3900157998555436,-0.681260448202298,-0.11547288195906145,0.47202538476546296,-1.3276732253574945,0.45190532110463544,-0.08447891000844818,1.1547906364518719,0.4604992498483268,-0.43030848469756894,-0.10086393757252175,-0.8848615575143821,0.44807023482945174,0.6864498012528559,-0.9081169792149582,1.9831225879379615,-0.4347446707748977,-1.7191991419006742,1.5953826327952054,-1.4735640123034826,1.4492958236365017,0.6800084767550444,1.6427120981590677,-1.4097055154640479,0.1227948306322028,0.2679395411862265,0.29884738238134234,1.3342693557414458,-2.0996681098817134,1.1359353573187823,-0.7501055715342368,-1.2100470777356456,-0.8809847182368222,-1.0088784014024803,-0.03657494318862756,0.23933261684757834,1.119788927510698,-1.3219872260011976,-0.8294797106379306,0.013487568273932146,0.3258537713407371,0.9090726145426187,1.434861746241494,0.7856800750653341,-0.9014212984478617,-0.4949771405761771,-0.0832645573096992,0.9354179369221715,0.31628636595078563,-0.9138708480567755,-0.8111111991924834,-0.7134033442112112,0.25757410428637806,-1.1139258945996282,0.16827726351183336,0.4452990629325026,0.20412178656901311,1.6250796805902163,1.5994499155288193,-0.31778430126965046,1.0947062622706287,0.1529402026925838,0.8269272006846152,-2.05581982069736,0.27661138755044873,-0.7464445819238633,-1.290153608133655,-0.6537803447205501,-0.00039550370591282154,-1.1007173352612818,0.6281747742732879,-0.9710346473322149,-0.6436774237274681,-0.381167280209067,1.083669653553075,-0.9966272268220439,0.9437333772962125,-1.595824050494487,0.9091488886755683,0.9864288745493446,-0.264282797085058,-0.3782792137733275,-1.1443627210542708,-0.9881984921740515,0.8369985060138836,1.2295754862408903,0.23135875217621515,-1.2950326974269784,-0.04556036872970221,-0.1303917870363764,1.3560888374621047,0.1540376782749953,-0.6864572941036571,-0.8404527040432497,-2.2883873316825594,0.4795118672702006,0.24122554564733742,0.056992922977378284,-2.6470211453395955,-1.039585218223323,-0.5635851508888889,-0.12078116968024029,1.1357219637818494,-0.7648638349046372,0.964446840430147,0.8065665192823138,-2.0234340514965408,-0.30137260503379404,-0.19994689083955966,0.3684413838683621,2.0554792475714696,-1.2168269538065442,0.6036101692498016,-1.5766791392351827,-1.5230197497185343,0.2616437552788637,-0.3111643844443873,0.63801434773565,-0.9766665778578539,0.4586317614932986,1.3907120029893392,-0.09724511274291374,-0.4435061627749626,-0.8200547371013427,-1.0569168528296216,0.6918244121783326,-0.9332484166148391,-0.23958880531383403,0.003468127907058456,0.3393949199826259,-0.02803431013878431,1.5147478330179174,-0.5922036721085546,0.2587303004033407,-0.557745463233263,-0.5676981744972036,-0.1182025980270201,-0.7247381859991524,-1.1258684419915095,0.145128035628542,0.39368497674572805,-0.6663015962508396,-0.16388398578000388,0.2847984798983727,-0.9422606405357135,-0.30481641137166143,-1.0085689582940198,-2.167764393630173,-0.20922622861843604,0.18973053534483783,0.21743770989807853,-1.3013109021692113],\"type\":\"scatter3d\"}],                        {\"margin\":{\"b\":0,\"l\":0,\"r\":0,\"t\":0},\"template\":{\"data\":{\"barpolar\":[{\"marker\":{\"line\":{\"color\":\"#E5ECF6\",\"width\":0.5},\"pattern\":{\"fillmode\":\"overlay\",\"size\":10,\"solidity\":0.2}},\"type\":\"barpolar\"}],\"bar\":[{\"error_x\":{\"color\":\"#2a3f5f\"},\"error_y\":{\"color\":\"#2a3f5f\"},\"marker\":{\"line\":{\"color\":\"#E5ECF6\",\"width\":0.5},\"pattern\":{\"fillmode\":\"overlay\",\"size\":10,\"solidity\":0.2}},\"type\":\"bar\"}],\"carpet\":[{\"aaxis\":{\"endlinecolor\":\"#2a3f5f\",\"gridcolor\":\"white\",\"linecolor\":\"white\",\"minorgridcolor\":\"white\",\"startlinecolor\":\"#2a3f5f\"},\"baxis\":{\"endlinecolor\":\"#2a3f5f\",\"gridcolor\":\"white\",\"linecolor\":\"white\",\"minorgridcolor\":\"white\",\"startlinecolor\":\"#2a3f5f\"},\"type\":\"carpet\"}],\"choropleth\":[{\"colorbar\":{\"outlinewidth\":0,\"ticks\":\"\"},\"type\":\"choropleth\"}],\"contourcarpet\":[{\"colorbar\":{\"outlinewidth\":0,\"ticks\":\"\"},\"type\":\"contourcarpet\"}],\"contour\":[{\"colorbar\":{\"outlinewidth\":0,\"ticks\":\"\"},\"colorscale\":[[0.0,\"#0d0887\"],[0.1111111111111111,\"#46039f\"],[0.2222222222222222,\"#7201a8\"],[0.3333333333333333,\"#9c179e\"],[0.4444444444444444,\"#bd3786\"],[0.5555555555555556,\"#d8576b\"],[0.6666666666666666,\"#ed7953\"],[0.7777777777777778,\"#fb9f3a\"],[0.8888888888888888,\"#fdca26\"],[1.0,\"#f0f921\"]],\"type\":\"contour\"}],\"heatmapgl\":[{\"colorbar\":{\"outlinewidth\":0,\"ticks\":\"\"},\"colorscale\":[[0.0,\"#0d0887\"],[0.1111111111111111,\"#46039f\"],[0.2222222222222222,\"#7201a8\"],[0.3333333333333333,\"#9c179e\"],[0.4444444444444444,\"#bd3786\"],[0.5555555555555556,\"#d8576b\"],[0.6666666666666666,\"#ed7953\"],[0.7777777777777778,\"#fb9f3a\"],[0.8888888888888888,\"#fdca26\"],[1.0,\"#f0f921\"]],\"type\":\"heatmapgl\"}],\"heatmap\":[{\"colorbar\":{\"outlinewidth\":0,\"ticks\":\"\"},\"colorscale\":[[0.0,\"#0d0887\"],[0.1111111111111111,\"#46039f\"],[0.2222222222222222,\"#7201a8\"],[0.3333333333333333,\"#9c179e\"],[0.4444444444444444,\"#bd3786\"],[0.5555555555555556,\"#d8576b\"],[0.6666666666666666,\"#ed7953\"],[0.7777777777777778,\"#fb9f3a\"],[0.8888888888888888,\"#fdca26\"],[1.0,\"#f0f921\"]],\"type\":\"heatmap\"}],\"histogram2dcontour\":[{\"colorbar\":{\"outlinewidth\":0,\"ticks\":\"\"},\"colorscale\":[[0.0,\"#0d0887\"],[0.1111111111111111,\"#46039f\"],[0.2222222222222222,\"#7201a8\"],[0.3333333333333333,\"#9c179e\"],[0.4444444444444444,\"#bd3786\"],[0.5555555555555556,\"#d8576b\"],[0.6666666666666666,\"#ed7953\"],[0.7777777777777778,\"#fb9f3a\"],[0.8888888888888888,\"#fdca26\"],[1.0,\"#f0f921\"]],\"type\":\"histogram2dcontour\"}],\"histogram2d\":[{\"colorbar\":{\"outlinewidth\":0,\"ticks\":\"\"},\"colorscale\":[[0.0,\"#0d0887\"],[0.1111111111111111,\"#46039f\"],[0.2222222222222222,\"#7201a8\"],[0.3333333333333333,\"#9c179e\"],[0.4444444444444444,\"#bd3786\"],[0.5555555555555556,\"#d8576b\"],[0.6666666666666666,\"#ed7953\"],[0.7777777777777778,\"#fb9f3a\"],[0.8888888888888888,\"#fdca26\"],[1.0,\"#f0f921\"]],\"type\":\"histogram2d\"}],\"histogram\":[{\"marker\":{\"pattern\":{\"fillmode\":\"overlay\",\"size\":10,\"solidity\":0.2}},\"type\":\"histogram\"}],\"mesh3d\":[{\"colorbar\":{\"outlinewidth\":0,\"ticks\":\"\"},\"type\":\"mesh3d\"}],\"parcoords\":[{\"line\":{\"colorbar\":{\"outlinewidth\":0,\"ticks\":\"\"}},\"type\":\"parcoords\"}],\"pie\":[{\"automargin\":true,\"type\":\"pie\"}],\"scatter3d\":[{\"line\":{\"colorbar\":{\"outlinewidth\":0,\"ticks\":\"\"}},\"marker\":{\"colorbar\":{\"outlinewidth\":0,\"ticks\":\"\"}},\"type\":\"scatter3d\"}],\"scattercarpet\":[{\"marker\":{\"colorbar\":{\"outlinewidth\":0,\"ticks\":\"\"}},\"type\":\"scattercarpet\"}],\"scattergeo\":[{\"marker\":{\"colorbar\":{\"outlinewidth\":0,\"ticks\":\"\"}},\"type\":\"scattergeo\"}],\"scattergl\":[{\"marker\":{\"colorbar\":{\"outlinewidth\":0,\"ticks\":\"\"}},\"type\":\"scattergl\"}],\"scattermapbox\":[{\"marker\":{\"colorbar\":{\"outlinewidth\":0,\"ticks\":\"\"}},\"type\":\"scattermapbox\"}],\"scatterpolargl\":[{\"marker\":{\"colorbar\":{\"outlinewidth\":0,\"ticks\":\"\"}},\"type\":\"scatterpolargl\"}],\"scatterpolar\":[{\"marker\":{\"colorbar\":{\"outlinewidth\":0,\"ticks\":\"\"}},\"type\":\"scatterpolar\"}],\"scatter\":[{\"marker\":{\"colorbar\":{\"outlinewidth\":0,\"ticks\":\"\"}},\"type\":\"scatter\"}],\"scatterternary\":[{\"marker\":{\"colorbar\":{\"outlinewidth\":0,\"ticks\":\"\"}},\"type\":\"scatterternary\"}],\"surface\":[{\"colorbar\":{\"outlinewidth\":0,\"ticks\":\"\"},\"colorscale\":[[0.0,\"#0d0887\"],[0.1111111111111111,\"#46039f\"],[0.2222222222222222,\"#7201a8\"],[0.3333333333333333,\"#9c179e\"],[0.4444444444444444,\"#bd3786\"],[0.5555555555555556,\"#d8576b\"],[0.6666666666666666,\"#ed7953\"],[0.7777777777777778,\"#fb9f3a\"],[0.8888888888888888,\"#fdca26\"],[1.0,\"#f0f921\"]],\"type\":\"surface\"}],\"table\":[{\"cells\":{\"fill\":{\"color\":\"#EBF0F8\"},\"line\":{\"color\":\"white\"}},\"header\":{\"fill\":{\"color\":\"#C8D4E3\"},\"line\":{\"color\":\"white\"}},\"type\":\"table\"}]},\"layout\":{\"annotationdefaults\":{\"arrowcolor\":\"#2a3f5f\",\"arrowhead\":0,\"arrowwidth\":1},\"autotypenumbers\":\"strict\",\"coloraxis\":{\"colorbar\":{\"outlinewidth\":0,\"ticks\":\"\"}},\"colorscale\":{\"diverging\":[[0,\"#8e0152\"],[0.1,\"#c51b7d\"],[0.2,\"#de77ae\"],[0.3,\"#f1b6da\"],[0.4,\"#fde0ef\"],[0.5,\"#f7f7f7\"],[0.6,\"#e6f5d0\"],[0.7,\"#b8e186\"],[0.8,\"#7fbc41\"],[0.9,\"#4d9221\"],[1,\"#276419\"]],\"sequential\":[[0.0,\"#0d0887\"],[0.1111111111111111,\"#46039f\"],[0.2222222222222222,\"#7201a8\"],[0.3333333333333333,\"#9c179e\"],[0.4444444444444444,\"#bd3786\"],[0.5555555555555556,\"#d8576b\"],[0.6666666666666666,\"#ed7953\"],[0.7777777777777778,\"#fb9f3a\"],[0.8888888888888888,\"#fdca26\"],[1.0,\"#f0f921\"]],\"sequentialminus\":[[0.0,\"#0d0887\"],[0.1111111111111111,\"#46039f\"],[0.2222222222222222,\"#7201a8\"],[0.3333333333333333,\"#9c179e\"],[0.4444444444444444,\"#bd3786\"],[0.5555555555555556,\"#d8576b\"],[0.6666666666666666,\"#ed7953\"],[0.7777777777777778,\"#fb9f3a\"],[0.8888888888888888,\"#fdca26\"],[1.0,\"#f0f921\"]]},\"colorway\":[\"#636efa\",\"#EF553B\",\"#00cc96\",\"#ab63fa\",\"#FFA15A\",\"#19d3f3\",\"#FF6692\",\"#B6E880\",\"#FF97FF\",\"#FECB52\"],\"font\":{\"color\":\"#2a3f5f\"},\"geo\":{\"bgcolor\":\"white\",\"lakecolor\":\"white\",\"landcolor\":\"#E5ECF6\",\"showlakes\":true,\"showland\":true,\"subunitcolor\":\"white\"},\"hoverlabel\":{\"align\":\"left\"},\"hovermode\":\"closest\",\"mapbox\":{\"style\":\"light\"},\"paper_bgcolor\":\"white\",\"plot_bgcolor\":\"#E5ECF6\",\"polar\":{\"angularaxis\":{\"gridcolor\":\"white\",\"linecolor\":\"white\",\"ticks\":\"\"},\"bgcolor\":\"#E5ECF6\",\"radialaxis\":{\"gridcolor\":\"white\",\"linecolor\":\"white\",\"ticks\":\"\"}},\"scene\":{\"xaxis\":{\"backgroundcolor\":\"#E5ECF6\",\"gridcolor\":\"white\",\"gridwidth\":2,\"linecolor\":\"white\",\"showbackground\":true,\"ticks\":\"\",\"zerolinecolor\":\"white\"},\"yaxis\":{\"backgroundcolor\":\"#E5ECF6\",\"gridcolor\":\"white\",\"gridwidth\":2,\"linecolor\":\"white\",\"showbackground\":true,\"ticks\":\"\",\"zerolinecolor\":\"white\"},\"zaxis\":{\"backgroundcolor\":\"#E5ECF6\",\"gridcolor\":\"white\",\"gridwidth\":2,\"linecolor\":\"white\",\"showbackground\":true,\"ticks\":\"\",\"zerolinecolor\":\"white\"}},\"shapedefaults\":{\"line\":{\"color\":\"#2a3f5f\"}},\"ternary\":{\"aaxis\":{\"gridcolor\":\"white\",\"linecolor\":\"white\",\"ticks\":\"\"},\"baxis\":{\"gridcolor\":\"white\",\"linecolor\":\"white\",\"ticks\":\"\"},\"bgcolor\":\"#E5ECF6\",\"caxis\":{\"gridcolor\":\"white\",\"linecolor\":\"white\",\"ticks\":\"\"}},\"title\":{\"x\":0.05},\"xaxis\":{\"automargin\":true,\"gridcolor\":\"white\",\"linecolor\":\"white\",\"ticks\":\"\",\"title\":{\"standoff\":15},\"zerolinecolor\":\"white\",\"zerolinewidth\":2},\"yaxis\":{\"automargin\":true,\"gridcolor\":\"white\",\"linecolor\":\"white\",\"ticks\":\"\",\"title\":{\"standoff\":15},\"zerolinecolor\":\"white\",\"zerolinewidth\":2}}}},                        {\"responsive\": true}                    ).then(function(){\n",
       "                            \n",
       "var gd = document.getElementById('8f3cafbc-fb63-4c9a-8ff3-f1984566e2a1');\n",
       "var x = new MutationObserver(function (mutations, observer) {{\n",
       "        var display = window.getComputedStyle(gd).display;\n",
       "        if (!display || display === 'none') {{\n",
       "            console.log([gd, 'removed!']);\n",
       "            Plotly.purge(gd);\n",
       "            observer.disconnect();\n",
       "        }}\n",
       "}});\n",
       "\n",
       "// Listen for the removal of the full notebook cells\n",
       "var notebookContainer = gd.closest('#notebook-container');\n",
       "if (notebookContainer) {{\n",
       "    x.observe(notebookContainer, {childList: true});\n",
       "}}\n",
       "\n",
       "// Listen for the clearing of the current output cell\n",
       "var outputEl = gd.closest('.output');\n",
       "if (outputEl) {{\n",
       "    x.observe(outputEl, {childList: true});\n",
       "}}\n",
       "\n",
       "                        })                };                });            </script>        </div>"
      ]
     },
     "metadata": {},
     "output_type": "display_data"
    }
   ],
   "source": [
    "x, y, z = np.random.multivariate_normal(np.array([0,0,0]), np.eye(3), 400).transpose()\n",
    "\n",
    "trace1 = go.Scatter3d(\n",
    "    x=x,\n",
    "    y=y,\n",
    "    z=z,\n",
    "    mode='markers',\n",
    "    marker=dict(\n",
    "            size=12,\n",
    "            color=z,\n",
    "            colorscale='Viridis',\n",
    "            opacity=0.8\n",
    "    )\n",
    ")\n",
    "\n",
    "data = [trace1]\n",
    "layout = go.Layout(\n",
    "    margin=dict(\n",
    "        l=0,\n",
    "        r=0,\n",
    "        b=0,\n",
    "        t=0\n",
    "    )\n",
    ")\n",
    "fig = go.Figure(data=data, layout=layout)\n",
    "plotly.offline.iplot(fig, filename='3d-scatter-colorscale')"
   ]
  },
  {
   "cell_type": "code",
   "execution_count": null,
   "id": "4368d9ff",
   "metadata": {},
   "outputs": [],
   "source": []
  }
 ],
 "metadata": {
  "kernelspec": {
   "display_name": "Python 3 (ipykernel)",
   "language": "python",
   "name": "python3"
  },
  "language_info": {
   "codemirror_mode": {
    "name": "ipython",
    "version": 3
   },
   "file_extension": ".py",
   "mimetype": "text/x-python",
   "name": "python",
   "nbconvert_exporter": "python",
   "pygments_lexer": "ipython3",
   "version": "3.9.12"
  }
 },
 "nbformat": 4,
 "nbformat_minor": 5
}
